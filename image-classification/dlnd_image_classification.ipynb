{
 "cells": [
  {
   "cell_type": "markdown",
   "metadata": {
    "collapsed": true
   },
   "source": [
    "# Image Classification\n",
    "In this project, you'll classify images from the [CIFAR-10 dataset](https://www.cs.toronto.edu/~kriz/cifar.html).  The dataset consists of airplanes, dogs, cats, and other objects. You'll preprocess the images, then train a convolutional neural network on all the samples. The images need to be normalized and the labels need to be one-hot encoded.  You'll get to apply what you learned and build a convolutional, max pooling, dropout, and fully connected layers.  At the end, you'll get to see your neural network's predictions on the sample images.\n",
    "## Get the Data\n",
    "Run the following cell to download the [CIFAR-10 dataset for python](https://www.cs.toronto.edu/~kriz/cifar-10-python.tar.gz)."
   ]
  },
  {
   "cell_type": "code",
   "execution_count": 1,
   "metadata": {},
   "outputs": [
    {
     "name": "stdout",
     "output_type": "stream",
     "text": [
      "All files found!\n"
     ]
    }
   ],
   "source": [
    "\"\"\"\n",
    "DON'T MODIFY ANYTHING IN THIS CELL THAT IS BELOW THIS LINE\n",
    "\"\"\"\n",
    "from urllib.request import urlretrieve\n",
    "from os.path import isfile, isdir\n",
    "from tqdm import tqdm\n",
    "import problem_unittests as tests\n",
    "import tarfile\n",
    "\n",
    "cifar10_dataset_folder_path = 'cifar-10-batches-py'\n",
    "\n",
    "# Use Floyd's cifar-10 dataset if present\n",
    "floyd_cifar10_location = '/input/cifar-10/python.tar.gz'\n",
    "if isfile(floyd_cifar10_location):\n",
    "    tar_gz_path = floyd_cifar10_location\n",
    "else:\n",
    "    tar_gz_path = 'cifar-10-python.tar.gz'\n",
    "\n",
    "class DLProgress(tqdm):\n",
    "    last_block = 0\n",
    "\n",
    "    def hook(self, block_num=1, block_size=1, total_size=None):\n",
    "        self.total = total_size\n",
    "        self.update((block_num - self.last_block) * block_size)\n",
    "        self.last_block = block_num\n",
    "\n",
    "if not isfile(tar_gz_path):\n",
    "    with DLProgress(unit='B', unit_scale=True, miniters=1, desc='CIFAR-10 Dataset') as pbar:\n",
    "        urlretrieve(\n",
    "            'https://www.cs.toronto.edu/~kriz/cifar-10-python.tar.gz',\n",
    "            tar_gz_path,\n",
    "            pbar.hook)\n",
    "\n",
    "if not isdir(cifar10_dataset_folder_path):\n",
    "    with tarfile.open(tar_gz_path) as tar:\n",
    "        tar.extractall()\n",
    "        tar.close()\n",
    "\n",
    "\n",
    "tests.test_folder_path(cifar10_dataset_folder_path)"
   ]
  },
  {
   "cell_type": "markdown",
   "metadata": {},
   "source": [
    "## Explore the Data\n",
    "The dataset is broken into batches to prevent your machine from running out of memory.  The CIFAR-10 dataset consists of 5 batches, named `data_batch_1`, `data_batch_2`, etc.. Each batch contains the labels and images that are one of the following:\n",
    "* airplane\n",
    "* automobile\n",
    "* bird\n",
    "* cat\n",
    "* deer\n",
    "* dog\n",
    "* frog\n",
    "* horse\n",
    "* ship\n",
    "* truck\n",
    "\n",
    "Understanding a dataset is part of making predictions on the data.  Play around with the code cell below by changing the `batch_id` and `sample_id`. The `batch_id` is the id for a batch (1-5). The `sample_id` is the id for a image and label pair in the batch.\n",
    "\n",
    "Ask yourself \"What are all possible labels?\", \"What is the range of values for the image data?\", \"Are the labels in order or random?\".  Answers to questions like these will help you preprocess the data and end up with better predictions."
   ]
  },
  {
   "cell_type": "code",
   "execution_count": 2,
   "metadata": {},
   "outputs": [
    {
     "name": "stdout",
     "output_type": "stream",
     "text": [
      "\n",
      "Stats of batch 1:\n",
      "Samples: 10000\n",
      "Label Counts: {0: 1005, 1: 974, 2: 1032, 3: 1016, 4: 999, 5: 937, 6: 1030, 7: 1001, 8: 1025, 9: 981}\n",
      "First 20 Labels: [6, 9, 9, 4, 1, 1, 2, 7, 8, 3, 4, 7, 7, 2, 9, 9, 9, 3, 2, 6]\n",
      "\n",
      "Example of Image 17:\n",
      "Image - Min Value: 25 Max Value: 225\n",
      "Image - Shape: (32, 32, 3)\n",
      "Label - Label Id: 3 Name: cat\n"
     ]
    },
    {
     "data": {
      "image/png": "[encoded data removed]",
      "text/plain": [
       "<matplotlib.figure.Figure at 0x116bb3ac8>"
      ]
     },
     "metadata": {
      "image/png": {
       "height": 250,
       "width": 253
      }
     },
     "output_type": "display_data"
    }
   ],
   "source": [
    "%matplotlib inline\n",
    "%config InlineBackend.figure_format = 'retina'\n",
    "\n",
    "import helper\n",
    "import numpy as np\n",
    "\n",
    "# Explore the dataset\n",
    "batch_id = 1\n",
    "sample_id = 17\n",
    "helper.display_stats(cifar10_dataset_folder_path, batch_id, sample_id)"
   ]
  },
  {
   "cell_type": "markdown",
   "metadata": {},
   "source": [
    "## Implement Preprocess Functions\n",
    "### Normalize\n",
    "In the cell below, implement the `normalize` function to take in image data, `x`, and return it as a normalized Numpy array. The values should be in the range of 0 to 1, inclusive.  The return object should be the same shape as `x`."
   ]
  },
  {
   "cell_type": "code",
   "execution_count": 3,
   "metadata": {},
   "outputs": [
    {
     "name": "stdout",
     "output_type": "stream",
     "text": [
      "Tests Passed\n"
     ]
    }
   ],
   "source": [
    "def normalize(x):\n",
    "    \"\"\"\n",
    "    Normalize a list of sample image data in the range of 0 to 1\n",
    "    : x: List of image data.  The image shape is (32, 32, 3)\n",
    "    : return: Numpy array of normalize data\n",
    "    \"\"\"\n",
    "    # TODO: Implement Function\n",
    "    np_x = np.array(x)\n",
    "    norm_x = (np_x)/255 # current normalization only divides by max value\n",
    "    # ANOTHER METHOD with range from -1 to 1\n",
    "    # (x - mean)/std = in an image mean=128 (expected) \n",
    "    #and std=128 (expected) since we want to center our distribution in 0. If 255 colors, approx -128..0..128\n",
    "    return norm_x\n",
    "\n",
    "\n",
    "\"\"\"\n",
    "DON'T MODIFY ANYTHING IN THIS CELL THAT IS BELOW THIS LINE\n",
    "\"\"\"\n",
    "tests.test_normalize(normalize)"
   ]
  },
  {
   "cell_type": "markdown",
   "metadata": {},
   "source": [
    "### One-hot encode\n",
    "Just like the previous code cell, you'll be implementing a function for preprocessing.  This time, you'll implement the `one_hot_encode` function. The input, `x`, are a list of labels.  Implement the function to return the list of labels as One-Hot encoded Numpy array.  The possible values for labels are 0 to 9. The one-hot encoding function should return the same encoding for each value between each call to `one_hot_encode`.  Make sure to save the map of encodings outside the function.\n",
    "\n",
    "Hint: Don't reinvent the wheel."
   ]
  },
  {
   "cell_type": "code",
   "execution_count": 4,
   "metadata": {},
   "outputs": [
    {
     "name": "stdout",
     "output_type": "stream",
     "text": [
      "Tests Passed\n"
     ]
    }
   ],
   "source": [
    "from sklearn import preprocessing \n",
    "\n",
    "def one_hot_encode(x):\n",
    "    \"\"\"\n",
    "    One hot encode a list of sample labels. Return a one-hot encoded vector for each label.\n",
    "    : x: List of sample Labels\n",
    "    : return: Numpy array of one-hot encoded labels\n",
    "    \"\"\"\n",
    "    # TODO: Implement Function\n",
    "    encode = preprocessing.LabelBinarizer()\n",
    "    encode.fit([0,1,2,3,4,5,6,7,8,9]) #possible values of labels to be encoded in vectors of 0's and 1's\n",
    "    \n",
    "    #show the encoding that corresponds to each label\n",
    "    #print (encode.classes_) \n",
    "    #print (encode.transform([9,8,7,6,5,4,3,2,1,0]))\n",
    "    \n",
    "    labels_one_hot_encode = encode.transform(x) # encodes the labels with 0,1 values based on labelID [0,9]\n",
    "    \n",
    "    return labels_one_hot_encode\n",
    "\n",
    "\n",
    "\"\"\"\n",
    "DON'T MODIFY ANYTHING IN THIS CELL THAT IS BELOW THIS LINE\n",
    "\"\"\"\n",
    "tests.test_one_hot_encode(one_hot_encode)"
   ]
  },
  {
   "cell_type": "markdown",
   "metadata": {},
   "source": [
    "### Randomize Data\n",
    "As you saw from exploring the data above, the order of the samples are randomized.  It doesn't hurt to randomize it again, but you don't need to for this dataset."
   ]
  },
  {
   "cell_type": "markdown",
   "metadata": {},
   "source": [
    "## Preprocess all the data and save it\n",
    "Running the code cell below will preprocess all the CIFAR-10 data and save it to file. The code below also uses 10% of the training data for validation."
   ]
  },
  {
   "cell_type": "code",
   "execution_count": 5,
   "metadata": {
    "collapsed": true
   },
   "outputs": [],
   "source": [
    "\"\"\"\n",
    "DON'T MODIFY ANYTHING IN THIS CELL\n",
    "\"\"\"\n",
    "# Preprocess Training, Validation, and Testing Data\n",
    "helper.preprocess_and_save_data(cifar10_dataset_folder_path, normalize, one_hot_encode)"
   ]
  },
  {
   "cell_type": "markdown",
   "metadata": {},
   "source": [
    "# Check Point\n",
    "This is your first checkpoint.  If you ever decide to come back to this notebook or have to restart the notebook, you can start from here.  The preprocessed data has been saved to disk."
   ]
  },
  {
   "cell_type": "code",
   "execution_count": 6,
   "metadata": {
    "collapsed": true
   },
   "outputs": [],
   "source": [
    "\"\"\"\n",
    "DON'T MODIFY ANYTHING IN THIS CELL\n",
    "\"\"\"\n",
    "import pickle\n",
    "import problem_unittests as tests\n",
    "import helper\n",
    "\n",
    "# Load the Preprocessed Validation data\n",
    "valid_features, valid_labels = pickle.load(open('preprocess_validation.p', mode='rb'))"
   ]
  },
  {
   "cell_type": "markdown",
   "metadata": {},
   "source": [
    "## Build the network\n",
    "For the neural network, you'll build each layer into a function.  Most of the code you've seen has been outside of functions. To test your code more thoroughly, we require that you put each layer in a function.  This allows us to give you better feedback and test for simple mistakes using our unittests before you submit your project.\n",
    "\n",
    ">**Note:** If you're finding it hard to dedicate enough time for this course each week, we've provided a small shortcut to this part of the project. In the next couple of problems, you'll have the option to use classes from the [TensorFlow Layers](https://www.tensorflow.org/api_docs/python/tf/layers) or [TensorFlow Layers (contrib)](https://www.tensorflow.org/api_guides/python/contrib.layers) packages to build each layer, except the layers you build in the \"Convolutional and Max Pooling Layer\" section.  TF Layers is similar to Keras's and TFLearn's abstraction to layers, so it's easy to pickup.\n",
    "\n",
    ">However, if you would like to get the most out of this course, try to solve all the problems _without_ using anything from the TF Layers packages. You **can** still use classes from other packages that happen to have the same name as ones you find in TF Layers! For example, instead of using the TF Layers version of the `conv2d` class, [tf.layers.conv2d](https://www.tensorflow.org/api_docs/python/tf/layers/conv2d), you would want to use the TF Neural Network version of `conv2d`, [tf.nn.conv2d](https://www.tensorflow.org/api_docs/python/tf/nn/conv2d). \n",
    "\n",
    "Let's begin!\n",
    "\n",
    "### Input\n",
    "The neural network needs to read the image data, one-hot encoded labels, and dropout keep probability. Implement the following functions\n",
    "* Implement `neural_net_image_input`\n",
    " * Return a [TF Placeholder](https://www.tensorflow.org/api_docs/python/tf/placeholder)\n",
    " * Set the shape using `image_shape` with batch size set to `None`.\n",
    " * Name the TensorFlow placeholder \"x\" using the TensorFlow `name` parameter in the [TF Placeholder](https://www.tensorflow.org/api_docs/python/tf/placeholder).\n",
    "* Implement `neural_net_label_input`\n",
    " * Return a [TF Placeholder](https://www.tensorflow.org/api_docs/python/tf/placeholder)\n",
    " * Set the shape using `n_classes` with batch size set to `None`.\n",
    " * Name the TensorFlow placeholder \"y\" using the TensorFlow `name` parameter in the [TF Placeholder](https://www.tensorflow.org/api_docs/python/tf/placeholder).\n",
    "* Implement `neural_net_keep_prob_input`\n",
    " * Return a [TF Placeholder](https://www.tensorflow.org/api_docs/python/tf/placeholder) for dropout keep probability.\n",
    " * Name the TensorFlow placeholder \"keep_prob\" using the TensorFlow `name` parameter in the [TF Placeholder](https://www.tensorflow.org/api_docs/python/tf/placeholder).\n",
    "\n",
    "These names will be used at the end of the project to load your saved model.\n",
    "\n",
    "Note: `None` for shapes in TensorFlow allow for a dynamic size."
   ]
  },
  {
   "cell_type": "code",
   "execution_count": 7,
   "metadata": {},
   "outputs": [
    {
     "name": "stdout",
     "output_type": "stream",
     "text": [
      "Image Input Tests Passed.\n",
      "Label Input Tests Passed.\n",
      "Keep Prob Tests Passed.\n"
     ]
    }
   ],
   "source": [
    "import tensorflow as tf\n",
    "\n",
    "def neural_net_image_input(image_shape):\n",
    "    \"\"\"\n",
    "    Return a Tensor for a batch of image input\n",
    "    : image_shape: Shape of the images\n",
    "    : return: Tensor for image input.\n",
    "    \"\"\"\n",
    "    # TODO: Implement Function\n",
    "    batch_size = None\n",
    "    return tf.placeholder(tf.float32, shape=([batch_size, image_shape[0], image_shape[1], image_shape[2]]), name=\"x\")\n",
    "\n",
    "\n",
    "def neural_net_label_input(n_classes):\n",
    "    \"\"\"\n",
    "    Return a Tensor for a batch of label input\n",
    "    : n_classes: Number of classes\n",
    "    : return: Tensor for label input.\n",
    "    \"\"\"\n",
    "    # TODO: Implement Function\n",
    "    batch_size = None\n",
    "    return tf.placeholder(tf.float32, shape=([batch_size, n_classes]), name=\"y\")\n",
    "\n",
    "\n",
    "def neural_net_keep_prob_input():\n",
    "    \"\"\"\n",
    "    Return a Tensor for keep probability\n",
    "    : return: Tensor for keep probability.\n",
    "    \"\"\"\n",
    "    # TODO: Implement Function\n",
    "    return tf.placeholder(tf.float32, shape=None, name=\"keep_prob\")\n",
    "\n",
    "\n",
    "\"\"\"\n",
    "DON'T MODIFY ANYTHING IN THIS CELL THAT IS BELOW THIS LINE\n",
    "\"\"\"\n",
    "tf.reset_default_graph()\n",
    "tests.test_nn_image_inputs(neural_net_image_input)\n",
    "tests.test_nn_label_inputs(neural_net_label_input)\n",
    "tests.test_nn_keep_prob_inputs(neural_net_keep_prob_input)"
   ]
  },
  {
   "cell_type": "markdown",
   "metadata": {},
   "source": [
    "### Convolution and Max Pooling Layer\n",
    "Convolution layers have a lot of success with images. For this code cell, you should implement the function `conv2d_maxpool` to apply convolution then max pooling:\n",
    "* Create the weight and bias using `conv_ksize`, `conv_num_outputs` and the shape of `x_tensor`.\n",
    "* Apply a convolution to `x_tensor` using weight and `conv_strides`.\n",
    " * We recommend you use same padding, but you're welcome to use any padding.\n",
    "* Add bias\n",
    "* Add a nonlinear activation to the convolution.\n",
    "* Apply Max Pooling using `pool_ksize` and `pool_strides`.\n",
    " * We recommend you use same padding, but you're welcome to use any padding.\n",
    "\n",
    "**Note:** You **can't** use [TensorFlow Layers](https://www.tensorflow.org/api_docs/python/tf/layers) or [TensorFlow Layers (contrib)](https://www.tensorflow.org/api_guides/python/contrib.layers) for **this** layer, but you can still use TensorFlow's [Neural Network](https://www.tensorflow.org/api_docs/python/tf/nn) package. You may still use the shortcut option for all the **other** layers."
   ]
  },
  {
   "cell_type": "code",
   "execution_count": 8,
   "metadata": {},
   "outputs": [
    {
     "name": "stdout",
     "output_type": "stream",
     "text": [
      "Tests Passed\n"
     ]
    }
   ],
   "source": [
    "def conv2d_maxpool(x_tensor, conv_num_outputs, conv_ksize, conv_strides, pool_ksize, pool_strides):\n",
    "    \"\"\"\n",
    "    Apply convolution then max pooling to x_tensor\n",
    "    :param x_tensor: TensorFlow Tensor\n",
    "    :param conv_num_outputs: Number of outputs for the convolutional layer\n",
    "    :param conv_ksize: kernal size 2-D Tuple for the convolutional layer\n",
    "    :param conv_strides: Stride 2-D Tuple for convolution\n",
    "    :param pool_ksize: kernal size 2-D Tuple for pool\n",
    "    :param pool_strides: Stride 2-D Tuple for pool\n",
    "    : return: A tensor that represents convolution and max pooling of x_tensor\n",
    "    \"\"\"\n",
    "    # TODO: Implement Function\n",
    "    #weights\n",
    "    filter_height  = conv_ksize[0]\n",
    "    filter_width   = conv_ksize[1]\n",
    "    color_channels = x_tensor.get_shape().as_list()[-1] # to read last value of list that contains the number of color channels \n",
    "    weights = tf.Variable(tf.truncated_normal([filter_height,filter_width,color_channels,conv_num_outputs], mean=0.0, stddev=0.1))\n",
    "    \n",
    "    #bias\n",
    "    bias = tf.Variable(tf.zeros(conv_num_outputs))\n",
    "    \n",
    "    #Convolution\n",
    "    #batch and channel are commonly set to 1\n",
    "    conv_batch_size = 1\n",
    "    conv_channel_size = 1\n",
    "    conv_strides4D = [conv_batch_size, conv_strides[0], conv_strides[1], conv_channel_size]\n",
    "    conv_layer = tf.nn.conv2d(x_tensor, weights, conv_strides4D, padding='SAME')\n",
    "    \n",
    "    #Add Bias\n",
    "    conv_layer = tf.nn.bias_add(conv_layer, bias)\n",
    "    \n",
    "    #Non-linear activation \n",
    "    conv_layer = tf.nn.relu(conv_layer)\n",
    "    \n",
    "    #Max pooling\n",
    "    # batch and channel are commonly set to 1\n",
    "    pool_batch_size = 1\n",
    "    pool_channel_size = 1\n",
    "    pool_ksize4D = [pool_batch_size, pool_ksize[0], pool_ksize[1], pool_channel_size]\n",
    "    pool_strides4D = [1, pool_strides[0], pool_strides[1], 1]\n",
    "    conv_layer = tf.nn.max_pool(conv_layer, pool_ksize4D, pool_strides4D, padding='SAME')\n",
    "    \n",
    "    return conv_layer\n",
    "\n",
    "\n",
    "\"\"\"\n",
    "DON'T MODIFY ANYTHING IN THIS CELL THAT IS BELOW THIS LINE\n",
    "\"\"\"\n",
    "tests.test_con_pool(conv2d_maxpool)"
   ]
  },
  {
   "cell_type": "markdown",
   "metadata": {},
   "source": [
    "### Flatten Layer\n",
    "Implement the `flatten` function to change the dimension of `x_tensor` from a 4-D tensor to a 2-D tensor.  The output should be the shape (*Batch Size*, *Flattened Image Size*). Shortcut option: you can use classes from the [TensorFlow Layers](https://www.tensorflow.org/api_docs/python/tf/layers) or [TensorFlow Layers (contrib)](https://www.tensorflow.org/api_guides/python/contrib.layers) packages for this layer. For more of a challenge, only use other TensorFlow packages."
   ]
  },
  {
   "cell_type": "code",
   "execution_count": 9,
   "metadata": {
    "scrolled": true
   },
   "outputs": [
    {
     "name": "stdout",
     "output_type": "stream",
     "text": [
      "Tests Passed\n"
     ]
    }
   ],
   "source": [
    "def flatten(x_tensor):\n",
    "    \"\"\"\n",
    "    Flatten x_tensor to (Batch Size, Flattened Image Size)\n",
    "    : x_tensor: A tensor of size (Batch Size, ...), where ... are the image dimensions.\n",
    "    : return: A tensor of size (Batch Size, Flattened Image Size).\n",
    "    \"\"\"\n",
    "    # TODO: Implement Function\n",
    "    \n",
    "    # First way to do this\n",
    "    # Need to convert the get_shape() result to int() since at this point is a class Dimension object\n",
    "    flat_image = np.prod(x_tensor.get_shape()[1:])\n",
    "    x_tensor_flatten = tf.reshape(x_tensor,[-1, int(flat_image)])\n",
    "        \n",
    "    # Second way to do it\n",
    "    # No Need to convert the get_shape().as_list() result since it is already an int\n",
    "    #flat_image2 = np.prod(x_tensor.get_shape().as_list()[1:])\n",
    "    #x_tensor_flatten2 = tf.reshape(x_tensor,[-1, flat_image])\n",
    "    \n",
    "    return x_tensor_flatten\n",
    "\n",
    "\n",
    "\"\"\"\n",
    "DON'T MODIFY ANYTHING IN THIS CELL THAT IS BELOW THIS LINE\n",
    "\"\"\"\n",
    "tests.test_flatten(flatten)"
   ]
  },
  {
   "cell_type": "markdown",
   "metadata": {},
   "source": [
    "### Fully-Connected Layer\n",
    "Implement the `fully_conn` function to apply a fully connected layer to `x_tensor` with the shape (*Batch Size*, *num_outputs*). Shortcut option: you can use classes from the [TensorFlow Layers](https://www.tensorflow.org/api_docs/python/tf/layers) or [TensorFlow Layers (contrib)](https://www.tensorflow.org/api_guides/python/contrib.layers) packages for this layer. For more of a challenge, only use other TensorFlow packages."
   ]
  },
  {
   "cell_type": "code",
   "execution_count": 10,
   "metadata": {},
   "outputs": [
    {
     "name": "stdout",
     "output_type": "stream",
     "text": [
      "Tests Passed\n"
     ]
    }
   ],
   "source": [
    "def fully_conn(x_tensor, num_outputs):\n",
    "    \"\"\"\n",
    "    Apply a fully connected layer to x_tensor using weight and bias\n",
    "    : x_tensor: A 2-D tensor where the first dimension is batch size.\n",
    "    : num_outputs: The number of output that the new tensor should be.\n",
    "    : return: A 2-D tensor where the second dimension is num_outputs.\n",
    "    \"\"\"\n",
    "    # TODO: Implement Function\n",
    "    keep_prob = tf.constant(0.5)\n",
    "    batch_size, num_inputs = x_tensor.get_shape().as_list()\n",
    "    weights = tf.Variable(tf.truncated_normal([num_inputs, num_outputs], mean=0.0, stddev=0.1))\n",
    "    bias = tf.Variable(tf.zeros(num_outputs))\n",
    "    fc = tf.matmul(x_tensor, weights) + bias\n",
    "    fc = tf.nn.relu(fc)\n",
    "    #fc = tf.nn.dropout(fc,keep_prob)\n",
    "    \n",
    "    return fc\n",
    "\n",
    "\n",
    "\"\"\"\n",
    "DON'T MODIFY ANYTHING IN THIS CELL THAT IS BELOW THIS LINE\n",
    "\"\"\"\n",
    "tests.test_fully_conn(fully_conn)"
   ]
  },
  {
   "cell_type": "markdown",
   "metadata": {},
   "source": [
    "### Output Layer\n",
    "Implement the `output` function to apply a fully connected layer to `x_tensor` with the shape (*Batch Size*, *num_outputs*). Shortcut option: you can use classes from the [TensorFlow Layers](https://www.tensorflow.org/api_docs/python/tf/layers) or [TensorFlow Layers (contrib)](https://www.tensorflow.org/api_guides/python/contrib.layers) packages for this layer. For more of a challenge, only use other TensorFlow packages.\n",
    "\n",
    "**Note:** Activation, softmax, or cross entropy should **not** be applied to this."
   ]
  },
  {
   "cell_type": "code",
   "execution_count": 11,
   "metadata": {},
   "outputs": [
    {
     "name": "stdout",
     "output_type": "stream",
     "text": [
      "Tests Passed\n"
     ]
    }
   ],
   "source": [
    "def output(x_tensor, num_outputs):\n",
    "    \"\"\"\n",
    "    Apply a output layer to x_tensor using weight and bias\n",
    "    : x_tensor: A 2-D tensor where the first dimension is batch size.\n",
    "    : num_outputs: The number of output that the new tensor should be.\n",
    "    : return: A 2-D tensor where the second dimension is num_outputs.\n",
    "    \"\"\"\n",
    "    # TODO: Implement Function\n",
    "    keep_prob = tf.constant(0.5)\n",
    "    batch_size, num_inputs = x_tensor.get_shape().as_list()\n",
    "    weights = tf.Variable(tf.truncated_normal([num_inputs, num_outputs], mean=0.0, stddev=0.1))\n",
    "    bias = tf.Variable(tf.zeros(num_outputs))\n",
    "    logits = tf.matmul(x_tensor, weights) + bias\n",
    "    prediction = tf.nn.relu(logits)\n",
    "    #prediction = tf.nn.dropout(prediction, keep_prob)\n",
    "    \n",
    "    return prediction\n",
    "\n",
    "\n",
    "\"\"\"\n",
    "DON'T MODIFY ANYTHING IN THIS CELL THAT IS BELOW THIS LINE\n",
    "\"\"\"\n",
    "tests.test_output(output)"
   ]
  },
  {
   "cell_type": "markdown",
   "metadata": {},
   "source": [
    "### Create Convolutional Model\n",
    "Implement the function `conv_net` to create a convolutional neural network model. The function takes in a batch of images, `x`, and outputs logits.  Use the layers you created above to create this model:\n",
    "\n",
    "* Apply 1, 2, or 3 Convolution and Max Pool layers\n",
    "* Apply a Flatten Layer\n",
    "* Apply 1, 2, or 3 Fully Connected Layers\n",
    "* Apply an Output Layer\n",
    "* Return the output\n",
    "* Apply [TensorFlow's Dropout](https://www.tensorflow.org/api_docs/python/tf/nn/dropout) to one or more layers in the model using `keep_prob`. "
   ]
  },
  {
   "cell_type": "code",
   "execution_count": 35,
   "metadata": {
    "scrolled": true
   },
   "outputs": [
    {
     "name": "stdout",
     "output_type": "stream",
     "text": [
      "Neural Network Built!\n"
     ]
    }
   ],
   "source": [
    "def conv_net(x, keep_prob):\n",
    "    \"\"\"\n",
    "    Create a convolutional neural network model\n",
    "    : x: Placeholder tensor that holds image data.\n",
    "    : keep_prob: Placeholder tensor that hold dropout keep probability.\n",
    "    : return: Tensor that represents logits\n",
    "    \"\"\"\n",
    "    # TODO: Apply 1, 2, or 3 Convolution and Max Pool layers\n",
    "    #    Play around with different number of outputs, kernel size and stride\n",
    "    # Function Definition from Above:\n",
    "    #    conv2d_maxpool(x_tensor, conv_num_outputs, conv_ksize, conv_strides, pool_ksize, pool_strides)\n",
    "    # (x_tensor, conv_num_outputs, conv_ksize, conv_strides, pool_ksize, pool_strides)\n",
    "    \n",
    "    conv_num_outputs =  [16,40,60] #[36,70,100]\n",
    "    conv_ksize = [[5,5],[5,5],[5,5]] #[[3,3],[3,3],[1,1]]\n",
    "    conv_strides = [1,1]\n",
    "    pool_ksize = [[2,2],[2,2],[2,2]]\n",
    "    pool_strides = [2,2]\n",
    "    \n",
    "    x_conv = conv2d_maxpool(x, conv_num_outputs[0], conv_ksize[0], conv_strides, pool_ksize[0], pool_strides)\n",
    "    x_conv = conv2d_maxpool(x_conv, conv_num_outputs[1], conv_ksize[1], conv_strides, pool_ksize[1], pool_strides)\n",
    "    x_conv = conv2d_maxpool(x_conv, conv_num_outputs[2], conv_ksize[2], conv_strides, pool_ksize[2], pool_strides)\n",
    "    \n",
    "\n",
    "    # TODO: Apply a Flatten Layer\n",
    "    # Function Definition from Above:\n",
    "    #   flatten(x_tensor)\n",
    "    x_flat = flatten(x_conv)\n",
    "    \n",
    "\n",
    "    # TODO: Apply 1, 2, or 3 Fully Connected Layers\n",
    "    #    Play around with different number of outputs\n",
    "    # Function Definition from Above:\n",
    "    #   fully_conn(x_tensor, num_outputs)\n",
    "    x_fc = tf.nn.dropout(fully_conn(x_flat, 120), keep_prob)\n",
    "    x_fc = tf.nn.dropout(fully_conn(x_fc, 85), keep_prob)\n",
    "    x_fc = tf.nn.dropout(fully_conn(x_fc, 25), keep_prob)\n",
    "    \n",
    "    # TODO: Apply an Output Layer\n",
    "    #    Set this to the number of classes\n",
    "    # Function Definition from Above:\n",
    "    #   output(x_tensor, num_outputs)\n",
    "    num_outputs_pred = 10\n",
    "    x_predict =tf.nn.dropout(output(x_fc, num_outputs_pred), keep_prob)\n",
    "    \n",
    "    # TODO: return output\n",
    "    return x_predict\n",
    "\n",
    "\n",
    "\"\"\"\n",
    "DON'T MODIFY ANYTHING IN THIS CELL THAT IS BELOW THIS LINE\n",
    "\"\"\"\n",
    "\n",
    "##############################\n",
    "## Build the Neural Network ##\n",
    "##############################\n",
    "\n",
    "# Remove previous weights, bias, inputs, etc..\n",
    "tf.reset_default_graph()\n",
    "\n",
    "# Inputs\n",
    "x = neural_net_image_input((32, 32, 3))\n",
    "y = neural_net_label_input(10)\n",
    "keep_prob = neural_net_keep_prob_input()\n",
    "\n",
    "# Model\n",
    "logits = conv_net(x, keep_prob)\n",
    "\n",
    "# Name logits Tensor, so that is can be loaded from disk after training\n",
    "logits = tf.identity(logits, name='logits')\n",
    "\n",
    "# Loss and Optimizer\n",
    "cost = tf.reduce_mean(tf.nn.softmax_cross_entropy_with_logits(logits=logits, labels=y))\n",
    "optimizer = tf.train.AdamOptimizer().minimize(cost)\n",
    "\n",
    "# Accuracy\n",
    "correct_pred = tf.equal(tf.argmax(logits, 1), tf.argmax(y, 1))\n",
    "accuracy = tf.reduce_mean(tf.cast(correct_pred, tf.float32), name='accuracy')\n",
    "\n",
    "tests.test_conv_net(conv_net)"
   ]
  },
  {
   "cell_type": "markdown",
   "metadata": {},
   "source": [
    "## Train the Neural Network\n",
    "### Single Optimization\n",
    "Implement the function `train_neural_network` to do a single optimization.  The optimization should use `optimizer` to optimize in `session` with a `feed_dict` of the following:\n",
    "* `x` for image input\n",
    "* `y` for labels\n",
    "* `keep_prob` for keep probability for dropout\n",
    "\n",
    "This function will be called for each batch, so `tf.global_variables_initializer()` has already been called.\n",
    "\n",
    "Note: Nothing needs to be returned. This function is only optimizing the neural network."
   ]
  },
  {
   "cell_type": "code",
   "execution_count": 23,
   "metadata": {},
   "outputs": [
    {
     "name": "stdout",
     "output_type": "stream",
     "text": [
      "Tests Passed\n"
     ]
    }
   ],
   "source": [
    "def train_neural_network(session, optimizer, keep_probability, feature_batch, label_batch):\n",
    "    \"\"\"\n",
    "    Optimize the session on a batch of images and labels\n",
    "    : session: Current TensorFlow session\n",
    "    : optimizer: TensorFlow optimizer function\n",
    "    : keep_probability: keep probability\n",
    "    : feature_batch: Batch of Numpy image data\n",
    "    : label_batch: Batch of Numpy label data\n",
    "    \"\"\"\n",
    "    # TODO: Implement Function\n",
    "    train_feed_dict ={x: feature_batch, y: label_batch, keep_prob: keep_probability}\n",
    "    session.run(optimizer, feed_dict=train_feed_dict)\n",
    "    \n",
    "    #pass\n",
    "\n",
    "\n",
    "\"\"\"\n",
    "DON'T MODIFY ANYTHING IN THIS CELL THAT IS BELOW THIS LINE\n",
    "\"\"\"\n",
    "tests.test_train_nn(train_neural_network)"
   ]
  },
  {
   "cell_type": "markdown",
   "metadata": {},
   "source": [
    "### Show Stats\n",
    "Implement the function `print_stats` to print loss and validation accuracy.  Use the global variables `valid_features` and `valid_labels` to calculate validation accuracy.  Use a keep probability of `1.0` to calculate the loss and validation accuracy."
   ]
  },
  {
   "cell_type": "code",
   "execution_count": 24,
   "metadata": {
    "collapsed": true
   },
   "outputs": [],
   "source": [
    "def print_stats(session, feature_batch, label_batch, cost, accuracy):\n",
    "    \"\"\"\n",
    "    Print information about loss and validation accuracy\n",
    "    : session: Current TensorFlow session\n",
    "    : feature_batch: Batch of Numpy image data\n",
    "    : label_batch: Batch of Numpy label data\n",
    "    : cost: TensorFlow cost function\n",
    "    : accuracy: TensorFlow accuracy function\n",
    "    \"\"\"\n",
    "    # TODO: Implement Function\n",
    "    #pass\n",
    "    val_feed_dict = {x: feature_batch, y: label_batch, keep_prob: 1.0}\n",
    "    validation_cost = session.run(cost, feed_dict=val_feed_dict)\n",
    "    validation_accuracy = session.run(accuracy, feed_dict=val_feed_dict)\n",
    "    print('Validation accuracy at {} --- Validation cost at {} '.format(validation_accuracy, validation_cost))"
   ]
  },
  {
   "cell_type": "markdown",
   "metadata": {},
   "source": [
    "### Hyperparameters\n",
    "Tune the following parameters:\n",
    "* Set `epochs` to the number of iterations until the network stops learning or start overfitting\n",
    "* Set `batch_size` to the highest number that your machine has memory for.  Most people set them to common sizes of memory:\n",
    " * 64\n",
    " * 128\n",
    " * 256\n",
    " * ...\n",
    "* Set `keep_probability` to the probability of keeping a node using dropout"
   ]
  },
  {
   "cell_type": "code",
   "execution_count": 40,
   "metadata": {
    "collapsed": true
   },
   "outputs": [],
   "source": [
    "# TODO: Tune Parameters\n",
    "epochs = 25\n",
    "batch_size = 64\n",
    "keep_probability = 0.75"
   ]
  },
  {
   "cell_type": "markdown",
   "metadata": {},
   "source": [
    "### Train on a Single CIFAR-10 Batch\n",
    "Instead of training the neural network on all the CIFAR-10 batches of data, let's use a single batch. This should save time while you iterate on the model to get a better accuracy.  Once the final validation accuracy is 50% or greater, run the model on all the data in the next section."
   ]
  },
  {
   "cell_type": "code",
   "execution_count": 36,
   "metadata": {
    "scrolled": true
   },
   "outputs": [
    {
     "name": "stdout",
     "output_type": "stream",
     "text": [
      "Checking the Training on a Single Batch...\n",
      "Epoch  1, CIFAR-10 Batch 1:  Validation accuracy at 0.20000000298023224 --- Validation cost at 2.2084097862243652 \n",
      "Epoch  2, CIFAR-10 Batch 1:  Validation accuracy at 0.2750000059604645 --- Validation cost at 2.072190761566162 \n",
      "Epoch  3, CIFAR-10 Batch 1:  Validation accuracy at 0.42500001192092896 --- Validation cost at 1.9395701885223389 \n",
      "Epoch  4, CIFAR-10 Batch 1:  Validation accuracy at 0.44999998807907104 --- Validation cost at 1.8153419494628906 \n",
      "Epoch  5, CIFAR-10 Batch 1:  Validation accuracy at 0.42500001192092896 --- Validation cost at 1.695621132850647 \n",
      "Epoch  6, CIFAR-10 Batch 1:  Validation accuracy at 0.5249999761581421 --- Validation cost at 1.666189193725586 \n",
      "Epoch  7, CIFAR-10 Batch 1:  Validation accuracy at 0.574999988079071 --- Validation cost at 1.4938411712646484 \n",
      "Epoch  8, CIFAR-10 Batch 1:  Validation accuracy at 0.6000000238418579 --- Validation cost at 1.4386054277420044 \n",
      "Epoch  9, CIFAR-10 Batch 1:  Validation accuracy at 0.5249999761581421 --- Validation cost at 1.3374097347259521 \n",
      "Epoch 10, CIFAR-10 Batch 1:  Validation accuracy at 0.675000011920929 --- Validation cost at 1.260976791381836 \n"
     ]
    }
   ],
   "source": [
    "\"\"\"\n",
    "DON'T MODIFY ANYTHING IN THIS CELL\n",
    "\"\"\"\n",
    "print('Checking the Training on a Single Batch...')\n",
    "with tf.Session() as sess:\n",
    "    # Initializing the variables\n",
    "    sess.run(tf.global_variables_initializer())\n",
    "    \n",
    "    # Training cycle\n",
    "    for epoch in range(epochs):\n",
    "        batch_i = 1\n",
    "        for batch_features, batch_labels in helper.load_preprocess_training_batch(batch_i, batch_size):\n",
    "            train_neural_network(sess, optimizer, keep_probability, batch_features, batch_labels)\n",
    "        print('Epoch {:>2}, CIFAR-10 Batch {}:  '.format(epoch + 1, batch_i), end='')\n",
    "        print_stats(sess, batch_features, batch_labels, cost, accuracy)"
   ]
  },
  {
   "cell_type": "markdown",
   "metadata": {},
   "source": [
    "### Fully Train the Model\n",
    "Now that you got a good accuracy with a single CIFAR-10 batch, try it with all five batches."
   ]
  },
  {
   "cell_type": "code",
   "execution_count": 41,
   "metadata": {},
   "outputs": [
    {
     "name": "stdout",
     "output_type": "stream",
     "text": [
      "Training...\n",
      "Epoch  1, CIFAR-10 Batch 1:  Validation accuracy at 0.22499999403953552 --- Validation cost at 2.243957757949829 \n",
      "Epoch  1, CIFAR-10 Batch 2:  Validation accuracy at 0.17499999701976776 --- Validation cost at 2.2655704021453857 \n",
      "Epoch  1, CIFAR-10 Batch 3:  Validation accuracy at 0.2750000059604645 --- Validation cost at 2.094238758087158 \n",
      "Epoch  1, CIFAR-10 Batch 4:  Validation accuracy at 0.25 --- Validation cost at 2.036141872406006 \n",
      "Epoch  1, CIFAR-10 Batch 5:  Validation accuracy at 0.42500001192092896 --- Validation cost at 1.8432865142822266 \n",
      "Epoch  2, CIFAR-10 Batch 1:  Validation accuracy at 0.44999998807907104 --- Validation cost at 1.8436343669891357 \n",
      "Epoch  2, CIFAR-10 Batch 2:  Validation accuracy at 0.42500001192092896 --- Validation cost at 1.8133882284164429 \n",
      "Epoch  2, CIFAR-10 Batch 3:  Validation accuracy at 0.4749999940395355 --- Validation cost at 1.751712441444397 \n",
      "Epoch  2, CIFAR-10 Batch 4:  Validation accuracy at 0.5249999761581421 --- Validation cost at 1.7454971075057983 \n",
      "Epoch  2, CIFAR-10 Batch 5:  Validation accuracy at 0.4749999940395355 --- Validation cost at 1.782379388809204 \n",
      "Epoch  3, CIFAR-10 Batch 1:  Validation accuracy at 0.5249999761581421 --- Validation cost at 1.623250961303711 \n",
      "Epoch  3, CIFAR-10 Batch 2:  Validation accuracy at 0.42500001192092896 --- Validation cost at 1.7610948085784912 \n",
      "Epoch  3, CIFAR-10 Batch 3:  Validation accuracy at 0.6000000238418579 --- Validation cost at 1.6261100769042969 \n",
      "Epoch  3, CIFAR-10 Batch 4:  Validation accuracy at 0.574999988079071 --- Validation cost at 1.4657981395721436 \n",
      "Epoch  3, CIFAR-10 Batch 5:  Validation accuracy at 0.574999988079071 --- Validation cost at 1.5474669933319092 \n",
      "Epoch  4, CIFAR-10 Batch 1:  Validation accuracy at 0.6000000238418579 --- Validation cost at 1.3881224393844604 \n",
      "Epoch  4, CIFAR-10 Batch 2:  Validation accuracy at 0.550000011920929 --- Validation cost at 1.3457313776016235 \n",
      "Epoch  4, CIFAR-10 Batch 3:  Validation accuracy at 0.6000000238418579 --- Validation cost at 1.2946860790252686 \n",
      "Epoch  4, CIFAR-10 Batch 4:  Validation accuracy at 0.625 --- Validation cost at 1.2253844738006592 \n",
      "Epoch  4, CIFAR-10 Batch 5:  Validation accuracy at 0.7250000238418579 --- Validation cost at 1.2865430116653442 \n",
      "Epoch  5, CIFAR-10 Batch 1:  Validation accuracy at 0.550000011920929 --- Validation cost at 1.378401517868042 \n",
      "Epoch  5, CIFAR-10 Batch 2:  Validation accuracy at 0.699999988079071 --- Validation cost at 1.1646654605865479 \n",
      "Epoch  5, CIFAR-10 Batch 3:  Validation accuracy at 0.6499999761581421 --- Validation cost at 1.1217271089553833 \n",
      "Epoch  5, CIFAR-10 Batch 4:  Validation accuracy at 0.699999988079071 --- Validation cost at 1.0146169662475586 \n",
      "Epoch  5, CIFAR-10 Batch 5:  Validation accuracy at 0.6499999761581421 --- Validation cost at 1.1785309314727783 \n",
      "Epoch  6, CIFAR-10 Batch 1:  Validation accuracy at 0.625 --- Validation cost at 1.191400170326233 \n",
      "Epoch  6, CIFAR-10 Batch 2:  Validation accuracy at 0.574999988079071 --- Validation cost at 1.1161777973175049 \n",
      "Epoch  6, CIFAR-10 Batch 3:  Validation accuracy at 0.7749999761581421 --- Validation cost at 0.9638002514839172 \n",
      "Epoch  6, CIFAR-10 Batch 4:  Validation accuracy at 0.699999988079071 --- Validation cost at 1.040155291557312 \n",
      "Epoch  6, CIFAR-10 Batch 5:  Validation accuracy at 0.6499999761581421 --- Validation cost at 1.148166298866272 \n",
      "Epoch  7, CIFAR-10 Batch 1:  Validation accuracy at 0.6499999761581421 --- Validation cost at 1.1360728740692139 \n",
      "Epoch  7, CIFAR-10 Batch 2:  Validation accuracy at 0.699999988079071 --- Validation cost at 0.9894367456436157 \n",
      "Epoch  7, CIFAR-10 Batch 3:  Validation accuracy at 0.7250000238418579 --- Validation cost at 0.9248878359794617 \n",
      "Epoch  7, CIFAR-10 Batch 4:  Validation accuracy at 0.699999988079071 --- Validation cost at 1.0009788274765015 \n",
      "Epoch  7, CIFAR-10 Batch 5:  Validation accuracy at 0.699999988079071 --- Validation cost at 1.0964205265045166 \n",
      "Epoch  8, CIFAR-10 Batch 1:  Validation accuracy at 0.7250000238418579 --- Validation cost at 0.9843872785568237 \n",
      "Epoch  8, CIFAR-10 Batch 2:  Validation accuracy at 0.699999988079071 --- Validation cost at 0.9147771596908569 \n",
      "Epoch  8, CIFAR-10 Batch 3:  Validation accuracy at 0.699999988079071 --- Validation cost at 0.8413039445877075 \n",
      "Epoch  8, CIFAR-10 Batch 4:  Validation accuracy at 0.675000011920929 --- Validation cost at 0.9629592895507812 \n",
      "Epoch  8, CIFAR-10 Batch 5:  Validation accuracy at 0.7749999761581421 --- Validation cost at 0.8760873675346375 \n",
      "Epoch  9, CIFAR-10 Batch 1:  Validation accuracy at 0.7250000238418579 --- Validation cost at 0.9085558652877808 \n",
      "Epoch  9, CIFAR-10 Batch 2:  Validation accuracy at 0.699999988079071 --- Validation cost at 0.9289144277572632 \n",
      "Epoch  9, CIFAR-10 Batch 3:  Validation accuracy at 0.8500000238418579 --- Validation cost at 0.7895327806472778 \n",
      "Epoch  9, CIFAR-10 Batch 4:  Validation accuracy at 0.699999988079071 --- Validation cost at 0.951603889465332 \n",
      "Epoch  9, CIFAR-10 Batch 5:  Validation accuracy at 0.824999988079071 --- Validation cost at 0.7848787903785706 \n",
      "Epoch 10, CIFAR-10 Batch 1:  Validation accuracy at 0.699999988079071 --- Validation cost at 0.9199156761169434 \n",
      "Epoch 10, CIFAR-10 Batch 2:  Validation accuracy at 0.7749999761581421 --- Validation cost at 0.8746833801269531 \n",
      "Epoch 10, CIFAR-10 Batch 3:  Validation accuracy at 0.824999988079071 --- Validation cost at 0.6923545598983765 \n",
      "Epoch 10, CIFAR-10 Batch 4:  Validation accuracy at 0.675000011920929 --- Validation cost at 0.9041396379470825 \n",
      "Epoch 10, CIFAR-10 Batch 5:  Validation accuracy at 0.75 --- Validation cost at 0.7903675436973572 \n",
      "Epoch 11, CIFAR-10 Batch 1:  Validation accuracy at 0.75 --- Validation cost at 0.9295183420181274 \n",
      "Epoch 11, CIFAR-10 Batch 2:  Validation accuracy at 0.824999988079071 --- Validation cost at 0.6753215193748474 \n",
      "Epoch 11, CIFAR-10 Batch 3:  Validation accuracy at 0.8500000238418579 --- Validation cost at 0.6336082220077515 \n",
      "Epoch 11, CIFAR-10 Batch 4:  Validation accuracy at 0.699999988079071 --- Validation cost at 0.8515700101852417 \n",
      "Epoch 11, CIFAR-10 Batch 5:  Validation accuracy at 0.8500000238418579 --- Validation cost at 0.6875240206718445 \n",
      "Epoch 12, CIFAR-10 Batch 1:  Validation accuracy at 0.675000011920929 --- Validation cost at 0.7956621050834656 \n",
      "Epoch 12, CIFAR-10 Batch 2:  Validation accuracy at 0.800000011920929 --- Validation cost at 0.8059536814689636 \n",
      "Epoch 12, CIFAR-10 Batch 3:  Validation accuracy at 0.925000011920929 --- Validation cost at 0.5512075424194336 \n",
      "Epoch 12, CIFAR-10 Batch 4:  Validation accuracy at 0.7250000238418579 --- Validation cost at 0.8787266612052917 \n",
      "Epoch 12, CIFAR-10 Batch 5:  Validation accuracy at 0.875 --- Validation cost at 0.67534339427948 \n",
      "Epoch 13, CIFAR-10 Batch 1:  Validation accuracy at 0.75 --- Validation cost at 0.8356288075447083 \n",
      "Epoch 13, CIFAR-10 Batch 2:  Validation accuracy at 0.824999988079071 --- Validation cost at 0.7709571123123169 \n",
      "Epoch 13, CIFAR-10 Batch 3:  Validation accuracy at 0.875 --- Validation cost at 0.6153977513313293 \n",
      "Epoch 13, CIFAR-10 Batch 4:  Validation accuracy at 0.800000011920929 --- Validation cost at 0.8123680949211121 \n",
      "Epoch 13, CIFAR-10 Batch 5:  Validation accuracy at 0.949999988079071 --- Validation cost at 0.5660083889961243 \n",
      "Epoch 14, CIFAR-10 Batch 1:  Validation accuracy at 0.7749999761581421 --- Validation cost at 0.777552604675293 \n",
      "Epoch 14, CIFAR-10 Batch 2:  Validation accuracy at 0.8999999761581421 --- Validation cost at 0.5314901471138 \n",
      "Epoch 14, CIFAR-10 Batch 3:  Validation accuracy at 0.925000011920929 --- Validation cost at 0.48358339071273804 \n",
      "Epoch 14, CIFAR-10 Batch 4:  Validation accuracy at 0.824999988079071 --- Validation cost at 0.63902747631073 \n",
      "Epoch 14, CIFAR-10 Batch 5:  Validation accuracy at 0.925000011920929 --- Validation cost at 0.573398232460022 \n",
      "Epoch 15, CIFAR-10 Batch 1:  Validation accuracy at 0.824999988079071 --- Validation cost at 0.6496519446372986 \n",
      "Epoch 15, CIFAR-10 Batch 2:  Validation accuracy at 0.800000011920929 --- Validation cost at 0.8397073745727539 \n",
      "Epoch 15, CIFAR-10 Batch 3:  Validation accuracy at 0.824999988079071 --- Validation cost at 0.6371880769729614 \n",
      "Epoch 15, CIFAR-10 Batch 4:  Validation accuracy at 0.8500000238418579 --- Validation cost at 0.5568774938583374 \n"
     ]
    },
    {
     "name": "stdout",
     "output_type": "stream",
     "text": [
      "Epoch 15, CIFAR-10 Batch 5:  Validation accuracy at 0.925000011920929 --- Validation cost at 0.5446984171867371 \n",
      "Epoch 16, CIFAR-10 Batch 1:  Validation accuracy at 0.824999988079071 --- Validation cost at 0.6452739834785461 \n",
      "Epoch 16, CIFAR-10 Batch 2:  Validation accuracy at 0.800000011920929 --- Validation cost at 0.5922369956970215 \n",
      "Epoch 16, CIFAR-10 Batch 3:  Validation accuracy at 0.8500000238418579 --- Validation cost at 0.5526161193847656 \n",
      "Epoch 16, CIFAR-10 Batch 4:  Validation accuracy at 0.925000011920929 --- Validation cost at 0.4457089304924011 \n",
      "Epoch 16, CIFAR-10 Batch 5:  Validation accuracy at 0.949999988079071 --- Validation cost at 0.41923952102661133 \n",
      "Epoch 17, CIFAR-10 Batch 1:  Validation accuracy at 0.8999999761581421 --- Validation cost at 0.55530846118927 \n",
      "Epoch 17, CIFAR-10 Batch 2:  Validation accuracy at 0.875 --- Validation cost at 0.5080168843269348 \n",
      "Epoch 17, CIFAR-10 Batch 3:  Validation accuracy at 0.925000011920929 --- Validation cost at 0.4464597702026367 \n",
      "Epoch 17, CIFAR-10 Batch 4:  Validation accuracy at 0.8500000238418579 --- Validation cost at 0.5089987516403198 \n",
      "Epoch 17, CIFAR-10 Batch 5:  Validation accuracy at 0.925000011920929 --- Validation cost at 0.4878667891025543 \n",
      "Epoch 18, CIFAR-10 Batch 1:  Validation accuracy at 0.824999988079071 --- Validation cost at 0.5656360387802124 \n",
      "Epoch 18, CIFAR-10 Batch 2:  Validation accuracy at 0.925000011920929 --- Validation cost at 0.47586989402770996 \n",
      "Epoch 18, CIFAR-10 Batch 3:  Validation accuracy at 0.925000011920929 --- Validation cost at 0.4310515522956848 \n",
      "Epoch 18, CIFAR-10 Batch 4:  Validation accuracy at 0.925000011920929 --- Validation cost at 0.5260268449783325 \n",
      "Epoch 18, CIFAR-10 Batch 5:  Validation accuracy at 0.925000011920929 --- Validation cost at 0.4098575711250305 \n",
      "Epoch 19, CIFAR-10 Batch 1:  Validation accuracy at 0.8500000238418579 --- Validation cost at 0.6036279797554016 \n",
      "Epoch 19, CIFAR-10 Batch 2:  Validation accuracy at 0.8500000238418579 --- Validation cost at 0.5188986659049988 \n",
      "Epoch 19, CIFAR-10 Batch 3:  Validation accuracy at 0.8999999761581421 --- Validation cost at 0.45154839754104614 \n",
      "Epoch 19, CIFAR-10 Batch 4:  Validation accuracy at 0.925000011920929 --- Validation cost at 0.3664408326148987 \n",
      "Epoch 19, CIFAR-10 Batch 5:  Validation accuracy at 0.925000011920929 --- Validation cost at 0.4150753915309906 \n",
      "Epoch 20, CIFAR-10 Batch 1:  Validation accuracy at 0.824999988079071 --- Validation cost at 0.6144217252731323 \n",
      "Epoch 20, CIFAR-10 Batch 2:  Validation accuracy at 0.925000011920929 --- Validation cost at 0.4787396788597107 \n",
      "Epoch 20, CIFAR-10 Batch 3:  Validation accuracy at 0.875 --- Validation cost at 0.47744542360305786 \n",
      "Epoch 20, CIFAR-10 Batch 4:  Validation accuracy at 0.925000011920929 --- Validation cost at 0.4678122401237488 \n",
      "Epoch 20, CIFAR-10 Batch 5:  Validation accuracy at 0.949999988079071 --- Validation cost at 0.3610548973083496 \n",
      "Epoch 21, CIFAR-10 Batch 1:  Validation accuracy at 0.875 --- Validation cost at 0.5509432554244995 \n",
      "Epoch 21, CIFAR-10 Batch 2:  Validation accuracy at 0.9750000238418579 --- Validation cost at 0.3767581582069397 \n",
      "Epoch 21, CIFAR-10 Batch 3:  Validation accuracy at 0.875 --- Validation cost at 0.48411911725997925 \n",
      "Epoch 21, CIFAR-10 Batch 4:  Validation accuracy at 0.949999988079071 --- Validation cost at 0.41228801012039185 \n",
      "Epoch 21, CIFAR-10 Batch 5:  Validation accuracy at 0.949999988079071 --- Validation cost at 0.39365053176879883 \n",
      "Epoch 22, CIFAR-10 Batch 1:  Validation accuracy at 0.8500000238418579 --- Validation cost at 0.5474370718002319 \n",
      "Epoch 22, CIFAR-10 Batch 2:  Validation accuracy at 0.8999999761581421 --- Validation cost at 0.4298691749572754 \n",
      "Epoch 22, CIFAR-10 Batch 3:  Validation accuracy at 0.925000011920929 --- Validation cost at 0.39733201265335083 \n",
      "Epoch 22, CIFAR-10 Batch 4:  Validation accuracy at 0.8999999761581421 --- Validation cost at 0.45369213819503784 \n",
      "Epoch 22, CIFAR-10 Batch 5:  Validation accuracy at 0.949999988079071 --- Validation cost at 0.3583994507789612 \n",
      "Epoch 23, CIFAR-10 Batch 1:  Validation accuracy at 0.8999999761581421 --- Validation cost at 0.4267326295375824 \n",
      "Epoch 23, CIFAR-10 Batch 2:  Validation accuracy at 0.8999999761581421 --- Validation cost at 0.4695797562599182 \n",
      "Epoch 23, CIFAR-10 Batch 3:  Validation accuracy at 0.9750000238418579 --- Validation cost at 0.28614717721939087 \n",
      "Epoch 23, CIFAR-10 Batch 4:  Validation accuracy at 0.8500000238418579 --- Validation cost at 0.4602869153022766 \n",
      "Epoch 23, CIFAR-10 Batch 5:  Validation accuracy at 0.9750000238418579 --- Validation cost at 0.3542751371860504 \n",
      "Epoch 24, CIFAR-10 Batch 1:  Validation accuracy at 0.925000011920929 --- Validation cost at 0.46529078483581543 \n",
      "Epoch 24, CIFAR-10 Batch 2:  Validation accuracy at 0.8999999761581421 --- Validation cost at 0.3980761766433716 \n",
      "Epoch 24, CIFAR-10 Batch 3:  Validation accuracy at 0.949999988079071 --- Validation cost at 0.3480520248413086 \n",
      "Epoch 24, CIFAR-10 Batch 4:  Validation accuracy at 0.925000011920929 --- Validation cost at 0.4463978707790375 \n",
      "Epoch 24, CIFAR-10 Batch 5:  Validation accuracy at 0.925000011920929 --- Validation cost at 0.3824300169944763 \n",
      "Epoch 25, CIFAR-10 Batch 1:  Validation accuracy at 0.875 --- Validation cost at 0.5219164490699768 \n",
      "Epoch 25, CIFAR-10 Batch 2:  Validation accuracy at 0.949999988079071 --- Validation cost at 0.3438784182071686 \n",
      "Epoch 25, CIFAR-10 Batch 3:  Validation accuracy at 0.8999999761581421 --- Validation cost at 0.4454827308654785 \n",
      "Epoch 25, CIFAR-10 Batch 4:  Validation accuracy at 0.8999999761581421 --- Validation cost at 0.4080476760864258 \n",
      "Epoch 25, CIFAR-10 Batch 5:  Validation accuracy at 0.949999988079071 --- Validation cost at 0.3659861981868744 \n"
     ]
    }
   ],
   "source": [
    "\"\"\"\n",
    "DON'T MODIFY ANYTHING IN THIS CELL\n",
    "\"\"\"\n",
    "save_model_path = './image_classification'\n",
    "\n",
    "print('Training...')\n",
    "with tf.Session() as sess:\n",
    "    # Initializing the variables\n",
    "    sess.run(tf.global_variables_initializer())\n",
    "    \n",
    "    # Training cycle\n",
    "    for epoch in range(epochs):\n",
    "        # Loop over all batches\n",
    "        n_batches = 5\n",
    "        for batch_i in range(1, n_batches + 1):\n",
    "            for batch_features, batch_labels in helper.load_preprocess_training_batch(batch_i, batch_size):\n",
    "                train_neural_network(sess, optimizer, keep_probability, batch_features, batch_labels)\n",
    "            print('Epoch {:>2}, CIFAR-10 Batch {}:  '.format(epoch + 1, batch_i), end='')\n",
    "            print_stats(sess, batch_features, batch_labels, cost, accuracy)\n",
    "            \n",
    "    # Save Model\n",
    "    saver = tf.train.Saver()\n",
    "    save_path = saver.save(sess, save_model_path)"
   ]
  },
  {
   "cell_type": "markdown",
   "metadata": {},
   "source": [
    "# Checkpoint\n",
    "The model has been saved to disk.\n",
    "## Test Model\n",
    "Test your model against the test dataset.  This will be your final accuracy. You should have an accuracy greater than 50%. If you don't, keep tweaking the model architecture and parameters."
   ]
  },
  {
   "cell_type": "code",
   "execution_count": 42,
   "metadata": {
    "scrolled": true
   },
   "outputs": [
    {
     "name": "stdout",
     "output_type": "stream",
     "text": [
      "INFO:tensorflow:Restoring parameters from ./image_classification\n",
      "Testing Accuracy: 0.6888933121019108\n",
      "\n"
     ]
    },
    {
     "data": {
      "image/png": "[encoded data removed]",
      "text/plain": [
       "<matplotlib.figure.Figure at 0x11db440f0>"
      ]
     },
     "metadata": {
      "image/png": {
       "height": 319,
       "width": 355
      }
     },
     "output_type": "display_data"
    }
   ],
   "source": [
    "\"\"\"\n",
    "DON'T MODIFY ANYTHING IN THIS CELL\n",
    "\"\"\"\n",
    "%matplotlib inline\n",
    "%config InlineBackend.figure_format = 'retina'\n",
    "\n",
    "import tensorflow as tf\n",
    "import pickle\n",
    "import helper\n",
    "import random\n",
    "\n",
    "# Set batch size if not already set\n",
    "try:\n",
    "    if batch_size:\n",
    "        pass\n",
    "except NameError:\n",
    "    batch_size = 64\n",
    "\n",
    "save_model_path = './image_classification'\n",
    "n_samples = 4\n",
    "top_n_predictions = 3\n",
    "\n",
    "def test_model():\n",
    "    \"\"\"\n",
    "    Test the saved model against the test dataset\n",
    "    \"\"\"\n",
    "\n",
    "    test_features, test_labels = pickle.load(open('preprocess_test.p', mode='rb'))\n",
    "    loaded_graph = tf.Graph()\n",
    "\n",
    "    with tf.Session(graph=loaded_graph) as sess:\n",
    "        # Load model\n",
    "        loader = tf.train.import_meta_graph(save_model_path + '.meta')\n",
    "        loader.restore(sess, save_model_path)\n",
    "\n",
    "        # Get Tensors from loaded model\n",
    "        loaded_x = loaded_graph.get_tensor_by_name('x:0')\n",
    "        loaded_y = loaded_graph.get_tensor_by_name('y:0')\n",
    "        loaded_keep_prob = loaded_graph.get_tensor_by_name('keep_prob:0')\n",
    "        loaded_logits = loaded_graph.get_tensor_by_name('logits:0')\n",
    "        loaded_acc = loaded_graph.get_tensor_by_name('accuracy:0')\n",
    "        \n",
    "        # Get accuracy in batches for memory limitations\n",
    "        test_batch_acc_total = 0\n",
    "        test_batch_count = 0\n",
    "        \n",
    "        for test_feature_batch, test_label_batch in helper.batch_features_labels(test_features, test_labels, batch_size):\n",
    "            test_batch_acc_total += sess.run(\n",
    "                loaded_acc,\n",
    "                feed_dict={loaded_x: test_feature_batch, loaded_y: test_label_batch, loaded_keep_prob: 1.0})\n",
    "            test_batch_count += 1\n",
    "\n",
    "        print('Testing Accuracy: {}\\n'.format(test_batch_acc_total/test_batch_count))\n",
    "\n",
    "        # Print Random Samples\n",
    "        random_test_features, random_test_labels = tuple(zip(*random.sample(list(zip(test_features, test_labels)), n_samples)))\n",
    "        random_test_predictions = sess.run(\n",
    "            tf.nn.top_k(tf.nn.softmax(loaded_logits), top_n_predictions),\n",
    "            feed_dict={loaded_x: random_test_features, loaded_y: random_test_labels, loaded_keep_prob: 1.0})\n",
    "        helper.display_image_predictions(random_test_features, random_test_labels, random_test_predictions)\n",
    "\n",
    "\n",
    "test_model()"
   ]
  },
  {
   "cell_type": "markdown",
   "metadata": {},
   "source": [
    "## Why 50-80% Accuracy?\n",
    "You might be wondering why you can't get an accuracy any higher. First things first, 50% isn't bad for a simple CNN.  Pure guessing would get you 10% accuracy. However, you might notice people are getting scores [well above 80%](http://rodrigob.github.io/are_we_there_yet/build/classification_datasets_results.html#43494641522d3130).  That's because we haven't taught you all there is to know about neural networks. We still need to cover a few more techniques.\n",
    "## Submitting This Project\n",
    "When submitting this project, make sure to run all the cells before saving the notebook.  Save the notebook file as \"dlnd_image_classification.ipynb\" and save it as a HTML file under \"File\" -> \"Download as\".  Include the \"helper.py\" and \"problem_unittests.py\" files in your submission."
   ]
  }
 ],
 "metadata": {
  "kernelspec": {
   "display_name": "Python 3",
   "language": "python",
   "name": "python3"
  },
  "language_info": {
   "codemirror_mode": {
    "name": "ipython",
    "version": 3
   },
   "file_extension": ".py",
   "mimetype": "text/x-python",
   "name": "python",
   "nbconvert_exporter": "python",
   "pygments_lexer": "ipython3",
   "version": "3.6.1"
  }
 },
 "nbformat": 4,
 "nbformat_minor": 1
}
