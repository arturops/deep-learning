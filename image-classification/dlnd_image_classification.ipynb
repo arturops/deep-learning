{
 "cells": [
  {
   "cell_type": "markdown",
   "metadata": {
    "collapsed": true
   },
   "source": [
    "# Image Classification\n",
    "In this project, you'll classify images from the [CIFAR-10 dataset](https://www.cs.toronto.edu/~kriz/cifar.html).  The dataset consists of airplanes, dogs, cats, and other objects. You'll preprocess the images, then train a convolutional neural network on all the samples. The images need to be normalized and the labels need to be one-hot encoded.  You'll get to apply what you learned and build a convolutional, max pooling, dropout, and fully connected layers.  At the end, you'll get to see your neural network's predictions on the sample images.\n",
    "## Get the Data\n",
    "Run the following cell to download the [CIFAR-10 dataset for python](https://www.cs.toronto.edu/~kriz/cifar-10-python.tar.gz)."
   ]
  },
  {
   "cell_type": "code",
   "execution_count": 2,
   "metadata": {},
   "outputs": [
    {
     "name": "stdout",
     "output_type": "stream",
     "text": [
      "All files found!\n"
     ]
    }
   ],
   "source": [
    "\"\"\"\n",
    "DON'T MODIFY ANYTHING IN THIS CELL THAT IS BELOW THIS LINE\n",
    "\"\"\"\n",
    "from urllib.request import urlretrieve\n",
    "from os.path import isfile, isdir\n",
    "from tqdm import tqdm\n",
    "import problem_unittests as tests\n",
    "import tarfile\n",
    "\n",
    "cifar10_dataset_folder_path = 'cifar-10-batches-py'\n",
    "\n",
    "# Use Floyd's cifar-10 dataset if present\n",
    "floyd_cifar10_location = '/input/cifar-10/python.tar.gz'\n",
    "if isfile(floyd_cifar10_location):\n",
    "    tar_gz_path = floyd_cifar10_location\n",
    "else:\n",
    "    tar_gz_path = 'cifar-10-python.tar.gz'\n",
    "\n",
    "class DLProgress(tqdm):\n",
    "    last_block = 0\n",
    "\n",
    "    def hook(self, block_num=1, block_size=1, total_size=None):\n",
    "        self.total = total_size\n",
    "        self.update((block_num - self.last_block) * block_size)\n",
    "        self.last_block = block_num\n",
    "\n",
    "if not isfile(tar_gz_path):\n",
    "    with DLProgress(unit='B', unit_scale=True, miniters=1, desc='CIFAR-10 Dataset') as pbar:\n",
    "        urlretrieve(\n",
    "            'https://www.cs.toronto.edu/~kriz/cifar-10-python.tar.gz',\n",
    "            tar_gz_path,\n",
    "            pbar.hook)\n",
    "\n",
    "if not isdir(cifar10_dataset_folder_path):\n",
    "    with tarfile.open(tar_gz_path) as tar:\n",
    "        tar.extractall()\n",
    "        tar.close()\n",
    "\n",
    "\n",
    "tests.test_folder_path(cifar10_dataset_folder_path)"
   ]
  },
  {
   "cell_type": "markdown",
   "metadata": {},
   "source": [
    "## Explore the Data\n",
    "The dataset is broken into batches to prevent your machine from running out of memory.  The CIFAR-10 dataset consists of 5 batches, named `data_batch_1`, `data_batch_2`, etc.. Each batch contains the labels and images that are one of the following:\n",
    "* airplane\n",
    "* automobile\n",
    "* bird\n",
    "* cat\n",
    "* deer\n",
    "* dog\n",
    "* frog\n",
    "* horse\n",
    "* ship\n",
    "* truck\n",
    "\n",
    "Understanding a dataset is part of making predictions on the data.  Play around with the code cell below by changing the `batch_id` and `sample_id`. The `batch_id` is the id for a batch (1-5). The `sample_id` is the id for a image and label pair in the batch.\n",
    "\n",
    "Ask yourself \"What are all possible labels?\", \"What is the range of values for the image data?\", \"Are the labels in order or random?\".  Answers to questions like these will help you preprocess the data and end up with better predictions."
   ]
  },
  {
   "cell_type": "code",
   "execution_count": 6,
   "metadata": {},
   "outputs": [
    {
     "name": "stdout",
     "output_type": "stream",
     "text": [
      "\n",
      "Stats of batch 1:\n",
      "Samples: 10000\n",
      "Label Counts: {0: 1005, 1: 974, 2: 1032, 3: 1016, 4: 999, 5: 937, 6: 1030, 7: 1001, 8: 1025, 9: 981}\n",
      "First 20 Labels: [6, 9, 9, 4, 1, 1, 2, 7, 8, 3, 4, 7, 7, 2, 9, 9, 9, 3, 2, 6]\n",
      "\n",
      "Example of Image 17:\n",
      "Image - Min Value: 25 Max Value: 225\n",
      "Image - Shape: (32, 32, 3)\n",
      "Label - Label Id: 3 Name: cat\n"
     ]
    },
    {
     "data": {
      "image/png": "[encoded data removed]",
      "text/plain": [
       "<matplotlib.figure.Figure at 0x11ca069e8>"
      ]
     },
     "metadata": {
      "image/png": {
       "height": 250,
       "width": 253
      }
     },
     "output_type": "display_data"
    }
   ],
   "source": [
    "%matplotlib inline\n",
    "%config InlineBackend.figure_format = 'retina'\n",
    "\n",
    "import helper\n",
    "import numpy as np\n",
    "\n",
    "# Explore the dataset\n",
    "batch_id = 1\n",
    "sample_id = 17\n",
    "helper.display_stats(cifar10_dataset_folder_path, batch_id, sample_id)"
   ]
  },
  {
   "cell_type": "markdown",
   "metadata": {},
   "source": [
    "## Implement Preprocess Functions\n",
    "### Normalize\n",
    "In the cell below, implement the `normalize` function to take in image data, `x`, and return it as a normalized Numpy array. The values should be in the range of 0 to 1, inclusive.  The return object should be the same shape as `x`."
   ]
  },
  {
   "cell_type": "code",
   "execution_count": 5,
   "metadata": {},
   "outputs": [
    {
     "name": "stdout",
     "output_type": "stream",
     "text": [
      "Tests Passed\n"
     ]
    }
   ],
   "source": [
    "def normalize(x):\n",
    "    \"\"\"\n",
    "    Normalize a list of sample image data in the range of 0 to 1\n",
    "    : x: List of image data.  The image shape is (32, 32, 3)\n",
    "    : return: Numpy array of normalize data\n",
    "    \"\"\"\n",
    "    # TODO: Implement Function\n",
    "    np_x = np.array(x)\n",
    "    norm_x = (np_x)/255 # current normalization only divides by max value\n",
    "    # ANOTHER METHOD with range from -1 to 1\n",
    "    # (x - mean)/std = in an image mean=128 (expected) \n",
    "    #and std=128 (expected) since we want to center our distribution in 0. If 255 colors, approx -128..0..128\n",
    "    return norm_x\n",
    "\n",
    "\n",
    "\"\"\"\n",
    "DON'T MODIFY ANYTHING IN THIS CELL THAT IS BELOW THIS LINE\n",
    "\"\"\"\n",
    "tests.test_normalize(normalize)"
   ]
  },
  {
   "cell_type": "markdown",
   "metadata": {},
   "source": [
    "### One-hot encode\n",
    "Just like the previous code cell, you'll be implementing a function for preprocessing.  This time, you'll implement the `one_hot_encode` function. The input, `x`, are a list of labels.  Implement the function to return the list of labels as One-Hot encoded Numpy array.  The possible values for labels are 0 to 9. The one-hot encoding function should return the same encoding for each value between each call to `one_hot_encode`.  Make sure to save the map of encodings outside the function.\n",
    "\n",
    "Hint: Don't reinvent the wheel."
   ]
  },
  {
   "cell_type": "code",
   "execution_count": 9,
   "metadata": {},
   "outputs": [
    {
     "name": "stdout",
     "output_type": "stream",
     "text": [
      "Tests Passed\n"
     ]
    }
   ],
   "source": [
    "from sklearn import preprocessing \n",
    "\n",
    "def one_hot_encode(x):\n",
    "    \"\"\"\n",
    "    One hot encode a list of sample labels. Return a one-hot encoded vector for each label.\n",
    "    : x: List of sample Labels\n",
    "    : return: Numpy array of one-hot encoded labels\n",
    "    \"\"\"\n",
    "    # TODO: Implement Function\n",
    "    encode = preprocessing.LabelBinarizer()\n",
    "    encode.fit([0,1,2,3,4,5,6,7,8,9]) #possible values of labels to be encoded in vectors of 0's and 1's\n",
    "    \n",
    "    #show the encoding that corresponds to each label\n",
    "    #print (encode.classes_) \n",
    "    #print (encode.transform([9,8,7,6,5,4,3,2,1,0]))\n",
    "    \n",
    "    labels_one_hot_encode = encode.transform(x) # encodes the labels with 0,1 values based on labelID [0,9]\n",
    "    \n",
    "    return labels_one_hot_encode\n",
    "\n",
    "\n",
    "\"\"\"\n",
    "DON'T MODIFY ANYTHING IN THIS CELL THAT IS BELOW THIS LINE\n",
    "\"\"\"\n",
    "tests.test_one_hot_encode(one_hot_encode)"
   ]
  },
  {
   "cell_type": "markdown",
   "metadata": {},
   "source": [
    "### Randomize Data\n",
    "As you saw from exploring the data above, the order of the samples are randomized.  It doesn't hurt to randomize it again, but you don't need to for this dataset."
   ]
  },
  {
   "cell_type": "markdown",
   "metadata": {},
   "source": [
    "## Preprocess all the data and save it\n",
    "Running the code cell below will preprocess all the CIFAR-10 data and save it to file. The code below also uses 10% of the training data for validation."
   ]
  },
  {
   "cell_type": "code",
   "execution_count": 10,
   "metadata": {
    "collapsed": true
   },
   "outputs": [],
   "source": [
    "\"\"\"\n",
    "DON'T MODIFY ANYTHING IN THIS CELL\n",
    "\"\"\"\n",
    "# Preprocess Training, Validation, and Testing Data\n",
    "helper.preprocess_and_save_data(cifar10_dataset_folder_path, normalize, one_hot_encode)"
   ]
  },
  {
   "cell_type": "markdown",
   "metadata": {},
   "source": [
    "# Check Point\n",
    "This is your first checkpoint.  If you ever decide to come back to this notebook or have to restart the notebook, you can start from here.  The preprocessed data has been saved to disk."
   ]
  },
  {
   "cell_type": "code",
   "execution_count": 28,
   "metadata": {
    "collapsed": true
   },
   "outputs": [],
   "source": [
    "\"\"\"\n",
    "DON'T MODIFY ANYTHING IN THIS CELL\n",
    "\"\"\"\n",
    "import pickle\n",
    "import problem_unittests as tests\n",
    "import helper\n",
    "\n",
    "# Load the Preprocessed Validation data\n",
    "valid_features, valid_labels = pickle.load(open('preprocess_validation.p', mode='rb'))"
   ]
  },
  {
   "cell_type": "markdown",
   "metadata": {},
   "source": [
    "## Build the network\n",
    "For the neural network, you'll build each layer into a function.  Most of the code you've seen has been outside of functions. To test your code more thoroughly, we require that you put each layer in a function.  This allows us to give you better feedback and test for simple mistakes using our unittests before you submit your project.\n",
    "\n",
    ">**Note:** If you're finding it hard to dedicate enough time for this course each week, we've provided a small shortcut to this part of the project. In the next couple of problems, you'll have the option to use classes from the [TensorFlow Layers](https://www.tensorflow.org/api_docs/python/tf/layers) or [TensorFlow Layers (contrib)](https://www.tensorflow.org/api_guides/python/contrib.layers) packages to build each layer, except the layers you build in the \"Convolutional and Max Pooling Layer\" section.  TF Layers is similar to Keras's and TFLearn's abstraction to layers, so it's easy to pickup.\n",
    "\n",
    ">However, if you would like to get the most out of this course, try to solve all the problems _without_ using anything from the TF Layers packages. You **can** still use classes from other packages that happen to have the same name as ones you find in TF Layers! For example, instead of using the TF Layers version of the `conv2d` class, [tf.layers.conv2d](https://www.tensorflow.org/api_docs/python/tf/layers/conv2d), you would want to use the TF Neural Network version of `conv2d`, [tf.nn.conv2d](https://www.tensorflow.org/api_docs/python/tf/nn/conv2d). \n",
    "\n",
    "Let's begin!\n",
    "\n",
    "### Input\n",
    "The neural network needs to read the image data, one-hot encoded labels, and dropout keep probability. Implement the following functions\n",
    "* Implement `neural_net_image_input`\n",
    " * Return a [TF Placeholder](https://www.tensorflow.org/api_docs/python/tf/placeholder)\n",
    " * Set the shape using `image_shape` with batch size set to `None`.\n",
    " * Name the TensorFlow placeholder \"x\" using the TensorFlow `name` parameter in the [TF Placeholder](https://www.tensorflow.org/api_docs/python/tf/placeholder).\n",
    "* Implement `neural_net_label_input`\n",
    " * Return a [TF Placeholder](https://www.tensorflow.org/api_docs/python/tf/placeholder)\n",
    " * Set the shape using `n_classes` with batch size set to `None`.\n",
    " * Name the TensorFlow placeholder \"y\" using the TensorFlow `name` parameter in the [TF Placeholder](https://www.tensorflow.org/api_docs/python/tf/placeholder).\n",
    "* Implement `neural_net_keep_prob_input`\n",
    " * Return a [TF Placeholder](https://www.tensorflow.org/api_docs/python/tf/placeholder) for dropout keep probability.\n",
    " * Name the TensorFlow placeholder \"keep_prob\" using the TensorFlow `name` parameter in the [TF Placeholder](https://www.tensorflow.org/api_docs/python/tf/placeholder).\n",
    "\n",
    "These names will be used at the end of the project to load your saved model.\n",
    "\n",
    "Note: `None` for shapes in TensorFlow allow for a dynamic size."
   ]
  },
  {
   "cell_type": "code",
   "execution_count": 153,
   "metadata": {},
   "outputs": [
    {
     "name": "stdout",
     "output_type": "stream",
     "text": [
      "Image Input Tests Passed.\n",
      "Label Input Tests Passed.\n",
      "Keep Prob Tests Passed.\n"
     ]
    }
   ],
   "source": [
    "import tensorflow as tf\n",
    "\n",
    "def neural_net_image_input(image_shape):\n",
    "    \"\"\"\n",
    "    Return a Tensor for a batch of image input\n",
    "    : image_shape: Shape of the images\n",
    "    : return: Tensor for image input.\n",
    "    \"\"\"\n",
    "    # TODO: Implement Function\n",
    "    batch_size = None\n",
    "    return tf.placeholder(tf.float32, shape=([batch_size, image_shape[0], image_shape[1], image_shape[2]]), name=\"x\")\n",
    "\n",
    "\n",
    "def neural_net_label_input(n_classes):\n",
    "    \"\"\"\n",
    "    Return a Tensor for a batch of label input\n",
    "    : n_classes: Number of classes\n",
    "    : return: Tensor for label input.\n",
    "    \"\"\"\n",
    "    # TODO: Implement Function\n",
    "    batch_size = None\n",
    "    return tf.placeholder(tf.float32, shape=([batch_size, n_classes]), name=\"y\")\n",
    "\n",
    "\n",
    "def neural_net_keep_prob_input():\n",
    "    \"\"\"\n",
    "    Return a Tensor for keep probability\n",
    "    : return: Tensor for keep probability.\n",
    "    \"\"\"\n",
    "    # TODO: Implement Function\n",
    "    return tf.placeholder(tf.float32, shape=None, name=\"keep_prob\")\n",
    "\n",
    "\n",
    "\"\"\"\n",
    "DON'T MODIFY ANYTHING IN THIS CELL THAT IS BELOW THIS LINE\n",
    "\"\"\"\n",
    "tf.reset_default_graph()\n",
    "tests.test_nn_image_inputs(neural_net_image_input)\n",
    "tests.test_nn_label_inputs(neural_net_label_input)\n",
    "tests.test_nn_keep_prob_inputs(neural_net_keep_prob_input)"
   ]
  },
  {
   "cell_type": "markdown",
   "metadata": {},
   "source": [
    "### Convolution and Max Pooling Layer\n",
    "Convolution layers have a lot of success with images. For this code cell, you should implement the function `conv2d_maxpool` to apply convolution then max pooling:\n",
    "* Create the weight and bias using `conv_ksize`, `conv_num_outputs` and the shape of `x_tensor`.\n",
    "* Apply a convolution to `x_tensor` using weight and `conv_strides`.\n",
    " * We recommend you use same padding, but you're welcome to use any padding.\n",
    "* Add bias\n",
    "* Add a nonlinear activation to the convolution.\n",
    "* Apply Max Pooling using `pool_ksize` and `pool_strides`.\n",
    " * We recommend you use same padding, but you're welcome to use any padding.\n",
    "\n",
    "**Note:** You **can't** use [TensorFlow Layers](https://www.tensorflow.org/api_docs/python/tf/layers) or [TensorFlow Layers (contrib)](https://www.tensorflow.org/api_guides/python/contrib.layers) for **this** layer, but you can still use TensorFlow's [Neural Network](https://www.tensorflow.org/api_docs/python/tf/nn) package. You may still use the shortcut option for all the **other** layers."
   ]
  },
  {
   "cell_type": "code",
   "execution_count": 175,
   "metadata": {},
   "outputs": [
    {
     "name": "stdout",
     "output_type": "stream",
     "text": [
      "Tests Passed\n"
     ]
    }
   ],
   "source": [
    "def conv2d_maxpool(x_tensor, conv_num_outputs, conv_ksize, conv_strides, pool_ksize, pool_strides):\n",
    "    \"\"\"\n",
    "    Apply convolution then max pooling to x_tensor\n",
    "    :param x_tensor: TensorFlow Tensor\n",
    "    :param conv_num_outputs: Number of outputs for the convolutional layer\n",
    "    :param conv_ksize: kernal size 2-D Tuple for the convolutional layer\n",
    "    :param conv_strides: Stride 2-D Tuple for convolution\n",
    "    :param pool_ksize: kernal size 2-D Tuple for pool\n",
    "    :param pool_strides: Stride 2-D Tuple for pool\n",
    "    : return: A tensor that represents convolution and max pooling of x_tensor\n",
    "    \"\"\"\n",
    "    # TODO: Implement Function\n",
    "    #weights\n",
    "    filter_height  = conv_ksize[0]\n",
    "    filter_width   = conv_ksize[1]\n",
    "    color_channels = x_tensor.get_shape().as_list()[-1] # to read last value of list that contains the number of color channels \n",
    "    weights = tf.Variable(tf.truncated_normal([filter_height,filter_width,color_channels,conv_num_outputs], mean=0.0, stddev=0.1))\n",
    "    \n",
    "    #bias\n",
    "    bias = tf.Variable(tf.zeros(conv_num_outputs))\n",
    "    \n",
    "    #Convolution\n",
    "    #batch and channel are commonly set to 1\n",
    "    conv_batch_size = 1\n",
    "    conv_channel_size = 1\n",
    "    conv_strides4D = [conv_batch_size, conv_strides[0], conv_strides[1], conv_channel_size]\n",
    "    conv_layer = tf.nn.conv2d(x_tensor, weights, conv_strides4D, padding='SAME')\n",
    "    \n",
    "    #Add Bias\n",
    "    conv_layer = tf.nn.bias_add(conv_layer, bias)\n",
    "    \n",
    "    #Non-linear activation \n",
    "    conv_layer = tf.nn.relu(conv_layer)\n",
    "    \n",
    "    #Max pooling\n",
    "    # batch and channel are commonly set to 1\n",
    "    pool_batch_size = 1\n",
    "    pool_channel_size = 1\n",
    "    pool_ksize4D = [pool_batch_size, pool_ksize[0], pool_ksize[1], pool_channel_size]\n",
    "    pool_strides4D = [1, pool_strides[0], pool_strides[1], 1]\n",
    "    conv_layer = tf.nn.max_pool(conv_layer, pool_ksize4D, pool_strides4D, padding='SAME')\n",
    "    \n",
    "    return conv_layer\n",
    "\n",
    "\n",
    "\"\"\"\n",
    "DON'T MODIFY ANYTHING IN THIS CELL THAT IS BELOW THIS LINE\n",
    "\"\"\"\n",
    "tests.test_con_pool(conv2d_maxpool)"
   ]
  },
  {
   "cell_type": "markdown",
   "metadata": {},
   "source": [
    "### Flatten Layer\n",
    "Implement the `flatten` function to change the dimension of `x_tensor` from a 4-D tensor to a 2-D tensor.  The output should be the shape (*Batch Size*, *Flattened Image Size*). Shortcut option: you can use classes from the [TensorFlow Layers](https://www.tensorflow.org/api_docs/python/tf/layers) or [TensorFlow Layers (contrib)](https://www.tensorflow.org/api_guides/python/contrib.layers) packages for this layer. For more of a challenge, only use other TensorFlow packages."
   ]
  },
  {
   "cell_type": "code",
   "execution_count": 176,
   "metadata": {
    "scrolled": true
   },
   "outputs": [
    {
     "name": "stdout",
     "output_type": "stream",
     "text": [
      "Tests Passed\n"
     ]
    }
   ],
   "source": [
    "def flatten(x_tensor):\n",
    "    \"\"\"\n",
    "    Flatten x_tensor to (Batch Size, Flattened Image Size)\n",
    "    : x_tensor: A tensor of size (Batch Size, ...), where ... are the image dimensions.\n",
    "    : return: A tensor of size (Batch Size, Flattened Image Size).\n",
    "    \"\"\"\n",
    "    # TODO: Implement Function\n",
    "    \n",
    "    # First way to do this\n",
    "    # Need to convert the get_shape() result to int() since at this point is a class Dimension object\n",
    "    flat_image = np.prod(x_tensor.get_shape()[1:])\n",
    "    x_tensor_flatten = tf.reshape(x_tensor,[-1, int(flat_image)])\n",
    "        \n",
    "    # Second way to do it\n",
    "    # No Need to convert the get_shape().as_list() result since it is already an int\n",
    "    #flat_image2 = np.prod(x_tensor.get_shape().as_list()[1:])\n",
    "    #x_tensor_flatten2 = tf.reshape(x_tensor,[-1, flat_image])\n",
    "    \n",
    "    return x_tensor_flatten\n",
    "\n",
    "\n",
    "\"\"\"\n",
    "DON'T MODIFY ANYTHING IN THIS CELL THAT IS BELOW THIS LINE\n",
    "\"\"\"\n",
    "tests.test_flatten(flatten)"
   ]
  },
  {
   "cell_type": "markdown",
   "metadata": {},
   "source": [
    "### Fully-Connected Layer\n",
    "Implement the `fully_conn` function to apply a fully connected layer to `x_tensor` with the shape (*Batch Size*, *num_outputs*). Shortcut option: you can use classes from the [TensorFlow Layers](https://www.tensorflow.org/api_docs/python/tf/layers) or [TensorFlow Layers (contrib)](https://www.tensorflow.org/api_guides/python/contrib.layers) packages for this layer. For more of a challenge, only use other TensorFlow packages."
   ]
  },
  {
   "cell_type": "code",
   "execution_count": 177,
   "metadata": {},
   "outputs": [
    {
     "name": "stdout",
     "output_type": "stream",
     "text": [
      "Tests Passed\n"
     ]
    }
   ],
   "source": [
    "def fully_conn(x_tensor, num_outputs):\n",
    "    \"\"\"\n",
    "    Apply a fully connected layer to x_tensor using weight and bias\n",
    "    : x_tensor: A 2-D tensor where the first dimension is batch size.\n",
    "    : num_outputs: The number of output that the new tensor should be.\n",
    "    : return: A 2-D tensor where the second dimension is num_outputs.\n",
    "    \"\"\"\n",
    "    # TODO: Implement Function\n",
    "    keep_prob = tf.constant(0.5)\n",
    "    batch_size, num_inputs = x_tensor.get_shape().as_list()\n",
    "    weights = tf.Variable(tf.truncated_normal([num_inputs, num_outputs], mean=0.0, stddev=0.1))\n",
    "    bias = tf.Variable(tf.zeros(num_outputs))\n",
    "    fc = tf.matmul(x_tensor, weights) + bias\n",
    "    fc = tf.nn.relu(fc)\n",
    "    #fc = tf.nn.dropout(fc,keep_prob)\n",
    "    \n",
    "    return fc\n",
    "\n",
    "\n",
    "\"\"\"\n",
    "DON'T MODIFY ANYTHING IN THIS CELL THAT IS BELOW THIS LINE\n",
    "\"\"\"\n",
    "tests.test_fully_conn(fully_conn)"
   ]
  },
  {
   "cell_type": "markdown",
   "metadata": {},
   "source": [
    "### Output Layer\n",
    "Implement the `output` function to apply a fully connected layer to `x_tensor` with the shape (*Batch Size*, *num_outputs*). Shortcut option: you can use classes from the [TensorFlow Layers](https://www.tensorflow.org/api_docs/python/tf/layers) or [TensorFlow Layers (contrib)](https://www.tensorflow.org/api_guides/python/contrib.layers) packages for this layer. For more of a challenge, only use other TensorFlow packages.\n",
    "\n",
    "**Note:** Activation, softmax, or cross entropy should **not** be applied to this."
   ]
  },
  {
   "cell_type": "code",
   "execution_count": 178,
   "metadata": {},
   "outputs": [
    {
     "name": "stdout",
     "output_type": "stream",
     "text": [
      "Tests Passed\n"
     ]
    }
   ],
   "source": [
    "def output(x_tensor, num_outputs):\n",
    "    \"\"\"\n",
    "    Apply a output layer to x_tensor using weight and bias\n",
    "    : x_tensor: A 2-D tensor where the first dimension is batch size.\n",
    "    : num_outputs: The number of output that the new tensor should be.\n",
    "    : return: A 2-D tensor where the second dimension is num_outputs.\n",
    "    \"\"\"\n",
    "    # TODO: Implement Function\n",
    "    keep_prob = tf.constant(0.5)\n",
    "    batch_size, num_inputs = x_tensor.get_shape().as_list()\n",
    "    weights = tf.Variable(tf.truncated_normal([num_inputs, num_outputs], mean=0.0, stddev=0.1))\n",
    "    bias = tf.Variable(tf.zeros(num_outputs))\n",
    "    logits = tf.matmul(x_tensor, weights) + bias\n",
    "    prediction = tf.nn.relu(logits)\n",
    "    #prediction = tf.nn.dropout(prediction, keep_prob)\n",
    "    \n",
    "    return prediction\n",
    "\n",
    "\n",
    "\"\"\"\n",
    "DON'T MODIFY ANYTHING IN THIS CELL THAT IS BELOW THIS LINE\n",
    "\"\"\"\n",
    "tests.test_output(output)"
   ]
  },
  {
   "cell_type": "markdown",
   "metadata": {},
   "source": [
    "### Create Convolutional Model\n",
    "Implement the function `conv_net` to create a convolutional neural network model. The function takes in a batch of images, `x`, and outputs logits.  Use the layers you created above to create this model:\n",
    "\n",
    "* Apply 1, 2, or 3 Convolution and Max Pool layers\n",
    "* Apply a Flatten Layer\n",
    "* Apply 1, 2, or 3 Fully Connected Layers\n",
    "* Apply an Output Layer\n",
    "* Return the output\n",
    "* Apply [TensorFlow's Dropout](https://www.tensorflow.org/api_docs/python/tf/nn/dropout) to one or more layers in the model using `keep_prob`. "
   ]
  },
  {
   "cell_type": "code",
   "execution_count": 202,
   "metadata": {
    "scrolled": true
   },
   "outputs": [
    {
     "name": "stdout",
     "output_type": "stream",
     "text": [
      "Neural Network Built!\n"
     ]
    }
   ],
   "source": [
    "def conv_net(x, keep_prob):\n",
    "    \"\"\"\n",
    "    Create a convolutional neural network model\n",
    "    : x: Placeholder tensor that holds image data.\n",
    "    : keep_prob: Placeholder tensor that hold dropout keep probability.\n",
    "    : return: Tensor that represents logits\n",
    "    \"\"\"\n",
    "    # TODO: Apply 1, 2, or 3 Convolution and Max Pool layers\n",
    "    #    Play around with different number of outputs, kernel size and stride\n",
    "    # Function Definition from Above:\n",
    "    #    conv2d_maxpool(x_tensor, conv_num_outputs, conv_ksize, conv_strides, pool_ksize, pool_strides)\n",
    "    # (x_tensor, conv_num_outputs, conv_ksize, conv_strides, pool_ksize, pool_strides)\n",
    "    \n",
    "    conv_num_outputs = [16,20,20]\n",
    "    conv_ksize = [[5,5],[3,3],[1,1]] #[[3,3],[3,3],[1,1]]\n",
    "    conv_strides = [1,1]\n",
    "    pool_ksize = [[2,2],[2,2],[2,2]]\n",
    "    pool_strides = [2,2]\n",
    "    \n",
    "    x_conv = conv2d_maxpool(x, conv_num_outputs[0], conv_ksize[0], conv_strides, pool_ksize[0], pool_strides)\n",
    "    x_conv = conv2d_maxpool(x_conv, conv_num_outputs[1], conv_ksize[1], conv_strides, pool_ksize[1], pool_strides)\n",
    "    x_conv = conv2d_maxpool(x_conv, conv_num_outputs[2], conv_ksize[2], conv_strides, pool_ksize[2], pool_strides)\n",
    "    \n",
    "\n",
    "    # TODO: Apply a Flatten Layer\n",
    "    # Function Definition from Above:\n",
    "    #   flatten(x_tensor)\n",
    "    x_flat = flatten(x_conv)\n",
    "    \n",
    "\n",
    "    # TODO: Apply 1, 2, or 3 Fully Connected Layers\n",
    "    #    Play around with different number of outputs\n",
    "    # Function Definition from Above:\n",
    "    #   fully_conn(x_tensor, num_outputs)\n",
    "    x_fc = tf.nn.dropout(fully_conn(x_flat, 100), keep_prob)\n",
    "    x_fc = tf.nn.dropout(fully_conn(x_fc, 50), keep_prob)\n",
    "    x_fc = tf.nn.dropout(fully_conn(x_fc, 25), keep_prob)\n",
    "    \n",
    "    # TODO: Apply an Output Layer\n",
    "    #    Set this to the number of classes\n",
    "    # Function Definition from Above:\n",
    "    #   output(x_tensor, num_outputs)\n",
    "    num_outputs_pred = 10\n",
    "    x_predict =tf.nn.dropout(output(x_fc, num_outputs_pred), keep_prob)\n",
    "    \n",
    "    # TODO: return output\n",
    "    return x_predict\n",
    "\n",
    "\n",
    "\"\"\"\n",
    "DON'T MODIFY ANYTHING IN THIS CELL THAT IS BELOW THIS LINE\n",
    "\"\"\"\n",
    "\n",
    "##############################\n",
    "## Build the Neural Network ##\n",
    "##############################\n",
    "\n",
    "# Remove previous weights, bias, inputs, etc..\n",
    "tf.reset_default_graph()\n",
    "\n",
    "# Inputs\n",
    "x = neural_net_image_input((32, 32, 3))\n",
    "y = neural_net_label_input(10)\n",
    "keep_prob = neural_net_keep_prob_input()\n",
    "\n",
    "# Model\n",
    "logits = conv_net(x, keep_prob)\n",
    "\n",
    "# Name logits Tensor, so that is can be loaded from disk after training\n",
    "logits = tf.identity(logits, name='logits')\n",
    "\n",
    "# Loss and Optimizer\n",
    "cost = tf.reduce_mean(tf.nn.softmax_cross_entropy_with_logits(logits=logits, labels=y))\n",
    "optimizer = tf.train.AdamOptimizer().minimize(cost)\n",
    "\n",
    "# Accuracy\n",
    "correct_pred = tf.equal(tf.argmax(logits, 1), tf.argmax(y, 1))\n",
    "accuracy = tf.reduce_mean(tf.cast(correct_pred, tf.float32), name='accuracy')\n",
    "\n",
    "tests.test_conv_net(conv_net)"
   ]
  },
  {
   "cell_type": "markdown",
   "metadata": {},
   "source": [
    "## Train the Neural Network\n",
    "### Single Optimization\n",
    "Implement the function `train_neural_network` to do a single optimization.  The optimization should use `optimizer` to optimize in `session` with a `feed_dict` of the following:\n",
    "* `x` for image input\n",
    "* `y` for labels\n",
    "* `keep_prob` for keep probability for dropout\n",
    "\n",
    "This function will be called for each batch, so `tf.global_variables_initializer()` has already been called.\n",
    "\n",
    "Note: Nothing needs to be returned. This function is only optimizing the neural network."
   ]
  },
  {
   "cell_type": "code",
   "execution_count": 203,
   "metadata": {},
   "outputs": [
    {
     "name": "stdout",
     "output_type": "stream",
     "text": [
      "Tests Passed\n"
     ]
    }
   ],
   "source": [
    "def train_neural_network(session, optimizer, keep_probability, feature_batch, label_batch):\n",
    "    \"\"\"\n",
    "    Optimize the session on a batch of images and labels\n",
    "    : session: Current TensorFlow session\n",
    "    : optimizer: TensorFlow optimizer function\n",
    "    : keep_probability: keep probability\n",
    "    : feature_batch: Batch of Numpy image data\n",
    "    : label_batch: Batch of Numpy label data\n",
    "    \"\"\"\n",
    "    # TODO: Implement Function\n",
    "    train_feed_dict ={x: feature_batch, y: label_batch, keep_prob: keep_probability}\n",
    "    session.run(optimizer, feed_dict=train_feed_dict)\n",
    "    \n",
    "    #pass\n",
    "\n",
    "\n",
    "\"\"\"\n",
    "DON'T MODIFY ANYTHING IN THIS CELL THAT IS BELOW THIS LINE\n",
    "\"\"\"\n",
    "tests.test_train_nn(train_neural_network)"
   ]
  },
  {
   "cell_type": "markdown",
   "metadata": {},
   "source": [
    "### Show Stats\n",
    "Implement the function `print_stats` to print loss and validation accuracy.  Use the global variables `valid_features` and `valid_labels` to calculate validation accuracy.  Use a keep probability of `1.0` to calculate the loss and validation accuracy."
   ]
  },
  {
   "cell_type": "code",
   "execution_count": 204,
   "metadata": {
    "collapsed": true
   },
   "outputs": [],
   "source": [
    "def print_stats(session, feature_batch, label_batch, cost, accuracy):\n",
    "    \"\"\"\n",
    "    Print information about loss and validation accuracy\n",
    "    : session: Current TensorFlow session\n",
    "    : feature_batch: Batch of Numpy image data\n",
    "    : label_batch: Batch of Numpy label data\n",
    "    : cost: TensorFlow cost function\n",
    "    : accuracy: TensorFlow accuracy function\n",
    "    \"\"\"\n",
    "    # TODO: Implement Function\n",
    "    #pass\n",
    "    val_feed_dict = {x: feature_batch, y: label_batch, keep_prob: 1.0}\n",
    "    validation_cost = session.run(cost, feed_dict=val_feed_dict)\n",
    "    validation_accuracy = session.run(accuracy, feed_dict=val_feed_dict)\n",
    "    print('Validation accuracy at {} --- Validation cost at {} '.format(validation_accuracy, validation_cost))"
   ]
  },
  {
   "cell_type": "markdown",
   "metadata": {},
   "source": [
    "### Hyperparameters\n",
    "Tune the following parameters:\n",
    "* Set `epochs` to the number of iterations until the network stops learning or start overfitting\n",
    "* Set `batch_size` to the highest number that your machine has memory for.  Most people set them to common sizes of memory:\n",
    " * 64\n",
    " * 128\n",
    " * 256\n",
    " * ...\n",
    "* Set `keep_probability` to the probability of keeping a node using dropout"
   ]
  },
  {
   "cell_type": "code",
   "execution_count": 210,
   "metadata": {
    "collapsed": true
   },
   "outputs": [],
   "source": [
    "# TODO: Tune Parameters\n",
    "epochs = 40\n",
    "batch_size = 64\n",
    "keep_probability = 0.75"
   ]
  },
  {
   "cell_type": "markdown",
   "metadata": {},
   "source": [
    "### Train on a Single CIFAR-10 Batch\n",
    "Instead of training the neural network on all the CIFAR-10 batches of data, let's use a single batch. This should save time while you iterate on the model to get a better accuracy.  Once the final validation accuracy is 50% or greater, run the model on all the data in the next section."
   ]
  },
  {
   "cell_type": "code",
   "execution_count": 211,
   "metadata": {
    "scrolled": true
   },
   "outputs": [
    {
     "name": "stdout",
     "output_type": "stream",
     "text": [
      "Checking the Training on a Single Batch...\n",
      "Epoch  1, CIFAR-10 Batch 1:  Validation accuracy at 0.22499999403953552 --- Validation cost at 2.244029998779297 \n",
      "Epoch  2, CIFAR-10 Batch 1:  Validation accuracy at 0.32499998807907104 --- Validation cost at 2.1437344551086426 \n",
      "Epoch  3, CIFAR-10 Batch 1:  Validation accuracy at 0.42500001192092896 --- Validation cost at 2.0456790924072266 \n",
      "Epoch  4, CIFAR-10 Batch 1:  Validation accuracy at 0.42500001192092896 --- Validation cost at 1.9962037801742554 \n",
      "Epoch  5, CIFAR-10 Batch 1:  Validation accuracy at 0.375 --- Validation cost at 1.94342041015625 \n",
      "Epoch  6, CIFAR-10 Batch 1:  Validation accuracy at 0.44999998807907104 --- Validation cost at 1.8801047801971436 \n",
      "Epoch  7, CIFAR-10 Batch 1:  Validation accuracy at 0.44999998807907104 --- Validation cost at 1.8293464183807373 \n",
      "Epoch  8, CIFAR-10 Batch 1:  Validation accuracy at 0.4000000059604645 --- Validation cost at 1.7856776714324951 \n",
      "Epoch  9, CIFAR-10 Batch 1:  Validation accuracy at 0.4000000059604645 --- Validation cost at 1.7641384601593018 \n",
      "Epoch 10, CIFAR-10 Batch 1:  Validation accuracy at 0.4000000059604645 --- Validation cost at 1.7606550455093384 \n",
      "Epoch 11, CIFAR-10 Batch 1:  Validation accuracy at 0.4000000059604645 --- Validation cost at 1.7494151592254639 \n",
      "Epoch 12, CIFAR-10 Batch 1:  Validation accuracy at 0.4749999940395355 --- Validation cost at 1.6806526184082031 \n",
      "Epoch 13, CIFAR-10 Batch 1:  Validation accuracy at 0.42500001192092896 --- Validation cost at 1.7357902526855469 \n",
      "Epoch 14, CIFAR-10 Batch 1:  Validation accuracy at 0.4749999940395355 --- Validation cost at 1.6269257068634033 \n",
      "Epoch 15, CIFAR-10 Batch 1:  Validation accuracy at 0.4749999940395355 --- Validation cost at 1.6562316417694092 \n",
      "Epoch 16, CIFAR-10 Batch 1:  Validation accuracy at 0.4749999940395355 --- Validation cost at 1.6272342205047607 \n",
      "Epoch 17, CIFAR-10 Batch 1:  Validation accuracy at 0.4749999940395355 --- Validation cost at 1.5874006748199463 \n",
      "Epoch 18, CIFAR-10 Batch 1:  Validation accuracy at 0.5 --- Validation cost at 1.5745116472244263 \n",
      "Epoch 19, CIFAR-10 Batch 1:  Validation accuracy at 0.4749999940395355 --- Validation cost at 1.5734158754348755 \n",
      "Epoch 20, CIFAR-10 Batch 1:  Validation accuracy at 0.5 --- Validation cost at 1.5342375040054321 \n",
      "Epoch 21, CIFAR-10 Batch 1:  Validation accuracy at 0.5249999761581421 --- Validation cost at 1.4599177837371826 \n",
      "Epoch 22, CIFAR-10 Batch 1:  Validation accuracy at 0.5 --- Validation cost at 1.4710054397583008 \n",
      "Epoch 23, CIFAR-10 Batch 1:  Validation accuracy at 0.550000011920929 --- Validation cost at 1.4508056640625 \n",
      "Epoch 24, CIFAR-10 Batch 1:  Validation accuracy at 0.5 --- Validation cost at 1.4660089015960693 \n",
      "Epoch 25, CIFAR-10 Batch 1:  Validation accuracy at 0.5 --- Validation cost at 1.5004370212554932 \n",
      "Epoch 26, CIFAR-10 Batch 1:  Validation accuracy at 0.5 --- Validation cost at 1.415923833847046 \n",
      "Epoch 27, CIFAR-10 Batch 1:  Validation accuracy at 0.5 --- Validation cost at 1.4201595783233643 \n",
      "Epoch 28, CIFAR-10 Batch 1:  Validation accuracy at 0.5 --- Validation cost at 1.4088690280914307 \n",
      "Epoch 29, CIFAR-10 Batch 1:  Validation accuracy at 0.550000011920929 --- Validation cost at 1.3267872333526611 \n",
      "Epoch 30, CIFAR-10 Batch 1:  Validation accuracy at 0.5 --- Validation cost at 1.3621571063995361 \n",
      "Epoch 31, CIFAR-10 Batch 1:  Validation accuracy at 0.5249999761581421 --- Validation cost at 1.346177339553833 \n",
      "Epoch 32, CIFAR-10 Batch 1:  Validation accuracy at 0.574999988079071 --- Validation cost at 1.3458459377288818 \n",
      "Epoch 33, CIFAR-10 Batch 1:  Validation accuracy at 0.550000011920929 --- Validation cost at 1.35938560962677 \n",
      "Epoch 34, CIFAR-10 Batch 1:  Validation accuracy at 0.550000011920929 --- Validation cost at 1.2874165773391724 \n",
      "Epoch 35, CIFAR-10 Batch 1:  Validation accuracy at 0.5249999761581421 --- Validation cost at 1.2604801654815674 \n",
      "Epoch 36, CIFAR-10 Batch 1:  Validation accuracy at 0.6000000238418579 --- Validation cost at 1.3128725290298462 \n",
      "Epoch 37, CIFAR-10 Batch 1:  Validation accuracy at 0.5249999761581421 --- Validation cost at 1.2395851612091064 \n",
      "Epoch 38, CIFAR-10 Batch 1:  Validation accuracy at 0.6000000238418579 --- Validation cost at 1.247166633605957 \n",
      "Epoch 39, CIFAR-10 Batch 1:  Validation accuracy at 0.574999988079071 --- Validation cost at 1.1844593286514282 \n",
      "Epoch 40, CIFAR-10 Batch 1:  Validation accuracy at 0.550000011920929 --- Validation cost at 1.1860418319702148 \n"
     ]
    }
   ],
   "source": [
    "\"\"\"\n",
    "DON'T MODIFY ANYTHING IN THIS CELL\n",
    "\"\"\"\n",
    "print('Checking the Training on a Single Batch...')\n",
    "with tf.Session() as sess:\n",
    "    # Initializing the variables\n",
    "    sess.run(tf.global_variables_initializer())\n",
    "    \n",
    "    # Training cycle\n",
    "    for epoch in range(epochs):\n",
    "        batch_i = 1\n",
    "        for batch_features, batch_labels in helper.load_preprocess_training_batch(batch_i, batch_size):\n",
    "            train_neural_network(sess, optimizer, keep_probability, batch_features, batch_labels)\n",
    "        print('Epoch {:>2}, CIFAR-10 Batch {}:  '.format(epoch + 1, batch_i), end='')\n",
    "        print_stats(sess, batch_features, batch_labels, cost, accuracy)"
   ]
  },
  {
   "cell_type": "markdown",
   "metadata": {},
   "source": [
    "### Fully Train the Model\n",
    "Now that you got a good accuracy with a single CIFAR-10 batch, try it with all five batches."
   ]
  },
  {
   "cell_type": "code",
   "execution_count": 212,
   "metadata": {},
   "outputs": [
    {
     "name": "stdout",
     "output_type": "stream",
     "text": [
      "Training...\n",
      "Epoch  1, CIFAR-10 Batch 1:  Validation accuracy at 0.07500000298023224 --- Validation cost at 2.30123233795166 \n",
      "Epoch  1, CIFAR-10 Batch 2:  Validation accuracy at 0.22499999403953552 --- Validation cost at 2.211491584777832 \n",
      "Epoch  1, CIFAR-10 Batch 3:  Validation accuracy at 0.25 --- Validation cost at 2.0119941234588623 \n",
      "Epoch  1, CIFAR-10 Batch 4:  Validation accuracy at 0.22499999403953552 --- Validation cost at 2.0099782943725586 \n",
      "Epoch  1, CIFAR-10 Batch 5:  Validation accuracy at 0.30000001192092896 --- Validation cost at 1.8965314626693726 \n",
      "Epoch  2, CIFAR-10 Batch 1:  Validation accuracy at 0.25 --- Validation cost at 1.9548622369766235 \n",
      "Epoch  2, CIFAR-10 Batch 2:  Validation accuracy at 0.375 --- Validation cost at 1.959939956665039 \n",
      "Epoch  2, CIFAR-10 Batch 3:  Validation accuracy at 0.44999998807907104 --- Validation cost at 1.7457101345062256 \n",
      "Epoch  2, CIFAR-10 Batch 4:  Validation accuracy at 0.42500001192092896 --- Validation cost at 1.8113991022109985 \n",
      "Epoch  2, CIFAR-10 Batch 5:  Validation accuracy at 0.42500001192092896 --- Validation cost at 1.796544075012207 \n",
      "Epoch  3, CIFAR-10 Batch 1:  Validation accuracy at 0.4749999940395355 --- Validation cost at 1.7689034938812256 \n",
      "Epoch  3, CIFAR-10 Batch 2:  Validation accuracy at 0.42500001192092896 --- Validation cost at 1.7592064142227173 \n",
      "Epoch  3, CIFAR-10 Batch 3:  Validation accuracy at 0.4749999940395355 --- Validation cost at 1.5901463031768799 \n",
      "Epoch  3, CIFAR-10 Batch 4:  Validation accuracy at 0.375 --- Validation cost at 1.7353874444961548 \n",
      "Epoch  3, CIFAR-10 Batch 5:  Validation accuracy at 0.5 --- Validation cost at 1.6576588153839111 \n",
      "Epoch  4, CIFAR-10 Batch 1:  Validation accuracy at 0.5 --- Validation cost at 1.595375418663025 \n",
      "Epoch  4, CIFAR-10 Batch 2:  Validation accuracy at 0.44999998807907104 --- Validation cost at 1.6268281936645508 \n",
      "Epoch  4, CIFAR-10 Batch 3:  Validation accuracy at 0.42500001192092896 --- Validation cost at 1.6526607275009155 \n",
      "Epoch  4, CIFAR-10 Batch 4:  Validation accuracy at 0.44999998807907104 --- Validation cost at 1.5941197872161865 \n",
      "Epoch  4, CIFAR-10 Batch 5:  Validation accuracy at 0.550000011920929 --- Validation cost at 1.6438182592391968 \n",
      "Epoch  5, CIFAR-10 Batch 1:  Validation accuracy at 0.5249999761581421 --- Validation cost at 1.5539824962615967 \n",
      "Epoch  5, CIFAR-10 Batch 2:  Validation accuracy at 0.44999998807907104 --- Validation cost at 1.6029245853424072 \n",
      "Epoch  5, CIFAR-10 Batch 3:  Validation accuracy at 0.5 --- Validation cost at 1.5068782567977905 \n",
      "Epoch  5, CIFAR-10 Batch 4:  Validation accuracy at 0.6000000238418579 --- Validation cost at 1.5194758176803589 \n",
      "Epoch  5, CIFAR-10 Batch 5:  Validation accuracy at 0.4749999940395355 --- Validation cost at 1.590505838394165 \n",
      "Epoch  6, CIFAR-10 Batch 1:  Validation accuracy at 0.550000011920929 --- Validation cost at 1.4631121158599854 \n",
      "Epoch  6, CIFAR-10 Batch 2:  Validation accuracy at 0.5 --- Validation cost at 1.513400912284851 \n",
      "Epoch  6, CIFAR-10 Batch 3:  Validation accuracy at 0.5249999761581421 --- Validation cost at 1.4155584573745728 \n",
      "Epoch  6, CIFAR-10 Batch 4:  Validation accuracy at 0.574999988079071 --- Validation cost at 1.455733299255371 \n",
      "Epoch  6, CIFAR-10 Batch 5:  Validation accuracy at 0.574999988079071 --- Validation cost at 1.497262716293335 \n",
      "Epoch  7, CIFAR-10 Batch 1:  Validation accuracy at 0.5 --- Validation cost at 1.5323556661605835 \n",
      "Epoch  7, CIFAR-10 Batch 2:  Validation accuracy at 0.625 --- Validation cost at 1.3433551788330078 \n",
      "Epoch  7, CIFAR-10 Batch 3:  Validation accuracy at 0.5 --- Validation cost at 1.483618974685669 \n",
      "Epoch  7, CIFAR-10 Batch 4:  Validation accuracy at 0.5 --- Validation cost at 1.4418522119522095 \n",
      "Epoch  7, CIFAR-10 Batch 5:  Validation accuracy at 0.574999988079071 --- Validation cost at 1.4564638137817383 \n",
      "Epoch  8, CIFAR-10 Batch 1:  Validation accuracy at 0.5 --- Validation cost at 1.4596478939056396 \n",
      "Epoch  8, CIFAR-10 Batch 2:  Validation accuracy at 0.5249999761581421 --- Validation cost at 1.3188318014144897 \n",
      "Epoch  8, CIFAR-10 Batch 3:  Validation accuracy at 0.550000011920929 --- Validation cost at 1.3362252712249756 \n",
      "Epoch  8, CIFAR-10 Batch 4:  Validation accuracy at 0.6000000238418579 --- Validation cost at 1.3814483880996704 \n",
      "Epoch  8, CIFAR-10 Batch 5:  Validation accuracy at 0.6000000238418579 --- Validation cost at 1.4246255159378052 \n",
      "Epoch  9, CIFAR-10 Batch 1:  Validation accuracy at 0.574999988079071 --- Validation cost at 1.4145034551620483 \n",
      "Epoch  9, CIFAR-10 Batch 2:  Validation accuracy at 0.6000000238418579 --- Validation cost at 1.3100208044052124 \n",
      "Epoch  9, CIFAR-10 Batch 3:  Validation accuracy at 0.6000000238418579 --- Validation cost at 1.3837182521820068 \n",
      "Epoch  9, CIFAR-10 Batch 4:  Validation accuracy at 0.625 --- Validation cost at 1.329059362411499 \n",
      "Epoch  9, CIFAR-10 Batch 5:  Validation accuracy at 0.6499999761581421 --- Validation cost at 1.395171880722046 \n",
      "Epoch 10, CIFAR-10 Batch 1:  Validation accuracy at 0.574999988079071 --- Validation cost at 1.4125739336013794 \n",
      "Epoch 10, CIFAR-10 Batch 2:  Validation accuracy at 0.574999988079071 --- Validation cost at 1.28946053981781 \n",
      "Epoch 10, CIFAR-10 Batch 3:  Validation accuracy at 0.574999988079071 --- Validation cost at 1.3652821779251099 \n",
      "Epoch 10, CIFAR-10 Batch 4:  Validation accuracy at 0.6499999761581421 --- Validation cost at 1.2266812324523926 \n",
      "Epoch 10, CIFAR-10 Batch 5:  Validation accuracy at 0.6000000238418579 --- Validation cost at 1.3686853647232056 \n",
      "Epoch 11, CIFAR-10 Batch 1:  Validation accuracy at 0.6000000238418579 --- Validation cost at 1.4332468509674072 \n",
      "Epoch 11, CIFAR-10 Batch 2:  Validation accuracy at 0.6000000238418579 --- Validation cost at 1.194953203201294 \n",
      "Epoch 11, CIFAR-10 Batch 3:  Validation accuracy at 0.550000011920929 --- Validation cost at 1.2765867710113525 \n",
      "Epoch 11, CIFAR-10 Batch 4:  Validation accuracy at 0.625 --- Validation cost at 1.2981507778167725 \n",
      "Epoch 11, CIFAR-10 Batch 5:  Validation accuracy at 0.675000011920929 --- Validation cost at 1.3130773305892944 \n",
      "Epoch 12, CIFAR-10 Batch 1:  Validation accuracy at 0.6499999761581421 --- Validation cost at 1.3175594806671143 \n",
      "Epoch 12, CIFAR-10 Batch 2:  Validation accuracy at 0.550000011920929 --- Validation cost at 1.2452188730239868 \n",
      "Epoch 12, CIFAR-10 Batch 3:  Validation accuracy at 0.699999988079071 --- Validation cost at 1.2359082698822021 \n",
      "Epoch 12, CIFAR-10 Batch 4:  Validation accuracy at 0.699999988079071 --- Validation cost at 1.2280750274658203 \n",
      "Epoch 12, CIFAR-10 Batch 5:  Validation accuracy at 0.6000000238418579 --- Validation cost at 1.4611371755599976 \n",
      "Epoch 13, CIFAR-10 Batch 1:  Validation accuracy at 0.5249999761581421 --- Validation cost at 1.3575767278671265 \n",
      "Epoch 13, CIFAR-10 Batch 2:  Validation accuracy at 0.574999988079071 --- Validation cost at 1.2235254049301147 \n",
      "Epoch 13, CIFAR-10 Batch 3:  Validation accuracy at 0.675000011920929 --- Validation cost at 1.2168668508529663 \n",
      "Epoch 13, CIFAR-10 Batch 4:  Validation accuracy at 0.625 --- Validation cost at 1.2294933795928955 \n",
      "Epoch 13, CIFAR-10 Batch 5:  Validation accuracy at 0.699999988079071 --- Validation cost at 1.3249642848968506 \n",
      "Epoch 14, CIFAR-10 Batch 1:  Validation accuracy at 0.550000011920929 --- Validation cost at 1.2620937824249268 \n",
      "Epoch 14, CIFAR-10 Batch 2:  Validation accuracy at 0.574999988079071 --- Validation cost at 1.2420313358306885 \n",
      "Epoch 14, CIFAR-10 Batch 3:  Validation accuracy at 0.699999988079071 --- Validation cost at 1.1480709314346313 \n",
      "Epoch 14, CIFAR-10 Batch 4:  Validation accuracy at 0.699999988079071 --- Validation cost at 1.2015862464904785 \n",
      "Epoch 14, CIFAR-10 Batch 5:  Validation accuracy at 0.7250000238418579 --- Validation cost at 1.3317546844482422 \n",
      "Epoch 15, CIFAR-10 Batch 1:  Validation accuracy at 0.574999988079071 --- Validation cost at 1.366700530052185 \n",
      "Epoch 15, CIFAR-10 Batch 2:  Validation accuracy at 0.625 --- Validation cost at 1.2044535875320435 \n",
      "Epoch 15, CIFAR-10 Batch 3:  Validation accuracy at 0.75 --- Validation cost at 1.1122242212295532 \n",
      "Epoch 15, CIFAR-10 Batch 4:  Validation accuracy at 0.75 --- Validation cost at 1.1179465055465698 \n",
      "Epoch 15, CIFAR-10 Batch 5:  Validation accuracy at 0.7250000238418579 --- Validation cost at 1.3316034078598022 \n"
     ]
    },
    {
     "name": "stdout",
     "output_type": "stream",
     "text": [
      "Epoch 16, CIFAR-10 Batch 1:  Validation accuracy at 0.574999988079071 --- Validation cost at 1.2947276830673218 \n",
      "Epoch 16, CIFAR-10 Batch 2:  Validation accuracy at 0.675000011920929 --- Validation cost at 1.1317387819290161 \n",
      "Epoch 16, CIFAR-10 Batch 3:  Validation accuracy at 0.75 --- Validation cost at 1.041632890701294 \n",
      "Epoch 16, CIFAR-10 Batch 4:  Validation accuracy at 0.675000011920929 --- Validation cost at 1.0966898202896118 \n",
      "Epoch 16, CIFAR-10 Batch 5:  Validation accuracy at 0.7250000238418579 --- Validation cost at 1.3321279287338257 \n",
      "Epoch 17, CIFAR-10 Batch 1:  Validation accuracy at 0.625 --- Validation cost at 1.2660707235336304 \n",
      "Epoch 17, CIFAR-10 Batch 2:  Validation accuracy at 0.6499999761581421 --- Validation cost at 1.0728771686553955 \n",
      "Epoch 17, CIFAR-10 Batch 3:  Validation accuracy at 0.675000011920929 --- Validation cost at 1.087946891784668 \n",
      "Epoch 17, CIFAR-10 Batch 4:  Validation accuracy at 0.675000011920929 --- Validation cost at 1.116835355758667 \n",
      "Epoch 17, CIFAR-10 Batch 5:  Validation accuracy at 0.675000011920929 --- Validation cost at 1.2817796468734741 \n",
      "Epoch 18, CIFAR-10 Batch 1:  Validation accuracy at 0.625 --- Validation cost at 1.1995759010314941 \n",
      "Epoch 18, CIFAR-10 Batch 2:  Validation accuracy at 0.7250000238418579 --- Validation cost at 1.0708287954330444 \n",
      "Epoch 18, CIFAR-10 Batch 3:  Validation accuracy at 0.824999988079071 --- Validation cost at 1.0155866146087646 \n",
      "Epoch 18, CIFAR-10 Batch 4:  Validation accuracy at 0.675000011920929 --- Validation cost at 1.1088504791259766 \n",
      "Epoch 18, CIFAR-10 Batch 5:  Validation accuracy at 0.7749999761581421 --- Validation cost at 1.2326390743255615 \n",
      "Epoch 19, CIFAR-10 Batch 1:  Validation accuracy at 0.6000000238418579 --- Validation cost at 1.210518479347229 \n",
      "Epoch 19, CIFAR-10 Batch 2:  Validation accuracy at 0.625 --- Validation cost at 1.1076370477676392 \n",
      "Epoch 19, CIFAR-10 Batch 3:  Validation accuracy at 0.7250000238418579 --- Validation cost at 1.083114504814148 \n",
      "Epoch 19, CIFAR-10 Batch 4:  Validation accuracy at 0.75 --- Validation cost at 1.0778321027755737 \n",
      "Epoch 19, CIFAR-10 Batch 5:  Validation accuracy at 0.7250000238418579 --- Validation cost at 1.2992660999298096 \n",
      "Epoch 20, CIFAR-10 Batch 1:  Validation accuracy at 0.625 --- Validation cost at 1.2291326522827148 \n",
      "Epoch 20, CIFAR-10 Batch 2:  Validation accuracy at 0.75 --- Validation cost at 1.0466872453689575 \n",
      "Epoch 20, CIFAR-10 Batch 3:  Validation accuracy at 0.75 --- Validation cost at 1.0097233057022095 \n",
      "Epoch 20, CIFAR-10 Batch 4:  Validation accuracy at 0.75 --- Validation cost at 1.0525846481323242 \n",
      "Epoch 20, CIFAR-10 Batch 5:  Validation accuracy at 0.699999988079071 --- Validation cost at 1.18422532081604 \n",
      "Epoch 21, CIFAR-10 Batch 1:  Validation accuracy at 0.6499999761581421 --- Validation cost at 1.153504729270935 \n",
      "Epoch 21, CIFAR-10 Batch 2:  Validation accuracy at 0.675000011920929 --- Validation cost at 1.004295825958252 \n",
      "Epoch 21, CIFAR-10 Batch 3:  Validation accuracy at 0.800000011920929 --- Validation cost at 1.0004526376724243 \n",
      "Epoch 21, CIFAR-10 Batch 4:  Validation accuracy at 0.7250000238418579 --- Validation cost at 1.1153062582015991 \n",
      "Epoch 21, CIFAR-10 Batch 5:  Validation accuracy at 0.675000011920929 --- Validation cost at 1.2835652828216553 \n",
      "Epoch 22, CIFAR-10 Batch 1:  Validation accuracy at 0.625 --- Validation cost at 1.2818925380706787 \n",
      "Epoch 22, CIFAR-10 Batch 2:  Validation accuracy at 0.7250000238418579 --- Validation cost at 0.9668448567390442 \n",
      "Epoch 22, CIFAR-10 Batch 3:  Validation accuracy at 0.7749999761581421 --- Validation cost at 0.9248285293579102 \n",
      "Epoch 22, CIFAR-10 Batch 4:  Validation accuracy at 0.7250000238418579 --- Validation cost at 1.103792667388916 \n",
      "Epoch 22, CIFAR-10 Batch 5:  Validation accuracy at 0.6499999761581421 --- Validation cost at 1.2910945415496826 \n",
      "Epoch 23, CIFAR-10 Batch 1:  Validation accuracy at 0.625 --- Validation cost at 1.288029432296753 \n",
      "Epoch 23, CIFAR-10 Batch 2:  Validation accuracy at 0.7749999761581421 --- Validation cost at 0.9714063405990601 \n",
      "Epoch 23, CIFAR-10 Batch 3:  Validation accuracy at 0.7749999761581421 --- Validation cost at 0.9187033772468567 \n",
      "Epoch 23, CIFAR-10 Batch 4:  Validation accuracy at 0.7250000238418579 --- Validation cost at 1.0014879703521729 \n",
      "Epoch 23, CIFAR-10 Batch 5:  Validation accuracy at 0.7250000238418579 --- Validation cost at 1.2210792303085327 \n",
      "Epoch 24, CIFAR-10 Batch 1:  Validation accuracy at 0.6000000238418579 --- Validation cost at 1.1921207904815674 \n",
      "Epoch 24, CIFAR-10 Batch 2:  Validation accuracy at 0.800000011920929 --- Validation cost at 0.9480257034301758 \n",
      "Epoch 24, CIFAR-10 Batch 3:  Validation accuracy at 0.824999988079071 --- Validation cost at 0.9140421748161316 \n",
      "Epoch 24, CIFAR-10 Batch 4:  Validation accuracy at 0.75 --- Validation cost at 1.017528772354126 \n",
      "Epoch 24, CIFAR-10 Batch 5:  Validation accuracy at 0.699999988079071 --- Validation cost at 1.1746069192886353 \n",
      "Epoch 25, CIFAR-10 Batch 1:  Validation accuracy at 0.675000011920929 --- Validation cost at 1.0882190465927124 \n",
      "Epoch 25, CIFAR-10 Batch 2:  Validation accuracy at 0.7250000238418579 --- Validation cost at 0.9496048092842102 \n",
      "Epoch 25, CIFAR-10 Batch 3:  Validation accuracy at 0.7749999761581421 --- Validation cost at 0.8731188774108887 \n",
      "Epoch 25, CIFAR-10 Batch 4:  Validation accuracy at 0.7749999761581421 --- Validation cost at 0.9777286648750305 \n",
      "Epoch 25, CIFAR-10 Batch 5:  Validation accuracy at 0.6000000238418579 --- Validation cost at 1.3380204439163208 \n",
      "Epoch 26, CIFAR-10 Batch 1:  Validation accuracy at 0.675000011920929 --- Validation cost at 1.0539439916610718 \n",
      "Epoch 26, CIFAR-10 Batch 2:  Validation accuracy at 0.75 --- Validation cost at 0.9233085513114929 \n",
      "Epoch 26, CIFAR-10 Batch 3:  Validation accuracy at 0.7749999761581421 --- Validation cost at 0.8887192606925964 \n",
      "Epoch 26, CIFAR-10 Batch 4:  Validation accuracy at 0.800000011920929 --- Validation cost at 1.0129610300064087 \n",
      "Epoch 26, CIFAR-10 Batch 5:  Validation accuracy at 0.699999988079071 --- Validation cost at 1.2374944686889648 \n",
      "Epoch 27, CIFAR-10 Batch 1:  Validation accuracy at 0.6499999761581421 --- Validation cost at 1.117292046546936 \n",
      "Epoch 27, CIFAR-10 Batch 2:  Validation accuracy at 0.75 --- Validation cost at 1.009354829788208 \n",
      "Epoch 27, CIFAR-10 Batch 3:  Validation accuracy at 0.8500000238418579 --- Validation cost at 0.8743966817855835 \n",
      "Epoch 27, CIFAR-10 Batch 4:  Validation accuracy at 0.7250000238418579 --- Validation cost at 1.0041238069534302 \n",
      "Epoch 27, CIFAR-10 Batch 5:  Validation accuracy at 0.699999988079071 --- Validation cost at 1.2220959663391113 \n",
      "Epoch 28, CIFAR-10 Batch 1:  Validation accuracy at 0.699999988079071 --- Validation cost at 1.051364541053772 \n",
      "Epoch 28, CIFAR-10 Batch 2:  Validation accuracy at 0.75 --- Validation cost at 0.8972841501235962 \n",
      "Epoch 28, CIFAR-10 Batch 3:  Validation accuracy at 0.8500000238418579 --- Validation cost at 0.8719772100448608 \n",
      "Epoch 28, CIFAR-10 Batch 4:  Validation accuracy at 0.824999988079071 --- Validation cost at 0.9485090970993042 \n",
      "Epoch 28, CIFAR-10 Batch 5:  Validation accuracy at 0.800000011920929 --- Validation cost at 1.1266803741455078 \n",
      "Epoch 29, CIFAR-10 Batch 1:  Validation accuracy at 0.699999988079071 --- Validation cost at 1.023653268814087 \n",
      "Epoch 29, CIFAR-10 Batch 2:  Validation accuracy at 0.7250000238418579 --- Validation cost at 1.0111677646636963 \n",
      "Epoch 29, CIFAR-10 Batch 3:  Validation accuracy at 0.8500000238418579 --- Validation cost at 0.9011751413345337 \n",
      "Epoch 29, CIFAR-10 Batch 4:  Validation accuracy at 0.7250000238418579 --- Validation cost at 0.9846504330635071 \n",
      "Epoch 29, CIFAR-10 Batch 5:  Validation accuracy at 0.699999988079071 --- Validation cost at 1.2108476161956787 \n",
      "Epoch 30, CIFAR-10 Batch 1:  Validation accuracy at 0.699999988079071 --- Validation cost at 1.1243340969085693 \n",
      "Epoch 30, CIFAR-10 Batch 2:  Validation accuracy at 0.824999988079071 --- Validation cost at 0.8689221143722534 \n",
      "Epoch 30, CIFAR-10 Batch 3:  Validation accuracy at 0.800000011920929 --- Validation cost at 0.8795596361160278 \n",
      "Epoch 30, CIFAR-10 Batch 4:  Validation accuracy at 0.75 --- Validation cost at 0.9782161712646484 \n",
      "Epoch 30, CIFAR-10 Batch 5:  Validation accuracy at 0.6499999761581421 --- Validation cost at 1.1980708837509155 \n"
     ]
    },
    {
     "name": "stdout",
     "output_type": "stream",
     "text": [
      "Epoch 31, CIFAR-10 Batch 1:  Validation accuracy at 0.625 --- Validation cost at 1.106464147567749 \n",
      "Epoch 31, CIFAR-10 Batch 2:  Validation accuracy at 0.75 --- Validation cost at 0.8563057780265808 \n",
      "Epoch 31, CIFAR-10 Batch 3:  Validation accuracy at 0.800000011920929 --- Validation cost at 0.8573363423347473 \n",
      "Epoch 31, CIFAR-10 Batch 4:  Validation accuracy at 0.800000011920929 --- Validation cost at 0.930633544921875 \n",
      "Epoch 31, CIFAR-10 Batch 5:  Validation accuracy at 0.75 --- Validation cost at 1.114603042602539 \n",
      "Epoch 32, CIFAR-10 Batch 1:  Validation accuracy at 0.675000011920929 --- Validation cost at 1.0539277791976929 \n",
      "Epoch 32, CIFAR-10 Batch 2:  Validation accuracy at 0.675000011920929 --- Validation cost at 0.8671069145202637 \n",
      "Epoch 32, CIFAR-10 Batch 3:  Validation accuracy at 0.800000011920929 --- Validation cost at 0.9016801714897156 \n",
      "Epoch 32, CIFAR-10 Batch 4:  Validation accuracy at 0.699999988079071 --- Validation cost at 1.0203971862792969 \n",
      "Epoch 32, CIFAR-10 Batch 5:  Validation accuracy at 0.75 --- Validation cost at 1.1135421991348267 \n",
      "Epoch 33, CIFAR-10 Batch 1:  Validation accuracy at 0.6499999761581421 --- Validation cost at 1.091473937034607 \n",
      "Epoch 33, CIFAR-10 Batch 2:  Validation accuracy at 0.75 --- Validation cost at 0.8972612619400024 \n",
      "Epoch 33, CIFAR-10 Batch 3:  Validation accuracy at 0.875 --- Validation cost at 0.8173576593399048 \n",
      "Epoch 33, CIFAR-10 Batch 4:  Validation accuracy at 0.7749999761581421 --- Validation cost at 0.9626787304878235 \n",
      "Epoch 33, CIFAR-10 Batch 5:  Validation accuracy at 0.75 --- Validation cost at 1.1118439435958862 \n",
      "Epoch 34, CIFAR-10 Batch 1:  Validation accuracy at 0.6499999761581421 --- Validation cost at 1.0451850891113281 \n",
      "Epoch 34, CIFAR-10 Batch 2:  Validation accuracy at 0.75 --- Validation cost at 0.8574202656745911 \n",
      "Epoch 34, CIFAR-10 Batch 3:  Validation accuracy at 0.8999999761581421 --- Validation cost at 0.7740138173103333 \n",
      "Epoch 34, CIFAR-10 Batch 4:  Validation accuracy at 0.800000011920929 --- Validation cost at 0.9343295097351074 \n",
      "Epoch 34, CIFAR-10 Batch 5:  Validation accuracy at 0.699999988079071 --- Validation cost at 1.1444218158721924 \n",
      "Epoch 35, CIFAR-10 Batch 1:  Validation accuracy at 0.6499999761581421 --- Validation cost at 1.0863587856292725 \n",
      "Epoch 35, CIFAR-10 Batch 2:  Validation accuracy at 0.699999988079071 --- Validation cost at 0.8611768484115601 \n",
      "Epoch 35, CIFAR-10 Batch 3:  Validation accuracy at 0.8500000238418579 --- Validation cost at 0.819837749004364 \n",
      "Epoch 35, CIFAR-10 Batch 4:  Validation accuracy at 0.7749999761581421 --- Validation cost at 0.9138377904891968 \n",
      "Epoch 35, CIFAR-10 Batch 5:  Validation accuracy at 0.7250000238418579 --- Validation cost at 1.1041773557662964 \n",
      "Epoch 36, CIFAR-10 Batch 1:  Validation accuracy at 0.625 --- Validation cost at 1.1163524389266968 \n",
      "Epoch 36, CIFAR-10 Batch 2:  Validation accuracy at 0.75 --- Validation cost at 0.9170144200325012 \n",
      "Epoch 36, CIFAR-10 Batch 3:  Validation accuracy at 0.8500000238418579 --- Validation cost at 0.7951540946960449 \n",
      "Epoch 36, CIFAR-10 Batch 4:  Validation accuracy at 0.75 --- Validation cost at 0.92462158203125 \n",
      "Epoch 36, CIFAR-10 Batch 5:  Validation accuracy at 0.7250000238418579 --- Validation cost at 1.1510294675827026 \n",
      "Epoch 37, CIFAR-10 Batch 1:  Validation accuracy at 0.699999988079071 --- Validation cost at 1.0261393785476685 \n",
      "Epoch 37, CIFAR-10 Batch 2:  Validation accuracy at 0.7250000238418579 --- Validation cost at 0.8689996600151062 \n",
      "Epoch 37, CIFAR-10 Batch 3:  Validation accuracy at 0.8500000238418579 --- Validation cost at 0.9052443504333496 \n",
      "Epoch 37, CIFAR-10 Batch 4:  Validation accuracy at 0.800000011920929 --- Validation cost at 0.8462011218070984 \n",
      "Epoch 37, CIFAR-10 Batch 5:  Validation accuracy at 0.800000011920929 --- Validation cost at 1.012329339981079 \n",
      "Epoch 38, CIFAR-10 Batch 1:  Validation accuracy at 0.625 --- Validation cost at 1.118953824043274 \n",
      "Epoch 38, CIFAR-10 Batch 2:  Validation accuracy at 0.75 --- Validation cost at 0.8270232081413269 \n",
      "Epoch 38, CIFAR-10 Batch 3:  Validation accuracy at 0.824999988079071 --- Validation cost at 0.7770012617111206 \n",
      "Epoch 38, CIFAR-10 Batch 4:  Validation accuracy at 0.7749999761581421 --- Validation cost at 0.8694584965705872 \n",
      "Epoch 38, CIFAR-10 Batch 5:  Validation accuracy at 0.699999988079071 --- Validation cost at 1.2405290603637695 \n",
      "Epoch 39, CIFAR-10 Batch 1:  Validation accuracy at 0.75 --- Validation cost at 0.9731783866882324 \n",
      "Epoch 39, CIFAR-10 Batch 2:  Validation accuracy at 0.6499999761581421 --- Validation cost at 0.949972927570343 \n",
      "Epoch 39, CIFAR-10 Batch 3:  Validation accuracy at 0.8999999761581421 --- Validation cost at 0.7168182134628296 \n",
      "Epoch 39, CIFAR-10 Batch 4:  Validation accuracy at 0.75 --- Validation cost at 0.9039589166641235 \n",
      "Epoch 39, CIFAR-10 Batch 5:  Validation accuracy at 0.7749999761581421 --- Validation cost at 1.064099907875061 \n",
      "Epoch 40, CIFAR-10 Batch 1:  Validation accuracy at 0.75 --- Validation cost at 0.9510611295700073 \n",
      "Epoch 40, CIFAR-10 Batch 2:  Validation accuracy at 0.824999988079071 --- Validation cost at 0.8522529602050781 \n",
      "Epoch 40, CIFAR-10 Batch 3:  Validation accuracy at 0.824999988079071 --- Validation cost at 0.7735079526901245 \n",
      "Epoch 40, CIFAR-10 Batch 4:  Validation accuracy at 0.7749999761581421 --- Validation cost at 0.8644278645515442 \n",
      "Epoch 40, CIFAR-10 Batch 5:  Validation accuracy at 0.699999988079071 --- Validation cost at 1.1741673946380615 \n"
     ]
    }
   ],
   "source": [
    "\"\"\"\n",
    "DON'T MODIFY ANYTHING IN THIS CELL\n",
    "\"\"\"\n",
    "save_model_path = './image_classification'\n",
    "\n",
    "print('Training...')\n",
    "with tf.Session() as sess:\n",
    "    # Initializing the variables\n",
    "    sess.run(tf.global_variables_initializer())\n",
    "    \n",
    "    # Training cycle\n",
    "    for epoch in range(epochs):\n",
    "        # Loop over all batches\n",
    "        n_batches = 5\n",
    "        for batch_i in range(1, n_batches + 1):\n",
    "            for batch_features, batch_labels in helper.load_preprocess_training_batch(batch_i, batch_size):\n",
    "                train_neural_network(sess, optimizer, keep_probability, batch_features, batch_labels)\n",
    "            print('Epoch {:>2}, CIFAR-10 Batch {}:  '.format(epoch + 1, batch_i), end='')\n",
    "            print_stats(sess, batch_features, batch_labels, cost, accuracy)\n",
    "            \n",
    "    # Save Model\n",
    "    saver = tf.train.Saver()\n",
    "    save_path = saver.save(sess, save_model_path)"
   ]
  },
  {
   "cell_type": "markdown",
   "metadata": {},
   "source": [
    "# Checkpoint\n",
    "The model has been saved to disk.\n",
    "## Test Model\n",
    "Test your model against the test dataset.  This will be your final accuracy. You should have an accuracy greater than 50%. If you don't, keep tweaking the model architecture and parameters."
   ]
  },
  {
   "cell_type": "code",
   "execution_count": 214,
   "metadata": {
    "scrolled": true
   },
   "outputs": [
    {
     "name": "stdout",
     "output_type": "stream",
     "text": [
      "INFO:tensorflow:Restoring parameters from ./image_classification\n",
      "Testing Accuracy: 0.6541600318471338\n",
      "\n"
     ]
    },
    {
     "data": {
      "image/png": "[encoded data removed]",
      "text/plain": [
       "<matplotlib.figure.Figure at 0x10bb6e5f8>"
      ]
     },
     "metadata": {
      "image/png": {
       "height": 319,
       "width": 355
      }
     },
     "output_type": "display_data"
    }
   ],
   "source": [
    "\"\"\"\n",
    "DON'T MODIFY ANYTHING IN THIS CELL\n",
    "\"\"\"\n",
    "%matplotlib inline\n",
    "%config InlineBackend.figure_format = 'retina'\n",
    "\n",
    "import tensorflow as tf\n",
    "import pickle\n",
    "import helper\n",
    "import random\n",
    "\n",
    "# Set batch size if not already set\n",
    "try:\n",
    "    if batch_size:\n",
    "        pass\n",
    "except NameError:\n",
    "    batch_size = 64\n",
    "\n",
    "save_model_path = './image_classification'\n",
    "n_samples = 4\n",
    "top_n_predictions = 3\n",
    "\n",
    "def test_model():\n",
    "    \"\"\"\n",
    "    Test the saved model against the test dataset\n",
    "    \"\"\"\n",
    "\n",
    "    test_features, test_labels = pickle.load(open('preprocess_test.p', mode='rb'))\n",
    "    loaded_graph = tf.Graph()\n",
    "\n",
    "    with tf.Session(graph=loaded_graph) as sess:\n",
    "        # Load model\n",
    "        loader = tf.train.import_meta_graph(save_model_path + '.meta')\n",
    "        loader.restore(sess, save_model_path)\n",
    "\n",
    "        # Get Tensors from loaded model\n",
    "        loaded_x = loaded_graph.get_tensor_by_name('x:0')\n",
    "        loaded_y = loaded_graph.get_tensor_by_name('y:0')\n",
    "        loaded_keep_prob = loaded_graph.get_tensor_by_name('keep_prob:0')\n",
    "        loaded_logits = loaded_graph.get_tensor_by_name('logits:0')\n",
    "        loaded_acc = loaded_graph.get_tensor_by_name('accuracy:0')\n",
    "        \n",
    "        # Get accuracy in batches for memory limitations\n",
    "        test_batch_acc_total = 0\n",
    "        test_batch_count = 0\n",
    "        \n",
    "        for test_feature_batch, test_label_batch in helper.batch_features_labels(test_features, test_labels, batch_size):\n",
    "            test_batch_acc_total += sess.run(\n",
    "                loaded_acc,\n",
    "                feed_dict={loaded_x: test_feature_batch, loaded_y: test_label_batch, loaded_keep_prob: 1.0})\n",
    "            test_batch_count += 1\n",
    "\n",
    "        print('Testing Accuracy: {}\\n'.format(test_batch_acc_total/test_batch_count))\n",
    "\n",
    "        # Print Random Samples\n",
    "        random_test_features, random_test_labels = tuple(zip(*random.sample(list(zip(test_features, test_labels)), n_samples)))\n",
    "        random_test_predictions = sess.run(\n",
    "            tf.nn.top_k(tf.nn.softmax(loaded_logits), top_n_predictions),\n",
    "            feed_dict={loaded_x: random_test_features, loaded_y: random_test_labels, loaded_keep_prob: 1.0})\n",
    "        helper.display_image_predictions(random_test_features, random_test_labels, random_test_predictions)\n",
    "\n",
    "\n",
    "test_model()"
   ]
  },
  {
   "cell_type": "markdown",
   "metadata": {},
   "source": [
    "## Why 50-80% Accuracy?\n",
    "You might be wondering why you can't get an accuracy any higher. First things first, 50% isn't bad for a simple CNN.  Pure guessing would get you 10% accuracy. However, you might notice people are getting scores [well above 80%](http://rodrigob.github.io/are_we_there_yet/build/classification_datasets_results.html#43494641522d3130).  That's because we haven't taught you all there is to know about neural networks. We still need to cover a few more techniques.\n",
    "## Submitting This Project\n",
    "When submitting this project, make sure to run all the cells before saving the notebook.  Save the notebook file as \"dlnd_image_classification.ipynb\" and save it as a HTML file under \"File\" -> \"Download as\".  Include the \"helper.py\" and \"problem_unittests.py\" files in your submission."
   ]
  }
 ],
 "metadata": {
  "kernelspec": {
   "display_name": "Python 3",
   "language": "python",
   "name": "python3"
  },
  "language_info": {
   "codemirror_mode": {
    "name": "ipython",
    "version": 3
   },
   "file_extension": ".py",
   "mimetype": "text/x-python",
   "name": "python",
   "nbconvert_exporter": "python",
   "pygments_lexer": "ipython3",
   "version": "3.6.1"
  }
 },
 "nbformat": 4,
 "nbformat_minor": 1
}
