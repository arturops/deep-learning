{
 "cells": [
  {
   "cell_type": "markdown",
   "metadata": {
    "collapsed": true
   },
   "source": [
    "# Image Classification\n",
    "In this project, you'll classify images from the [CIFAR-10 dataset](https://www.cs.toronto.edu/~kriz/cifar.html).  The dataset consists of airplanes, dogs, cats, and other objects. You'll preprocess the images, then train a convolutional neural network on all the samples. The images need to be normalized and the labels need to be one-hot encoded.  You'll get to apply what you learned and build a convolutional, max pooling, dropout, and fully connected layers.  At the end, you'll get to see your neural network's predictions on the sample images.\n",
    "## Get the Data\n",
    "Run the following cell to download the [CIFAR-10 dataset for python](https://www.cs.toronto.edu/~kriz/cifar-10-python.tar.gz)."
   ]
  },
  {
   "cell_type": "code",
   "execution_count": 1,
   "metadata": {},
   "outputs": [
    {
     "name": "stdout",
     "output_type": "stream",
     "text": [
      "All files found!\n"
     ]
    }
   ],
   "source": [
    "\"\"\"\n",
    "DON'T MODIFY ANYTHING IN THIS CELL THAT IS BELOW THIS LINE\n",
    "\"\"\"\n",
    "from urllib.request import urlretrieve\n",
    "from os.path import isfile, isdir\n",
    "from tqdm import tqdm\n",
    "import problem_unittests as tests\n",
    "import tarfile\n",
    "\n",
    "cifar10_dataset_folder_path = 'cifar-10-batches-py'\n",
    "\n",
    "# Use Floyd's cifar-10 dataset if present\n",
    "floyd_cifar10_location = '/input/cifar-10/python.tar.gz'\n",
    "if isfile(floyd_cifar10_location):\n",
    "    tar_gz_path = floyd_cifar10_location\n",
    "else:\n",
    "    tar_gz_path = 'cifar-10-python.tar.gz'\n",
    "\n",
    "class DLProgress(tqdm):\n",
    "    last_block = 0\n",
    "\n",
    "    def hook(self, block_num=1, block_size=1, total_size=None):\n",
    "        self.total = total_size\n",
    "        self.update((block_num - self.last_block) * block_size)\n",
    "        self.last_block = block_num\n",
    "\n",
    "if not isfile(tar_gz_path):\n",
    "    with DLProgress(unit='B', unit_scale=True, miniters=1, desc='CIFAR-10 Dataset') as pbar:\n",
    "        urlretrieve(\n",
    "            'https://www.cs.toronto.edu/~kriz/cifar-10-python.tar.gz',\n",
    "            tar_gz_path,\n",
    "            pbar.hook)\n",
    "\n",
    "if not isdir(cifar10_dataset_folder_path):\n",
    "    with tarfile.open(tar_gz_path) as tar:\n",
    "        tar.extractall()\n",
    "        tar.close()\n",
    "\n",
    "\n",
    "tests.test_folder_path(cifar10_dataset_folder_path)"
   ]
  },
  {
   "cell_type": "markdown",
   "metadata": {},
   "source": [
    "## Explore the Data\n",
    "The dataset is broken into batches to prevent your machine from running out of memory.  The CIFAR-10 dataset consists of 5 batches, named `data_batch_1`, `data_batch_2`, etc.. Each batch contains the labels and images that are one of the following:\n",
    "* airplane\n",
    "* automobile\n",
    "* bird\n",
    "* cat\n",
    "* deer\n",
    "* dog\n",
    "* frog\n",
    "* horse\n",
    "* ship\n",
    "* truck\n",
    "\n",
    "Understanding a dataset is part of making predictions on the data.  Play around with the code cell below by changing the `batch_id` and `sample_id`. The `batch_id` is the id for a batch (1-5). The `sample_id` is the id for a image and label pair in the batch.\n",
    "\n",
    "Ask yourself \"What are all possible labels?\", \"What is the range of values for the image data?\", \"Are the labels in order or random?\".  Answers to questions like these will help you preprocess the data and end up with better predictions."
   ]
  },
  {
   "cell_type": "code",
   "execution_count": 2,
   "metadata": {},
   "outputs": [
    {
     "name": "stdout",
     "output_type": "stream",
     "text": [
      "\n",
      "Stats of batch 1:\n",
      "Samples: 10000\n",
      "Label Counts: {0: 1005, 1: 974, 2: 1032, 3: 1016, 4: 999, 5: 937, 6: 1030, 7: 1001, 8: 1025, 9: 981}\n",
      "First 20 Labels: [6, 9, 9, 4, 1, 1, 2, 7, 8, 3, 4, 7, 7, 2, 9, 9, 9, 3, 2, 6]\n",
      "\n",
      "Example of Image 17:\n",
      "Image - Min Value: 25 Max Value: 225\n",
      "Image - Shape: (32, 32, 3)\n",
      "Label - Label Id: 3 Name: cat\n"
     ]
    },
    {
     "data": {
      "image/png": "[encoded data removed]",
      "text/plain": [
       "<matplotlib.figure.Figure at 0x11d2ff860>"
      ]
     },
     "metadata": {
      "image/png": {
       "height": 250,
       "width": 253
      }
     },
     "output_type": "display_data"
    }
   ],
   "source": [
    "%matplotlib inline\n",
    "%config InlineBackend.figure_format = 'retina'\n",
    "\n",
    "import helper\n",
    "import numpy as np\n",
    "\n",
    "# Explore the dataset\n",
    "batch_id = 1\n",
    "sample_id = 17\n",
    "helper.display_stats(cifar10_dataset_folder_path, batch_id, sample_id)"
   ]
  },
  {
   "cell_type": "markdown",
   "metadata": {},
   "source": [
    "## Implement Preprocess Functions\n",
    "### Normalize\n",
    "In the cell below, implement the `normalize` function to take in image data, `x`, and return it as a normalized Numpy array. The values should be in the range of 0 to 1, inclusive.  The return object should be the same shape as `x`."
   ]
  },
  {
   "cell_type": "code",
   "execution_count": 3,
   "metadata": {},
   "outputs": [
    {
     "name": "stdout",
     "output_type": "stream",
     "text": [
      "Tests Passed\n"
     ]
    }
   ],
   "source": [
    "def normalize(x):\n",
    "    \"\"\"\n",
    "    Normalize a list of sample image data in the range of 0 to 1\n",
    "    : x: List of image data.  The image shape is (32, 32, 3)\n",
    "    : return: Numpy array of normalize data\n",
    "    \"\"\"\n",
    "    # TODO: Implement Function\n",
    "    np_x = np.array(x)\n",
    "    norm_x = (np_x)/255 # current normalization only divides by max value\n",
    "    # ANOTHER METHOD with range from -1 to 1\n",
    "    # (x - mean)/std = in an image mean=128 (expected) \n",
    "    #and std=128 (expected) since we want to center our distribution in 0. If 255 colors, approx -128..0..128\n",
    "    return norm_x\n",
    "\n",
    "\n",
    "\"\"\"\n",
    "DON'T MODIFY ANYTHING IN THIS CELL THAT IS BELOW THIS LINE\n",
    "\"\"\"\n",
    "tests.test_normalize(normalize)"
   ]
  },
  {
   "cell_type": "markdown",
   "metadata": {},
   "source": [
    "### One-hot encode\n",
    "Just like the previous code cell, you'll be implementing a function for preprocessing.  This time, you'll implement the `one_hot_encode` function. The input, `x`, are a list of labels.  Implement the function to return the list of labels as One-Hot encoded Numpy array.  The possible values for labels are 0 to 9. The one-hot encoding function should return the same encoding for each value between each call to `one_hot_encode`.  Make sure to save the map of encodings outside the function.\n",
    "\n",
    "Hint: Don't reinvent the wheel."
   ]
  },
  {
   "cell_type": "code",
   "execution_count": 4,
   "metadata": {},
   "outputs": [
    {
     "name": "stdout",
     "output_type": "stream",
     "text": [
      "Tests Passed\n"
     ]
    }
   ],
   "source": [
    "from sklearn import preprocessing \n",
    "\n",
    "def one_hot_encode(x):\n",
    "    \"\"\"\n",
    "    One hot encode a list of sample labels. Return a one-hot encoded vector for each label.\n",
    "    : x: List of sample Labels\n",
    "    : return: Numpy array of one-hot encoded labels\n",
    "    \"\"\"\n",
    "    # TODO: Implement Function\n",
    "    encode = preprocessing.LabelBinarizer()\n",
    "    encode.fit([0,1,2,3,4,5,6,7,8,9]) #possible values of labels to be encoded in vectors of 0's and 1's\n",
    "    \n",
    "    #show the encoding that corresponds to each label\n",
    "    #print (encode.classes_) \n",
    "    #print (encode.transform([9,8,7,6,5,4,3,2,1,0]))\n",
    "    \n",
    "    labels_one_hot_encode = encode.transform(x) # encodes the labels with 0,1 values based on labelID [0,9]\n",
    "    \n",
    "    return labels_one_hot_encode\n",
    "\n",
    "\n",
    "\"\"\"\n",
    "DON'T MODIFY ANYTHING IN THIS CELL THAT IS BELOW THIS LINE\n",
    "\"\"\"\n",
    "tests.test_one_hot_encode(one_hot_encode)"
   ]
  },
  {
   "cell_type": "markdown",
   "metadata": {},
   "source": [
    "### Randomize Data\n",
    "As you saw from exploring the data above, the order of the samples are randomized.  It doesn't hurt to randomize it again, but you don't need to for this dataset."
   ]
  },
  {
   "cell_type": "markdown",
   "metadata": {},
   "source": [
    "## Preprocess all the data and save it\n",
    "Running the code cell below will preprocess all the CIFAR-10 data and save it to file. The code below also uses 10% of the training data for validation."
   ]
  },
  {
   "cell_type": "code",
   "execution_count": 5,
   "metadata": {
    "collapsed": true
   },
   "outputs": [],
   "source": [
    "\"\"\"\n",
    "DON'T MODIFY ANYTHING IN THIS CELL\n",
    "\"\"\"\n",
    "# Preprocess Training, Validation, and Testing Data\n",
    "helper.preprocess_and_save_data(cifar10_dataset_folder_path, normalize, one_hot_encode)"
   ]
  },
  {
   "cell_type": "markdown",
   "metadata": {},
   "source": [
    "# Check Point\n",
    "This is your first checkpoint.  If you ever decide to come back to this notebook or have to restart the notebook, you can start from here.  The preprocessed data has been saved to disk."
   ]
  },
  {
   "cell_type": "code",
   "execution_count": 1,
   "metadata": {
    "collapsed": true
   },
   "outputs": [],
   "source": [
    "\"\"\"\n",
    "DON'T MODIFY ANYTHING IN THIS CELL\n",
    "\"\"\"\n",
    "import pickle\n",
    "import problem_unittests as tests\n",
    "import helper\n",
    "import numpy as np\n",
    "\n",
    "# Load the Preprocessed Validation data\n",
    "valid_features, valid_labels = pickle.load(open('preprocess_validation.p', mode='rb'))"
   ]
  },
  {
   "cell_type": "markdown",
   "metadata": {},
   "source": [
    "## Build the network\n",
    "For the neural network, you'll build each layer into a function.  Most of the code you've seen has been outside of functions. To test your code more thoroughly, we require that you put each layer in a function.  This allows us to give you better feedback and test for simple mistakes using our unittests before you submit your project.\n",
    "\n",
    ">**Note:** If you're finding it hard to dedicate enough time for this course each week, we've provided a small shortcut to this part of the project. In the next couple of problems, you'll have the option to use classes from the [TensorFlow Layers](https://www.tensorflow.org/api_docs/python/tf/layers) or [TensorFlow Layers (contrib)](https://www.tensorflow.org/api_guides/python/contrib.layers) packages to build each layer, except the layers you build in the \"Convolutional and Max Pooling Layer\" section.  TF Layers is similar to Keras's and TFLearn's abstraction to layers, so it's easy to pickup.\n",
    "\n",
    ">However, if you would like to get the most out of this course, try to solve all the problems _without_ using anything from the TF Layers packages. You **can** still use classes from other packages that happen to have the same name as ones you find in TF Layers! For example, instead of using the TF Layers version of the `conv2d` class, [tf.layers.conv2d](https://www.tensorflow.org/api_docs/python/tf/layers/conv2d), you would want to use the TF Neural Network version of `conv2d`, [tf.nn.conv2d](https://www.tensorflow.org/api_docs/python/tf/nn/conv2d). \n",
    "\n",
    "Let's begin!\n",
    "\n",
    "### Input\n",
    "The neural network needs to read the image data, one-hot encoded labels, and dropout keep probability. Implement the following functions\n",
    "* Implement `neural_net_image_input`\n",
    " * Return a [TF Placeholder](https://www.tensorflow.org/api_docs/python/tf/placeholder)\n",
    " * Set the shape using `image_shape` with batch size set to `None`.\n",
    " * Name the TensorFlow placeholder \"x\" using the TensorFlow `name` parameter in the [TF Placeholder](https://www.tensorflow.org/api_docs/python/tf/placeholder).\n",
    "* Implement `neural_net_label_input`\n",
    " * Return a [TF Placeholder](https://www.tensorflow.org/api_docs/python/tf/placeholder)\n",
    " * Set the shape using `n_classes` with batch size set to `None`.\n",
    " * Name the TensorFlow placeholder \"y\" using the TensorFlow `name` parameter in the [TF Placeholder](https://www.tensorflow.org/api_docs/python/tf/placeholder).\n",
    "* Implement `neural_net_keep_prob_input`\n",
    " * Return a [TF Placeholder](https://www.tensorflow.org/api_docs/python/tf/placeholder) for dropout keep probability.\n",
    " * Name the TensorFlow placeholder \"keep_prob\" using the TensorFlow `name` parameter in the [TF Placeholder](https://www.tensorflow.org/api_docs/python/tf/placeholder).\n",
    "\n",
    "These names will be used at the end of the project to load your saved model.\n",
    "\n",
    "Note: `None` for shapes in TensorFlow allow for a dynamic size."
   ]
  },
  {
   "cell_type": "code",
   "execution_count": 2,
   "metadata": {},
   "outputs": [
    {
     "name": "stdout",
     "output_type": "stream",
     "text": [
      "Image Input Tests Passed.\n",
      "Label Input Tests Passed.\n",
      "Keep Prob Tests Passed.\n"
     ]
    }
   ],
   "source": [
    "import tensorflow as tf\n",
    "\n",
    "def neural_net_image_input(image_shape):\n",
    "    \"\"\"\n",
    "    Return a Tensor for a batch of image input\n",
    "    : image_shape: Shape of the images\n",
    "    : return: Tensor for image input.\n",
    "    \"\"\"\n",
    "    # TODO: Implement Function\n",
    "    batch_size = None\n",
    "    return tf.placeholder(tf.float32, shape=([batch_size, image_shape[0], image_shape[1], image_shape[2]]), name=\"x\")\n",
    "\n",
    "\n",
    "def neural_net_label_input(n_classes):\n",
    "    \"\"\"\n",
    "    Return a Tensor for a batch of label input\n",
    "    : n_classes: Number of classes\n",
    "    : return: Tensor for label input.\n",
    "    \"\"\"\n",
    "    # TODO: Implement Function\n",
    "    batch_size = None\n",
    "    return tf.placeholder(tf.float32, shape=([batch_size, n_classes]), name=\"y\")\n",
    "\n",
    "\n",
    "def neural_net_keep_prob_input():\n",
    "    \"\"\"\n",
    "    Return a Tensor for keep probability\n",
    "    : return: Tensor for keep probability.\n",
    "    \"\"\"\n",
    "    # TODO: Implement Function\n",
    "    return tf.placeholder(tf.float32, shape=None, name=\"keep_prob\")\n",
    "\n",
    "#------------------Added the Batch Normalization option to the network--------------------------------\n",
    "def neural_net_batch_norm_mode_input(use_batch_norm, batch_norm_mode):\n",
    "    \"\"\"\n",
    "    Return a Tensor for batch normalization \n",
    "    Tensor 'use_batch_norm': Batch Normalization on/off (True = on, False = off)\n",
    "    Tensor 'batch_norm_mode': Batch Normalization mode (True = net is training, False = net in test mode)\n",
    "    : return: Tensor for batch normalization mode\n",
    "    \"\"\"\n",
    "    return tf.Variable(use_batch_norm, name =\"use_batch_norm\"), tf.placeholder(batch_norm_mode, name=\"batch_norm_mode\")\n",
    "#------------------------------------------------------------------------------------------------------\n",
    "\n",
    "\"\"\"\n",
    "DON'T MODIFY ANYTHING IN THIS CELL THAT IS BELOW THIS LINE\n",
    "\"\"\"\n",
    "tf.reset_default_graph()\n",
    "tests.test_nn_image_inputs(neural_net_image_input)\n",
    "tests.test_nn_label_inputs(neural_net_label_input)\n",
    "tests.test_nn_keep_prob_inputs(neural_net_keep_prob_input)"
   ]
  },
  {
   "cell_type": "markdown",
   "metadata": {},
   "source": [
    "### Batch Normalization (Added)\n",
    "\n",
    "Implemented a batch normalization wrapper that during training accumulates and computes the batches population mean and variance. Thus, in test it only uses the final computed mean and variance for the predictions in the neural net. Parameter `is_training` comes from a `tf.placeholder` in function `neural_net_batch_norm_mode_input()`. This parameter was added to the `conv2d_maxpool()` and `fully_conn()` functions to be able to define if the network is training or predicting(test), so that batch normalization performs accordingly [remember that batch norm works different for training than for predicting(test)]. \n",
    "Additional inputs were added to the `feed_dict` of `train_neural_net()` for `conv_net` so that the batch normalization mode can be turn on/off or set to training/test mode. "
   ]
  },
  {
   "cell_type": "code",
   "execution_count": 3,
   "metadata": {
    "collapsed": true
   },
   "outputs": [],
   "source": [
    "def batch_norm_wrapper(inputs, is_training,is_conv_layer=True, decay=0.999):\n",
    "    \"\"\"\n",
    "    Function that implements batch normalization. Stores the population mean and variance as tf.Variables,\n",
    "    and decides whether to use the batch statistics or the population statistics for normalization.\n",
    "    inputs: the dataset to learn(train)/predict(test) * weights of layer that uses this batch normalization, also used to get num_outputs\n",
    "    is_training: set to True to learn the population and variance during training. False to use in test dataset\n",
    "    decay: is a moving average decay rate to estimate the population mean and variance during training\n",
    "    Batch_Norm = Gamma * X + Beta <=> BN(x*weights + bias)\n",
    "    References:\n",
    "    https://gist.github.com/tomokishii/0ce3bdac1588b5cca9fa5fbdf6e1c412\n",
    "    http://stackoverflow.com/questions/33949786/how-could-i-use-batch-normalization-in-tensorflow\n",
    "    https://r2rt.com/implementing-batch-normalization-in-tensorflow.html\n",
    "    \"\"\"\n",
    "    epsilon = 1e-3\n",
    "    scale = tf.Variable(tf.ones([inputs.get_shape()[-1]])) #gamma \n",
    "    beta = tf.Variable(tf.zeros([inputs.get_shape()[-1]]))\n",
    "    pop_mean = tf.Variable(tf.zeros([inputs.get_shape()[-1]]), trainable = False) #False means we will train it rather than optimizer\n",
    "    pop_var = tf.Variable(tf.ones([inputs.get_shape()[-1]]), trainable = False) #False means we will train it rather than optimizer\n",
    "    \n",
    "    \n",
    "    if is_training:\n",
    "        # update/compute the population mean and variance of our total training dataset split into batches\n",
    "        # do this to know the value to use for the test and predictions\n",
    "        if is_conv_layer:\n",
    "            batch_mean, batch_var = tf.nn.moments(inputs,[0,1,2]) #conv layer needs 3 planes, dimensions -> [height,depth,colors]\n",
    "        else:\n",
    "            batch_mean, batch_var = tf.nn.moments(inputs,[0]) #fully connected layer only one plane (flat layer)\n",
    "        train_mean = tf.assign(pop_mean, pop_mean*decay + batch_mean*(1 - decay))\n",
    "        train_var = tf.assign(pop_var, pop_var * decay + batch_var * (1 - decay))\n",
    "        with tf.control_dependencies([train_mean, train_var]):\n",
    "            return tf.nn.batch_normalization(inputs, batch_mean, batch_var, beta, scale, epsilon)\n",
    "    else:\n",
    "        # when in test mode we need to use the population mean and var computed/learned from training\n",
    "        return tf.nn.batch_normalization(inputs, pop_mean, pop_var, beta, scale, epsilon) \n"
   ]
  },
  {
   "cell_type": "markdown",
   "metadata": {},
   "source": [
    "### Convolution and Max Pooling Layer\n",
    "Convolution layers have a lot of success with images. For this code cell, you should implement the function `conv2d_maxpool` to apply convolution then max pooling:\n",
    "* Create the weight and bias using `conv_ksize`, `conv_num_outputs` and the shape of `x_tensor`.\n",
    "* Apply a convolution to `x_tensor` using weight and `conv_strides`.\n",
    " * We recommend you use same padding, but you're welcome to use any padding.\n",
    "* Add bias\n",
    "* Add a nonlinear activation to the convolution.\n",
    "* Apply Max Pooling using `pool_ksize` and `pool_strides`.\n",
    " * We recommend you use same padding, but you're welcome to use any padding.\n",
    "\n",
    "**Note:** You **can't** use [TensorFlow Layers](https://www.tensorflow.org/api_docs/python/tf/layers) or [TensorFlow Layers (contrib)](https://www.tensorflow.org/api_guides/python/contrib.layers) for **this** layer, but you can still use TensorFlow's [Neural Network](https://www.tensorflow.org/api_docs/python/tf/nn) package. You may still use the shortcut option for all the **other** layers."
   ]
  },
  {
   "cell_type": "code",
   "execution_count": 4,
   "metadata": {},
   "outputs": [
    {
     "name": "stdout",
     "output_type": "stream",
     "text": [
      "Tests Passed\n"
     ]
    }
   ],
   "source": [
    "#def conv2d_maxpool(x_tensor, conv_num_outputs, conv_ksize, conv_strides, pool_ksize, pool_strides): #original function definition\n",
    "def conv2d_maxpool(x_tensor, conv_num_outputs, conv_ksize, conv_strides, pool_ksize, pool_strides, is_training=True, batch_norm_on=False): \n",
    "    \"\"\"\n",
    "    Apply convolution then max pooling to x_tensor\n",
    "    :param x_tensor: TensorFlow Tensor\n",
    "    :param conv_num_outputs: Number of outputs for the convolutional layer\n",
    "    :param conv_ksize: kernal size 2-D Tuple for the convolutional layer\n",
    "    :param conv_strides: Stride 2-D Tuple for convolution\n",
    "    :param pool_ksize: kernal size 2-D Tuple for pool\n",
    "    :param pool_strides: Stride 2-D Tuple for pool\n",
    "    : return: A tensor that represents convolution and max pooling of x_tensor\n",
    "    \"\"\"\n",
    "    # TODO: Implement Function\n",
    "    \n",
    "    #weights\n",
    "    filter_height  = conv_ksize[0]\n",
    "    filter_width   = conv_ksize[1]\n",
    "    color_channels = x_tensor.get_shape().as_list()[-1] # to read last value of list that contains the number of color channels \n",
    "    # truncated normal std dev initialization of weights\n",
    "    weights = tf.Variable(tf.truncated_normal([filter_height,filter_width,color_channels,conv_num_outputs], mean=0.0, stddev=0.1))\n",
    "\n",
    "    # Xavier Initialization - needs different names for vars\n",
    "    #weights = tf.get_variable(\"w_conv\",shape=[filter_height,filter_width,color_channels,conv_num_outputs],initializer=tf.contrib.layers.xavier_initializer())\n",
    "    \n",
    "    #bias\n",
    "    bias = tf.Variable(tf.zeros(conv_num_outputs))\n",
    "    \n",
    "    #Convolution\n",
    "    #batch and channel are commonly set to 1\n",
    "    conv_batch_size = 1\n",
    "    conv_channel_size = 1\n",
    "    conv_strides4D = [conv_batch_size, conv_strides[0], conv_strides[1], conv_channel_size]\n",
    "    conv_layer = tf.nn.conv2d(x_tensor, weights, conv_strides4D, padding='SAME')\n",
    "    \n",
    "    #Add Bias\n",
    "    conv_layer = tf.nn.bias_add(conv_layer, bias)\n",
    "    \n",
    "    #Non-linear activation \n",
    "    conv_layer = tf.nn.relu(conv_layer)\n",
    "    \n",
    "    #----------------------- Added the Batch Normalization after ReLU --------------------\n",
    "    if batch_norm_on:\n",
    "        conv_layer = batch_norm_wrapper(conv_layer, is_training, True) #true means this is a conv_layer that uses Batch norm\n",
    "        #conv_layer = tf.cond(is_training, lambda: batch_norm_wrapper(conv_layer, 1), lambda: conv_layer)\n",
    "        # Apparently doing batch norm after ReLU works well, but you might want to do ReLU again and then pooling\n",
    "        conv_layer = tf.nn.relu(conv_layer)\n",
    "    #-------------------------------------------------------------------------------------\n",
    "    \n",
    "    #Max pooling\n",
    "    # batch and channel are commonly set to 1\n",
    "    pool_batch_size = 1\n",
    "    pool_channel_size = 1\n",
    "    pool_ksize4D = [pool_batch_size, pool_ksize[0], pool_ksize[1], pool_channel_size]\n",
    "    pool_strides4D = [1, pool_strides[0], pool_strides[1], 1]\n",
    "    conv_layer = tf.nn.max_pool(conv_layer, pool_ksize4D, pool_strides4D, padding='SAME')\n",
    "    \n",
    "    return conv_layer\n",
    "\n",
    "\n",
    "\"\"\"\n",
    "DON'T MODIFY ANYTHING IN THIS CELL THAT IS BELOW THIS LINE\n",
    "\"\"\"\n",
    "tests.test_con_pool(conv2d_maxpool)"
   ]
  },
  {
   "cell_type": "markdown",
   "metadata": {},
   "source": [
    "### Flatten Layer\n",
    "Implement the `flatten` function to change the dimension of `x_tensor` from a 4-D tensor to a 2-D tensor.  The output should be the shape (*Batch Size*, *Flattened Image Size*). Shortcut option: you can use classes from the [TensorFlow Layers](https://www.tensorflow.org/api_docs/python/tf/layers) or [TensorFlow Layers (contrib)](https://www.tensorflow.org/api_guides/python/contrib.layers) packages for this layer. For more of a challenge, only use other TensorFlow packages."
   ]
  },
  {
   "cell_type": "code",
   "execution_count": 5,
   "metadata": {
    "scrolled": true
   },
   "outputs": [
    {
     "name": "stdout",
     "output_type": "stream",
     "text": [
      "Tests Passed\n"
     ]
    }
   ],
   "source": [
    "def flatten(x_tensor):\n",
    "    \"\"\"\n",
    "    Flatten x_tensor to (Batch Size, Flattened Image Size)\n",
    "    : x_tensor: A tensor of size (Batch Size, ...), where ... are the image dimensions.\n",
    "    : return: A tensor of size (Batch Size, Flattened Image Size).\n",
    "    \"\"\"\n",
    "    # TODO: Implement Function\n",
    "    \n",
    "    # First way to do this\n",
    "    # Need to convert the get_shape() result to int() since at this point is a class Dimension object\n",
    "    flat_image = np.prod(x_tensor.get_shape()[1:])\n",
    "    x_tensor_flatten = tf.reshape(x_tensor,[-1, int(flat_image)])\n",
    "        \n",
    "    # Second way to do it\n",
    "    # No Need to convert the get_shape().as_list() result since it is already an int\n",
    "    #flat_image2 = np.prod(x_tensor.get_shape().as_list()[1:])\n",
    "    #x_tensor_flatten2 = tf.reshape(x_tensor,[-1, flat_image])\n",
    "    \n",
    "    return x_tensor_flatten\n",
    "\n",
    "\n",
    "\"\"\"\n",
    "DON'T MODIFY ANYTHING IN THIS CELL THAT IS BELOW THIS LINE\n",
    "\"\"\"\n",
    "tests.test_flatten(flatten)"
   ]
  },
  {
   "cell_type": "markdown",
   "metadata": {},
   "source": [
    "### Fully-Connected Layer\n",
    "Implement the `fully_conn` function to apply a fully connected layer to `x_tensor` with the shape (*Batch Size*, *num_outputs*). Shortcut option: you can use classes from the [TensorFlow Layers](https://www.tensorflow.org/api_docs/python/tf/layers) or [TensorFlow Layers (contrib)](https://www.tensorflow.org/api_guides/python/contrib.layers) packages for this layer. For more of a challenge, only use other TensorFlow packages."
   ]
  },
  {
   "cell_type": "code",
   "execution_count": 6,
   "metadata": {},
   "outputs": [
    {
     "name": "stdout",
     "output_type": "stream",
     "text": [
      "Tests Passed\n"
     ]
    }
   ],
   "source": [
    "#def fully_conn(x_tensor, num_outputs): #original function definition\n",
    "def fully_conn(x_tensor, num_outputs, is_training=True, batch_norm_on=False):\n",
    "    \"\"\"\n",
    "    Apply a fully connected layer to x_tensor using weight and bias\n",
    "    : x_tensor: A 2-D tensor where the first dimension is batch size.\n",
    "    : num_outputs: The number of output that the new tensor should be.\n",
    "    : return: A 2-D tensor where the second dimension is num_outputs.\n",
    "    \"\"\"\n",
    "    # TODO: Implement Function\n",
    "\n",
    "    batch_size, num_inputs = x_tensor.get_shape().as_list()\n",
    "    # truncated normal std dev initialization of weights\n",
    "    weights = tf.Variable(tf.truncated_normal([num_inputs, num_outputs], mean=0.0, stddev=0.1))\n",
    "    # Xavier Initialization\n",
    "    #weights = tf.get_variable(\"w_fc\", shape=[filter_height,filter_width,color_channels,conv_num_outputs],initializer=tf.contrib.layers.xavier_initializer())\n",
    "    bias = tf.Variable(tf.zeros(num_outputs))\n",
    "    \n",
    "    #-------------------------------------------------------------------\n",
    "    #Batch normalization - Attempted to do it, but better not have dropout that is a unit test here, so not using it\n",
    "    # moreover the implementation requires an extended class that creates the model to receive a flag indicating\n",
    "    # if the model is training or in test (batch normalization takes a different behavior in each)\n",
    "    \n",
    "    #epsilon = 1e-3 # epsilon for Batch Normalization - avoids div with 0\n",
    "    #z_BN = tf.matmul(x_tensor,weights)\n",
    "    #batch_mean, batch_var = tf.nn.moments(z_BN,[0])\n",
    "    #scale = tf.Variable(tf.ones(num_outputs))\n",
    "    #beta = tf.Variable(tf.zeros(num_outputs))\n",
    "    #fc_BN = tf.nn.batch_normalization(z_BN, batch_mean, batch_var, beta, scale, epsilon)\n",
    "    #fc = tf.nn.relu(fc_BN)\n",
    "    #-------------------------------------------------------------------\n",
    "    # Batch Norm wrapper\n",
    "    if batch_norm_on:\n",
    "        z_BN = tf.matmul(x_tensor,weights)\n",
    "        fc_BN = batch_norm_wrapper(z_BN, is_training, is_conv_layer=False)\n",
    "        fc = tf.nn.relu(fc_BN)\n",
    "    else:\n",
    "    #-------------------------------------------------------------------\n",
    "        #Normal FC - no BatchNormalization\n",
    "        fc = tf.matmul(x_tensor, weights) + bias\n",
    "        fc = tf.nn.relu(fc)\n",
    "    \n",
    "    \n",
    "    return fc\n",
    "\n",
    "\n",
    "\"\"\"\n",
    "DON'T MODIFY ANYTHING IN THIS CELL THAT IS BELOW THIS LINE\n",
    "\"\"\"\n",
    "tests.test_fully_conn(fully_conn)"
   ]
  },
  {
   "cell_type": "markdown",
   "metadata": {},
   "source": [
    "### Output Layer\n",
    "Implement the `output` function to apply a fully connected layer to `x_tensor` with the shape (*Batch Size*, *num_outputs*). Shortcut option: you can use classes from the [TensorFlow Layers](https://www.tensorflow.org/api_docs/python/tf/layers) or [TensorFlow Layers (contrib)](https://www.tensorflow.org/api_guides/python/contrib.layers) packages for this layer. For more of a challenge, only use other TensorFlow packages.\n",
    "\n",
    "**Note:** Activation, softmax, or cross entropy should **not** be applied to this."
   ]
  },
  {
   "cell_type": "code",
   "execution_count": 7,
   "metadata": {},
   "outputs": [
    {
     "name": "stdout",
     "output_type": "stream",
     "text": [
      "Tests Passed\n"
     ]
    }
   ],
   "source": [
    "def output(x_tensor, num_outputs):\n",
    "    \"\"\"\n",
    "    Apply a output layer to x_tensor using weight and bias\n",
    "    : x_tensor: A 2-D tensor where the first dimension is batch size.\n",
    "    : num_outputs: The number of output that the new tensor should be.\n",
    "    : return: A 2-D tensor where the second dimension is num_outputs.\n",
    "    \"\"\"\n",
    "    # TODO: Implement Function\n",
    "\n",
    "    batch_size, num_inputs = x_tensor.get_shape().as_list()\n",
    "    # truncated normal std dev initialization of weights\n",
    "    weights = tf.Variable(tf.truncated_normal([num_inputs, num_outputs], mean=0.0, stddev=0.1))\n",
    "    # Xavier Initialization\n",
    "    #weights = tf.get_variable(\"w_out\", shape=[filter_height,filter_width,color_channels,conv_num_outputs],initializer=tf.contrib.layers.xavier_initializer())\n",
    "    bias = tf.Variable(tf.zeros(num_outputs))\n",
    "    \n",
    "    # Normal Linear prediction - no BN\n",
    "    linear_prediction = tf.matmul(x_tensor, weights) + bias #linear activation\n",
    "    \n",
    "    #Batch normalization\n",
    "    #epsilon = 1e-3 # epsilon for Batch Normalization - avoids div with 0\n",
    "    #z_BN = tf.matmul(x_tensor,weights)\n",
    "    #batch_mean, batch_var = tf.nn.moments(z_BN,[0])\n",
    "    #scale = tf.Variable(tf.ones(num_outputs))\n",
    "    #beta = tf.Variable(tf.zeros(num_outputs))\n",
    "    #linear_prediction = tf.nn.batch_normalization(z_BN, batch_mean, batch_var, beta, scale, epsilon)\n",
    "    \n",
    "    return linear_prediction\n",
    "\n",
    "\n",
    "\"\"\"\n",
    "DON'T MODIFY ANYTHING IN THIS CELL THAT IS BELOW THIS LINE\n",
    "\"\"\"\n",
    "tests.test_output(output)"
   ]
  },
  {
   "cell_type": "markdown",
   "metadata": {},
   "source": [
    "### Create Convolutional Model\n",
    "Implement the function `conv_net` to create a convolutional neural network model. The function takes in a batch of images, `x`, and outputs logits.  Use the layers you created above to create this model:\n",
    "\n",
    "* Apply 1, 2, or 3 Convolution and Max Pool layers\n",
    "* Apply a Flatten Layer\n",
    "* Apply 1, 2, or 3 Fully Connected Layers\n",
    "* Apply an Output Layer\n",
    "* Return the output\n",
    "* Apply [TensorFlow's Dropout](https://www.tensorflow.org/api_docs/python/tf/nn/dropout) to one or more layers in the model using `keep_prob`. "
   ]
  },
  {
   "cell_type": "code",
   "execution_count": 8,
   "metadata": {
    "scrolled": true
   },
   "outputs": [
    {
     "name": "stdout",
     "output_type": "stream",
     "text": [
      "Neural Network Built!\n"
     ]
    }
   ],
   "source": [
    "#---------------- Added to try to implement Batch Norm -----------------------------\n",
    "# issue with tensors inside the conv2d_maxpool and fully_conn being apparently\n",
    "# in different graphs than the feeded x tensor\n",
    "def run_conv_layers(x, is_training, batch_norm):\n",
    "    \n",
    "    conv_num_outputs =  [16,40,60] #[36,70,100]\n",
    "    conv_ksize = [[5,5],[5,5],[5,5]] #[[3,3],[3,3],[1,1]]\n",
    "    conv_strides = [1,1]\n",
    "    pool_ksize = [[2,2],[2,2],[2,2]]\n",
    "    pool_strides = [2,2]\n",
    "    \n",
    "    x_conv = conv2d_maxpool(x, conv_num_outputs[0], conv_ksize[0], conv_strides, pool_ksize[0], pool_strides, is_training, batch_norm)\n",
    "    x_conv = conv2d_maxpool(x_conv, conv_num_outputs[1], conv_ksize[1], conv_strides, pool_ksize[1], pool_strides, is_training, batch_norm)\n",
    "    x_conv = conv2d_maxpool(x_conv, conv_num_outputs[2], conv_ksize[2], conv_strides, pool_ksize[2], pool_strides, is_training, batch_norm)\n",
    "\n",
    "    return x_conv\n",
    "\n",
    "def run_fc_layer(x_flat, keep_prob, is_training, batch_norm):\n",
    "    \n",
    "    x_fc = tf.nn.dropout(fully_conn(x_flat, 1300, is_training, batch_norm), keep_prob) #1320 #320,#120\n",
    "    x_fc = tf.nn.dropout(fully_conn(x_fc, 685, is_training, batch_norm), keep_prob) #685 #185,#85\n",
    "    x_fc = tf.nn.dropout(fully_conn(x_fc, 255, is_training, batch_norm), keep_prob) #255 #55,#25\n",
    "    \n",
    "    return x_fc\n",
    "#-------------------------------------------------------------------------------------\n",
    "\n",
    "#def conv_net(x, keep_prob): #original function definition\n",
    "#tf.constant only added to pass the unit test cases, this should be tf.Variable\n",
    "def conv_net(x, keep_prob, is_training=tf.constant(True,tf.bool), batch_norm=tf.constant(False,tf.bool)):\n",
    "    \"\"\"\n",
    "    Create a convolutional neural network model\n",
    "    : x: Placeholder tensor that holds image data.\n",
    "    : keep_prob: Placeholder tensor that hold dropout keep probability.\n",
    "    : return: Tensor that represents logits\n",
    "    \"\"\"\n",
    "    # TODO: Apply 1, 2, or 3 Convolution and Max Pool layers\n",
    "    #    Play around with different number of outputs, kernel size and stride\n",
    "    # Function Definition from Above:\n",
    "    #    conv2d_maxpool(x_tensor, conv_num_outputs, conv_ksize, conv_strides, pool_ksize, pool_strides)\n",
    "    # (x_tensor, conv_num_outputs, conv_ksize, conv_strides, pool_ksize, pool_strides)\n",
    "    \n",
    "    conv_num_outputs =  [16,40,60] #[36,70,100]\n",
    "    conv_ksize = [[5,5],[5,5],[5,5]] #[[3,3],[3,3],[1,1]]\n",
    "    conv_strides = [1,1]\n",
    "    pool_ksize = [[2,2],[2,2],[2,2]]\n",
    "    pool_strides = [2,2]\n",
    "    \n",
    "    #function before batch norm\n",
    "    #x_conv = conv2d_maxpool(x, conv_num_outputs[0], conv_ksize[0], conv_strides, pool_ksize[0], pool_strides)\n",
    "    #x_conv = conv2d_maxpool(x_conv, conv_num_outputs[1], conv_ksize[1], conv_strides, pool_ksize[1], pool_strides)\n",
    "    #x_conv = conv2d_maxpool(x_conv, conv_num_outputs[2], conv_ksize[2], conv_strides, pool_ksize[2], pool_strides)\n",
    "\n",
    "    #---------------------------- Added later to try to implement Batch Norm ---------------------------------------\n",
    "    #Hardcoded variables that drive the batch Norm - UNFORTUNATELY cannot change values for the Test cases where is_training should be false\n",
    "    batch_norm_bool = True\n",
    "    is_training_bool = True\n",
    "    \n",
    "    # Unsuccessful tf.cond to use the run_conv_layer since TF complains that the weights Tensor inside \n",
    "    #  conv2d_maxpool must be from the same graph/group as the tensor passed x/x_tensor, same issue in fc layer\n",
    "    #x_conv = tf.cond(is_training, lambda:run_conv_layers(x,True,batch_norm_bool), lambda:run_conv_layers(x,False,batch_norm_bool))\n",
    "    \n",
    "    x_conv = conv2d_maxpool(x, conv_num_outputs[0], conv_ksize[0], conv_strides, pool_ksize[0], pool_strides, is_training_bool, batch_norm_bool)\n",
    "    x_conv = conv2d_maxpool(x_conv, conv_num_outputs[1], conv_ksize[1], conv_strides, pool_ksize[1], pool_strides, is_training_bool, batch_norm_bool)\n",
    "    x_conv = conv2d_maxpool(x_conv, conv_num_outputs[2], conv_ksize[2], conv_strides, pool_ksize[2], pool_strides, is_training_bool, batch_norm_bool)\n",
    "    #----------------------------------------------------------------------------------------------------------------\n",
    "\n",
    "    # TODO: Apply a Flatten Layer\n",
    "    # Function Definition from Above:\n",
    "    #   flatten(x_tensor)\n",
    "    x_flat = flatten(x_conv)\n",
    "    \n",
    "\n",
    "    # TODO: Apply 1, 2, or 3 Fully Connected Layers\n",
    "    #    Play around with different number of outputs\n",
    "    # Function Definition from Above:\n",
    "    #   fully_conn(x_tensor, num_outputs)\n",
    "    # before batch norm\n",
    "    #x_fc = tf.nn.dropout(fully_conn(x_flat, 1300), keep_prob) #1320 #320,#120\n",
    "    #x_fc = tf.nn.dropout(fully_conn(x_fc, 685), keep_prob) #685 #185,#85\n",
    "    #x_fc = tf.nn.dropout(fully_conn(x_fc, 255), keep_prob) #255 #55,#25\n",
    "    \n",
    "    #---------------------------- Added to try to implement Batch Norm ---------------------------------------\n",
    "    \n",
    "    # Unsuccessful tf.cond to use the run_fc_layer since TF complains that the weights Tensor inside \n",
    "    #  fully_conn must be from the same graph/group as the tensor passed x_flat/x_fc\n",
    "    #x_fc = tf.cond(is_training, lambda: run_fc_layer(x_flat, keep_prob, True,batch_norm_bool), lambda: run_fc_layer(x_flat, keep_prob,False,batch_norm_bool) )\n",
    "    \n",
    "    x_fc = tf.nn.dropout(fully_conn(x_flat, 1320, is_training_bool, batch_norm_bool), keep_prob) #1320 #320,#120\n",
    "    x_fc = tf.nn.dropout(fully_conn(x_fc, 685, is_training_bool, batch_norm_bool), keep_prob) #685 #185,#85\n",
    "    x_fc = tf.nn.dropout(fully_conn(x_fc, 255, is_training_bool, batch_norm_bool), keep_prob) #255 #55,#25\n",
    "    #----------------------------------------------------------------------------------------------------------------\n",
    "    \n",
    "    # TODO: Apply an Output Layer\n",
    "    #    Set this to the number of classes\n",
    "    # Function Definition from Above:\n",
    "    #   output(x_tensor, num_outputs)\n",
    "    num_outputs_pred = 10\n",
    "    x_predict =tf.nn.dropout(output(x_fc, num_outputs_pred), keep_prob)\n",
    "    \n",
    "    # TODO: return output\n",
    "    return x_predict\n",
    "\n",
    "\n",
    "\"\"\"\n",
    "DON'T MODIFY ANYTHING IN THIS CELL THAT IS BELOW THIS LINE\n",
    "\"\"\"\n",
    "\n",
    "##############################\n",
    "## Build the Neural Network ##\n",
    "##############################\n",
    "\n",
    "# Remove previous weights, bias, inputs, etc..\n",
    "tf.reset_default_graph()\n",
    "\n",
    "# Inputs\n",
    "x = neural_net_image_input((32, 32, 3))\n",
    "y = neural_net_label_input(10)\n",
    "keep_prob = neural_net_keep_prob_input()\n",
    "\n",
    "#-----------------Added the Batch Normalization Parameters------------\n",
    "#currently not used, missing connection from the tf.Variable and the core of the network\n",
    "batch_norm_on, batch_norm_mode = neural_net_batch_norm_mode_input(True,True)\n",
    "#---------------------------------------------------------------------\n",
    "\n",
    "# Model\n",
    "#logits = conv_net(x, keep_prob) # original call to conv_net\n",
    "\n",
    "#---------------------------- Added to try to implement Batch Norm ---------------------------------------\n",
    "logits = conv_net(x, keep_prob, batch_norm_mode, batch_norm_on)\n",
    "#---------------------------------------------------------------------------------------------------------\n",
    "\n",
    "# Name logits Tensor, so that is can be loaded from disk after training\n",
    "logits = tf.identity(logits, name='logits')\n",
    "\n",
    "# Loss and Optimizer\n",
    "cost = tf.reduce_mean(tf.nn.softmax_cross_entropy_with_logits(logits=logits, labels=y))\n",
    "optimizer = tf.train.AdamOptimizer().minimize(cost)\n",
    "\n",
    "# Accuracy\n",
    "correct_pred = tf.equal(tf.argmax(logits, 1), tf.argmax(y, 1))\n",
    "accuracy = tf.reduce_mean(tf.cast(correct_pred, tf.float32), name='accuracy')\n",
    "\n",
    "tests.test_conv_net(conv_net)"
   ]
  },
  {
   "cell_type": "markdown",
   "metadata": {},
   "source": [
    "## Train the Neural Network\n",
    "### Single Optimization\n",
    "Implement the function `train_neural_network` to do a single optimization.  The optimization should use `optimizer` to optimize in `session` with a `feed_dict` of the following:\n",
    "* `x` for image input\n",
    "* `y` for labels\n",
    "* `keep_prob` for keep probability for dropout\n",
    "\n",
    "This function will be called for each batch, so `tf.global_variables_initializer()` has already been called.\n",
    "\n",
    "Note: Nothing needs to be returned. This function is only optimizing the neural network."
   ]
  },
  {
   "cell_type": "code",
   "execution_count": 9,
   "metadata": {},
   "outputs": [
    {
     "name": "stdout",
     "output_type": "stream",
     "text": [
      "Tests Passed\n"
     ]
    }
   ],
   "source": [
    "#def train_neural_network(session, optimizer, keep_probability, feature_batch, label_batch): #original function declaration\n",
    "def train_neural_network(session, optimizer, keep_probability, feature_batch, label_batch, is_training=True, use_batch_norm=False):\n",
    "    \"\"\"\n",
    "    Optimize the session on a batch of images and labels\n",
    "    : session: Current TensorFlow session\n",
    "    : optimizer: TensorFlow optimizer function\n",
    "    : keep_probability: keep probability\n",
    "    : feature_batch: Batch of Numpy image data\n",
    "    : label_batch: Batch of Numpy label data\n",
    "    \"\"\"\n",
    "    # TODO: Implement Function\n",
    "    # train_feed_dict ={x: feature_batch, y: label_batch, keep_prob: keep_probability} #original train dict\n",
    "    \n",
    "    #---------------------------- Added to try to implement Batch Norm ---------------------------------------\n",
    "    train_feed_dict ={x: feature_batch, y: label_batch, keep_prob: keep_probability, batch_norm_mode: is_training, batch_norm_on: use_batch_norm}\n",
    "    #---------------------------------------------------------------------------------------------------------\n",
    "    \n",
    "    session.run(optimizer, feed_dict=train_feed_dict)\n",
    "    \n",
    "    #pass\n",
    "\n",
    "\n",
    "\"\"\"\n",
    "DON'T MODIFY ANYTHING IN THIS CELL THAT IS BELOW THIS LINE\n",
    "\"\"\"\n",
    "tests.test_train_nn(train_neural_network)"
   ]
  },
  {
   "cell_type": "markdown",
   "metadata": {},
   "source": [
    "### Show Stats\n",
    "Implement the function `print_stats` to print loss and validation accuracy.  Use the global variables `valid_features` and `valid_labels` to calculate validation accuracy.  Use a keep probability of `1.0` to calculate the loss and validation accuracy."
   ]
  },
  {
   "cell_type": "code",
   "execution_count": 10,
   "metadata": {
    "collapsed": true
   },
   "outputs": [],
   "source": [
    "def print_stats(session, feature_batch, label_batch, cost, accuracy):\n",
    "    \"\"\"\n",
    "    Print information about loss and validation accuracy\n",
    "    : session: Current TensorFlow session\n",
    "    : feature_batch: Batch of Numpy image data\n",
    "    : label_batch: Batch of Numpy label data\n",
    "    : cost: TensorFlow cost function\n",
    "    : accuracy: TensorFlow accuracy function\n",
    "    \"\"\"\n",
    "    # TODO: Implement Function\n",
    "    #pass\n",
    "    # train_feed_dict = {x: feature_batch, y: label_batch, keep_prob: 0.75} # original train dict\n",
    "    # val_feed_dict = {x: valid_features, y: valid_labels, keep_prob: 1.0} # original val dict\n",
    "    \n",
    "    #---------------------------- Added to try to implement Batch Norm ---------------------------------------\n",
    "    train_feed_dict = {x: feature_batch, y: label_batch, keep_prob: 0.5, batch_norm_mode: True, batch_norm_on: False}\n",
    "    val_feed_dict = {x: valid_features, y: valid_labels, keep_prob: 1.0, batch_norm_mode: False, batch_norm_on: False}\n",
    "    #---------------------------------------------------------------------------------------------------------\n",
    "    \n",
    "    validation_cost = session.run(cost, feed_dict=val_feed_dict)\n",
    "    validation_accuracy = session.run(accuracy, feed_dict=val_feed_dict)\n",
    "    train_accuracy = session.run(accuracy, feed_dict=train_feed_dict)\n",
    "    print('Train_acc: {:8.14f} | Val_acc: {:8.14f} | loss: {:8.14f}'.format(train_accuracy, validation_accuracy, validation_cost))\n",
    "    \n"
   ]
  },
  {
   "cell_type": "markdown",
   "metadata": {},
   "source": [
    "### Hyperparameters\n",
    "Tune the following parameters:\n",
    "* Set `epochs` to the number of iterations until the network stops learning or start overfitting\n",
    "* Set `batch_size` to the highest number that your machine has memory for.  Most people set them to common sizes of memory:\n",
    " * 64\n",
    " * 128\n",
    " * 256\n",
    " * ...\n",
    "* Set `keep_probability` to the probability of keeping a node using dropout"
   ]
  },
  {
   "cell_type": "code",
   "execution_count": 11,
   "metadata": {
    "collapsed": true
   },
   "outputs": [],
   "source": [
    "# TODO: Tune Parameters\n",
    "epochs = 15\n",
    "batch_size = 64\n",
    "keep_probability = 0.5 #test with 0.75 seemed better\n",
    "\n",
    "#---------------------------- Added to try to implement Batch Norm ---------------------------------------\n",
    "# ACTUAL CONTROL FRO BATCH NORM IS INSIDE 'conv_net() -> batch_norm_bool, is_training_bool variables '\n",
    "# Try to add the Batch Normalization parameters, but couldn't make the connection from the inside of \n",
    "# convnet to the rest of the functions, everything is layed out to work except for that step in which\n",
    "# from a tf.bool Tensor need to decide (try to use tf.cond) to use batch norm or not\n",
    "batch_norm_is_training = True\n",
    "use_batch_norm = False"
   ]
  },
  {
   "cell_type": "markdown",
   "metadata": {},
   "source": [
    "### Train on a Single CIFAR-10 Batch\n",
    "Instead of training the neural network on all the CIFAR-10 batches of data, let's use a single batch. This should save time while you iterate on the model to get a better accuracy.  Once the final validation accuracy is 50% or greater, run the model on all the data in the next section."
   ]
  },
  {
   "cell_type": "code",
   "execution_count": 12,
   "metadata": {
    "scrolled": false
   },
   "outputs": [
    {
     "name": "stdout",
     "output_type": "stream",
     "text": [
      "Checking the Training on a Single Batch...\n",
      "Epoch  1, CIFAR-10 Batch 1:  Train_acc: 0.17499999701977 | Val_acc: 0.32440000772476 | loss: 1.90659391880035\n",
      "Epoch  2, CIFAR-10 Batch 1:  Train_acc: 0.22499999403954 | Val_acc: 0.35139998793602 | loss: 1.86798560619354\n",
      "Epoch  3, CIFAR-10 Batch 1:  Train_acc: 0.22499999403954 | Val_acc: 0.38019999861717 | loss: 1.78486323356628\n",
      "Epoch  4, CIFAR-10 Batch 1:  Train_acc: 0.22499999403954 | Val_acc: 0.41319999098778 | loss: 1.67506289482117\n",
      "Epoch  5, CIFAR-10 Batch 1:  Train_acc: 0.25000000000000 | Val_acc: 0.43939998745918 | loss: 1.61266303062439\n",
      "Epoch  6, CIFAR-10 Batch 1:  Train_acc: 0.34999999403954 | Val_acc: 0.45719999074936 | loss: 1.54636383056641\n",
      "Epoch  7, CIFAR-10 Batch 1:  Train_acc: 0.20000000298023 | Val_acc: 0.47360000014305 | loss: 1.50971841812134\n",
      "Epoch  8, CIFAR-10 Batch 1:  Train_acc: 0.37500000000000 | Val_acc: 0.48739999532700 | loss: 1.47670054435730\n",
      "Epoch  9, CIFAR-10 Batch 1:  Train_acc: 0.42500001192093 | Val_acc: 0.49779999256134 | loss: 1.41850936412811\n",
      "Epoch 10, CIFAR-10 Batch 1:  Train_acc: 0.34999999403954 | Val_acc: 0.52179998159409 | loss: 1.39044201374054\n",
      "Epoch 11, CIFAR-10 Batch 1:  Train_acc: 0.37500000000000 | Val_acc: 0.53219997882843 | loss: 1.34752988815308\n",
      "Epoch 12, CIFAR-10 Batch 1:  Train_acc: 0.40000000596046 | Val_acc: 0.54079997539520 | loss: 1.30452907085419\n",
      "Epoch 13, CIFAR-10 Batch 1:  Train_acc: 0.34999999403954 | Val_acc: 0.55119997262955 | loss: 1.27751719951630\n",
      "Epoch 14, CIFAR-10 Batch 1:  Train_acc: 0.40000000596046 | Val_acc: 0.56080001592636 | loss: 1.26206564903259\n",
      "Epoch 15, CIFAR-10 Batch 1:  Train_acc: 0.34999999403954 | Val_acc: 0.56400001049042 | loss: 1.23312795162201\n"
     ]
    }
   ],
   "source": [
    "\"\"\"\n",
    "DON'T MODIFY ANYTHING IN THIS CELL\n",
    "\"\"\"\n",
    "print('Checking the Training on a Single Batch...')\n",
    "with tf.Session() as sess:\n",
    "    # Initializing the variables\n",
    "    sess.run(tf.global_variables_initializer())\n",
    "    \n",
    "    # Training cycle\n",
    "    for epoch in range(epochs):\n",
    "        batch_i = 1\n",
    "        for batch_features, batch_labels in helper.load_preprocess_training_batch(batch_i, batch_size):\n",
    "            # ORIGINAL call to train_neural_network\n",
    "            #train_neural_network(sess, optimizer, keep_probability, batch_features, batch_labels)\n",
    "            \n",
    "            #---------------------------- Added to try to implement Batch Norm ---------------------------------------\n",
    "            train_neural_network(sess, optimizer, keep_probability, batch_features, batch_labels, batch_norm_is_training, use_batch_norm)\n",
    "            #---------------------------------------------------------------------------------------------------------\n",
    "        print('Epoch {:>2}, CIFAR-10 Batch {}:  '.format(epoch + 1, batch_i), end='')\n",
    "        print_stats(sess, batch_features, batch_labels, cost, accuracy)"
   ]
  },
  {
   "cell_type": "markdown",
   "metadata": {},
   "source": [
    "### Fully Train the Model\n",
    "Now that you got a good accuracy with a single CIFAR-10 batch, try it with all five batches."
   ]
  },
  {
   "cell_type": "code",
   "execution_count": 13,
   "metadata": {
    "scrolled": false
   },
   "outputs": [
    {
     "name": "stdout",
     "output_type": "stream",
     "text": [
      "Training...\n",
      "Epoch  1, CIFAR-10 Batch 1:  Train_acc: 0.17499999701977 | Val_acc: 0.30820000171661 | loss: 1.92014217376709\n",
      "Epoch  1, CIFAR-10 Batch 2:  Train_acc: 0.10000000149012 | Val_acc: 0.35940000414848 | loss: 1.77888011932373\n",
      "Epoch  1, CIFAR-10 Batch 3:  Train_acc: 0.25000000000000 | Val_acc: 0.38440001010895 | loss: 1.70029294490814\n",
      "Epoch  1, CIFAR-10 Batch 4:  Train_acc: 0.20000000298023 | Val_acc: 0.40939998626709 | loss: 1.65638911724091\n",
      "Epoch  1, CIFAR-10 Batch 5:  Train_acc: 0.22499999403954 | Val_acc: 0.43520000576973 | loss: 1.59741997718811\n",
      "Epoch  2, CIFAR-10 Batch 1:  Train_acc: 0.37500000000000 | Val_acc: 0.45820000767708 | loss: 1.55778825283051\n",
      "Epoch  2, CIFAR-10 Batch 2:  Train_acc: 0.22499999403954 | Val_acc: 0.46799999475479 | loss: 1.52246034145355\n",
      "Epoch  2, CIFAR-10 Batch 3:  Train_acc: 0.30000001192093 | Val_acc: 0.48240000009537 | loss: 1.48548746109009\n",
      "Epoch  2, CIFAR-10 Batch 4:  Train_acc: 0.25000000000000 | Val_acc: 0.50880002975464 | loss: 1.42851734161377\n",
      "Epoch  2, CIFAR-10 Batch 5:  Train_acc: 0.30000001192093 | Val_acc: 0.52380001544952 | loss: 1.38164997100830\n",
      "Epoch  3, CIFAR-10 Batch 1:  Train_acc: 0.37500000000000 | Val_acc: 0.53280001878738 | loss: 1.36958754062653\n",
      "Epoch  3, CIFAR-10 Batch 2:  Train_acc: 0.20000000298023 | Val_acc: 0.54420000314713 | loss: 1.34387207031250\n",
      "Epoch  3, CIFAR-10 Batch 3:  Train_acc: 0.32499998807907 | Val_acc: 0.54000002145767 | loss: 1.32496559619904\n",
      "Epoch  3, CIFAR-10 Batch 4:  Train_acc: 0.32499998807907 | Val_acc: 0.56519997119904 | loss: 1.29949355125427\n",
      "Epoch  3, CIFAR-10 Batch 5:  Train_acc: 0.37500000000000 | Val_acc: 0.57959997653961 | loss: 1.24781727790833\n",
      "Epoch  4, CIFAR-10 Batch 1:  Train_acc: 0.27500000596046 | Val_acc: 0.58859997987747 | loss: 1.22344470024109\n",
      "Epoch  4, CIFAR-10 Batch 2:  Train_acc: 0.32499998807907 | Val_acc: 0.59179997444153 | loss: 1.20511293411255\n",
      "Epoch  4, CIFAR-10 Batch 3:  Train_acc: 0.50000000000000 | Val_acc: 0.60000002384186 | loss: 1.18362557888031\n",
      "Epoch  4, CIFAR-10 Batch 4:  Train_acc: 0.37500000000000 | Val_acc: 0.60939997434616 | loss: 1.18167543411255\n",
      "Epoch  4, CIFAR-10 Batch 5:  Train_acc: 0.34999999403954 | Val_acc: 0.63020002841949 | loss: 1.13591420650482\n",
      "Epoch  5, CIFAR-10 Batch 1:  Train_acc: 0.32499998807907 | Val_acc: 0.63080000877380 | loss: 1.11261308193207\n",
      "Epoch  5, CIFAR-10 Batch 2:  Train_acc: 0.40000000596046 | Val_acc: 0.64240002632141 | loss: 1.10314512252808\n",
      "Epoch  5, CIFAR-10 Batch 3:  Train_acc: 0.52499997615814 | Val_acc: 0.63499999046326 | loss: 1.09444773197174\n",
      "Epoch  5, CIFAR-10 Batch 4:  Train_acc: 0.47499999403954 | Val_acc: 0.64579999446869 | loss: 1.07744598388672\n",
      "Epoch  5, CIFAR-10 Batch 5:  Train_acc: 0.55000001192093 | Val_acc: 0.65179997682571 | loss: 1.05389964580536\n",
      "Epoch  6, CIFAR-10 Batch 1:  Train_acc: 0.37500000000000 | Val_acc: 0.66200000047684 | loss: 1.03598535060883\n",
      "Epoch  6, CIFAR-10 Batch 2:  Train_acc: 0.32499998807907 | Val_acc: 0.66060000658035 | loss: 1.03402066230774\n",
      "Epoch  6, CIFAR-10 Batch 3:  Train_acc: 0.42500001192093 | Val_acc: 0.66839998960495 | loss: 1.01549291610718\n",
      "Epoch  6, CIFAR-10 Batch 4:  Train_acc: 0.40000000596046 | Val_acc: 0.66920000314713 | loss: 1.00910806655884\n",
      "Epoch  6, CIFAR-10 Batch 5:  Train_acc: 0.34999999403954 | Val_acc: 0.68059998750687 | loss: 0.97291785478592\n",
      "Epoch  7, CIFAR-10 Batch 1:  Train_acc: 0.44999998807907 | Val_acc: 0.68559998273849 | loss: 0.97062617540359\n",
      "Epoch  7, CIFAR-10 Batch 2:  Train_acc: 0.37500000000000 | Val_acc: 0.69239997863770 | loss: 0.96238923072815\n",
      "Epoch  7, CIFAR-10 Batch 3:  Train_acc: 0.57499998807907 | Val_acc: 0.69880002737045 | loss: 0.94171935319901\n",
      "Epoch  7, CIFAR-10 Batch 4:  Train_acc: 0.37500000000000 | Val_acc: 0.68000000715256 | loss: 0.96253478527069\n",
      "Epoch  7, CIFAR-10 Batch 5:  Train_acc: 0.50000000000000 | Val_acc: 0.68320000171661 | loss: 0.95723056793213\n",
      "Epoch  8, CIFAR-10 Batch 1:  Train_acc: 0.47499999403954 | Val_acc: 0.69900000095367 | loss: 0.93078219890594\n",
      "Epoch  8, CIFAR-10 Batch 2:  Train_acc: 0.32499998807907 | Val_acc: 0.70440000295639 | loss: 0.91363537311554\n",
      "Epoch  8, CIFAR-10 Batch 3:  Train_acc: 0.42500001192093 | Val_acc: 0.68959999084473 | loss: 0.93553185462952\n",
      "Epoch  8, CIFAR-10 Batch 4:  Train_acc: 0.50000000000000 | Val_acc: 0.69679999351501 | loss: 0.93337082862854\n",
      "Epoch  8, CIFAR-10 Batch 5:  Train_acc: 0.47499999403954 | Val_acc: 0.70480000972748 | loss: 0.89313417673111\n",
      "Epoch  9, CIFAR-10 Batch 1:  Train_acc: 0.42500001192093 | Val_acc: 0.71139997243881 | loss: 0.89656913280487\n",
      "Epoch  9, CIFAR-10 Batch 2:  Train_acc: 0.50000000000000 | Val_acc: 0.70179998874664 | loss: 0.90404719114304\n",
      "Epoch  9, CIFAR-10 Batch 3:  Train_acc: 0.52499997615814 | Val_acc: 0.70779997110367 | loss: 0.89113241434097\n",
      "Epoch  9, CIFAR-10 Batch 4:  Train_acc: 0.37500000000000 | Val_acc: 0.71060001850128 | loss: 0.88743126392365\n",
      "Epoch  9, CIFAR-10 Batch 5:  Train_acc: 0.44999998807907 | Val_acc: 0.70899999141693 | loss: 0.87368535995483\n",
      "Epoch 10, CIFAR-10 Batch 1:  Train_acc: 0.44999998807907 | Val_acc: 0.72039997577667 | loss: 0.87421524524689\n",
      "Epoch 10, CIFAR-10 Batch 2:  Train_acc: 0.50000000000000 | Val_acc: 0.71899998188019 | loss: 0.87199413776398\n",
      "Epoch 10, CIFAR-10 Batch 3:  Train_acc: 0.50000000000000 | Val_acc: 0.71780002117157 | loss: 0.85430032014847\n",
      "Epoch 10, CIFAR-10 Batch 4:  Train_acc: 0.52499997615814 | Val_acc: 0.71759998798370 | loss: 0.86103546619415\n",
      "Epoch 10, CIFAR-10 Batch 5:  Train_acc: 0.57499998807907 | Val_acc: 0.72380000352859 | loss: 0.84991788864136\n",
      "Epoch 11, CIFAR-10 Batch 1:  Train_acc: 0.67500001192093 | Val_acc: 0.71660000085831 | loss: 0.85464572906494\n",
      "Epoch 11, CIFAR-10 Batch 2:  Train_acc: 0.60000002384186 | Val_acc: 0.71380001306534 | loss: 0.85077804327011\n",
      "Epoch 11, CIFAR-10 Batch 3:  Train_acc: 0.47499999403954 | Val_acc: 0.71920001506805 | loss: 0.85139298439026\n",
      "Epoch 11, CIFAR-10 Batch 4:  Train_acc: 0.47499999403954 | Val_acc: 0.71499997377396 | loss: 0.86087429523468\n",
      "Epoch 11, CIFAR-10 Batch 5:  Train_acc: 0.50000000000000 | Val_acc: 0.72799998521805 | loss: 0.83122557401657\n",
      "Epoch 12, CIFAR-10 Batch 1:  Train_acc: 0.47499999403954 | Val_acc: 0.71460002660751 | loss: 0.85405510663986\n",
      "Epoch 12, CIFAR-10 Batch 2:  Train_acc: 0.52499997615814 | Val_acc: 0.72060000896454 | loss: 0.84172511100769\n",
      "Epoch 12, CIFAR-10 Batch 3:  Train_acc: 0.50000000000000 | Val_acc: 0.71759998798370 | loss: 0.83153319358826\n",
      "Epoch 12, CIFAR-10 Batch 4:  Train_acc: 0.34999999403954 | Val_acc: 0.71939998865128 | loss: 0.83614647388458\n",
      "Epoch 12, CIFAR-10 Batch 5:  Train_acc: 0.69999998807907 | Val_acc: 0.72579997777939 | loss: 0.82855373620987\n",
      "Epoch 13, CIFAR-10 Batch 1:  Train_acc: 0.60000002384186 | Val_acc: 0.72359997034073 | loss: 0.82299423217773\n",
      "Epoch 13, CIFAR-10 Batch 2:  Train_acc: 0.44999998807907 | Val_acc: 0.72299998998642 | loss: 0.83645272254944\n",
      "Epoch 13, CIFAR-10 Batch 3:  Train_acc: 0.44999998807907 | Val_acc: 0.72039997577667 | loss: 0.83722990751266\n",
      "Epoch 13, CIFAR-10 Batch 4:  Train_acc: 0.47499999403954 | Val_acc: 0.73420000076294 | loss: 0.81514519453049\n",
      "Epoch 13, CIFAR-10 Batch 5:  Train_acc: 0.62500000000000 | Val_acc: 0.73360002040863 | loss: 0.81767845153809\n",
      "Epoch 14, CIFAR-10 Batch 1:  Train_acc: 0.44999998807907 | Val_acc: 0.73079997301102 | loss: 0.82664179801941\n",
      "Epoch 14, CIFAR-10 Batch 2:  Train_acc: 0.62500000000000 | Val_acc: 0.73699998855591 | loss: 0.81546902656555\n",
      "Epoch 14, CIFAR-10 Batch 3:  Train_acc: 0.55000001192093 | Val_acc: 0.72560000419617 | loss: 0.82596796751022\n",
      "Epoch 14, CIFAR-10 Batch 4:  Train_acc: 0.40000000596046 | Val_acc: 0.72359997034073 | loss: 0.82638359069824\n",
      "Epoch 14, CIFAR-10 Batch 5:  Train_acc: 0.60000002384186 | Val_acc: 0.74320000410080 | loss: 0.80355441570282\n",
      "Epoch 15, CIFAR-10 Batch 1:  Train_acc: 0.50000000000000 | Val_acc: 0.72439998388290 | loss: 0.82178711891174\n",
      "Epoch 15, CIFAR-10 Batch 2:  Train_acc: 0.62500000000000 | Val_acc: 0.73220002651215 | loss: 0.81194734573364\n",
      "Epoch 15, CIFAR-10 Batch 3:  Train_acc: 0.50000000000000 | Val_acc: 0.73140001296997 | loss: 0.80807238817215\n",
      "Epoch 15, CIFAR-10 Batch 4:  Train_acc: 0.47499999403954 | Val_acc: 0.72780001163483 | loss: 0.80215942859650\n",
      "Epoch 15, CIFAR-10 Batch 5:  Train_acc: 0.75000000000000 | Val_acc: 0.72680002450943 | loss: 0.81615793704987\n"
     ]
    }
   ],
   "source": [
    "\"\"\"\n",
    "DON'T MODIFY ANYTHING IN THIS CELL\n",
    "\"\"\"\n",
    "save_model_path = './image_classification'\n",
    "\n",
    "print('Training...')\n",
    "with tf.Session() as sess:\n",
    "    # Initializing the variables\n",
    "    sess.run(tf.global_variables_initializer())\n",
    "    \n",
    "    # Training cycle\n",
    "    for epoch in range(epochs):\n",
    "        # Loop over all batches\n",
    "        n_batches = 5\n",
    "        for batch_i in range(1, n_batches + 1):\n",
    "            for batch_features, batch_labels in helper.load_preprocess_training_batch(batch_i, batch_size):\n",
    "                # ORIGINAL call to train_neural_network\n",
    "                #train_neural_network(sess, optimizer, keep_probability, batch_features, batch_labels)\n",
    "            \n",
    "                #---------------------------- Added to try to implement Batch Norm ---------------------------------------\n",
    "                train_neural_network(sess, optimizer, keep_probability, batch_features, batch_labels, batch_norm_is_training, use_batch_norm)\n",
    "                #---------------------------------------------------------------------------------------------------------\n",
    "            print('Epoch {:>2}, CIFAR-10 Batch {}:  '.format(epoch + 1, batch_i), end='')\n",
    "            print_stats(sess, batch_features, batch_labels, cost, accuracy)\n",
    "            \n",
    "    # Save Model\n",
    "    saver = tf.train.Saver()\n",
    "    save_path = saver.save(sess, save_model_path)"
   ]
  },
  {
   "cell_type": "markdown",
   "metadata": {},
   "source": [
    "# Checkpoint\n",
    "The model has been saved to disk.\n",
    "## Test Model\n",
    "Test your model against the test dataset.  This will be your final accuracy. You should have an accuracy greater than 50%. If you don't, keep tweaking the model architecture and parameters."
   ]
  },
  {
   "cell_type": "code",
   "execution_count": 16,
   "metadata": {
    "scrolled": false
   },
   "outputs": [
    {
     "name": "stdout",
     "output_type": "stream",
     "text": [
      "INFO:tensorflow:Restoring parameters from ./image_classification\n",
      "Testing Accuracy: 0.709593949044586\n",
      "\n"
     ]
    },
    {
     "data": {
      "image/png": "[encoded data removed]",
      "text/plain": [
       "<matplotlib.figure.Figure at 0x104f0c208>"
      ]
     },
     "metadata": {
      "image/png": {
       "height": 319,
       "width": 355
      }
     },
     "output_type": "display_data"
    }
   ],
   "source": [
    "\"\"\"\n",
    "DON'T MODIFY ANYTHING IN THIS CELL\n",
    "\"\"\"\n",
    "%matplotlib inline\n",
    "%config InlineBackend.figure_format = 'retina'\n",
    "\n",
    "import tensorflow as tf\n",
    "import pickle\n",
    "import helper\n",
    "import random\n",
    "\n",
    "# Set batch size if not already set\n",
    "try:\n",
    "    if batch_size:\n",
    "        pass\n",
    "except NameError:\n",
    "    batch_size = 64\n",
    "\n",
    "save_model_path = './image_classification'\n",
    "n_samples = 4\n",
    "top_n_predictions = 3\n",
    "\n",
    "def test_model():\n",
    "    \"\"\"\n",
    "    Test the saved model against the test dataset\n",
    "    \"\"\"\n",
    "\n",
    "    test_features, test_labels = pickle.load(open('preprocess_test.p', mode='rb'))\n",
    "    loaded_graph = tf.Graph()\n",
    "\n",
    "    with tf.Session(graph=loaded_graph) as sess:\n",
    "        # Load model\n",
    "        loader = tf.train.import_meta_graph(save_model_path + '.meta')\n",
    "        loader.restore(sess, save_model_path)\n",
    "\n",
    "        # Get Tensors from loaded model\n",
    "        loaded_x = loaded_graph.get_tensor_by_name('x:0')\n",
    "        loaded_y = loaded_graph.get_tensor_by_name('y:0')\n",
    "        loaded_keep_prob = loaded_graph.get_tensor_by_name('keep_prob:0')\n",
    "        loaded_logits = loaded_graph.get_tensor_by_name('logits:0')\n",
    "        loaded_acc = loaded_graph.get_tensor_by_name('accuracy:0')\n",
    "        \n",
    "        # Get accuracy in batches for memory limitations\n",
    "        test_batch_acc_total = 0\n",
    "        test_batch_count = 0\n",
    "        \n",
    "        for test_feature_batch, test_label_batch in helper.batch_features_labels(test_features, test_labels, batch_size):\n",
    "            test_batch_acc_total += sess.run(\n",
    "                loaded_acc,\n",
    "                feed_dict={loaded_x: test_feature_batch, loaded_y: test_label_batch, loaded_keep_prob: 1.0})\n",
    "            test_batch_count += 1\n",
    "\n",
    "        print('Testing Accuracy: {}\\n'.format(test_batch_acc_total/test_batch_count))\n",
    "\n",
    "        # Print Random Samples\n",
    "        random_test_features, random_test_labels = tuple(zip(*random.sample(list(zip(test_features, test_labels)), n_samples)))\n",
    "        random_test_predictions = sess.run(\n",
    "            tf.nn.top_k(tf.nn.softmax(loaded_logits), top_n_predictions),\n",
    "            feed_dict={loaded_x: random_test_features, loaded_y: random_test_labels, loaded_keep_prob: 1.0})\n",
    "        helper.display_image_predictions(random_test_features, random_test_labels, random_test_predictions)\n",
    "\n",
    "\n",
    "test_model()"
   ]
  },
  {
   "cell_type": "markdown",
   "metadata": {},
   "source": [
    "## Why 50-80% Accuracy?\n",
    "You might be wondering why you can't get an accuracy any higher. First things first, 50% isn't bad for a simple CNN.  Pure guessing would get you 10% accuracy. However, you might notice people are getting scores [well above 80%](http://rodrigob.github.io/are_we_there_yet/build/classification_datasets_results.html#43494641522d3130).  That's because we haven't taught you all there is to know about neural networks. We still need to cover a few more techniques.\n",
    "## Submitting This Project\n",
    "When submitting this project, make sure to run all the cells before saving the notebook.  Save the notebook file as \"dlnd_image_classification.ipynb\" and save it as a HTML file under \"File\" -> \"Download as\".  Include the \"helper.py\" and \"problem_unittests.py\" files in your submission."
   ]
  }
 ],
 "metadata": {
  "kernelspec": {
   "display_name": "Python 3",
   "language": "python",
   "name": "python3"
  },
  "language_info": {
   "codemirror_mode": {
    "name": "ipython",
    "version": 3
   },
   "file_extension": ".py",
   "mimetype": "text/x-python",
   "name": "python",
   "nbconvert_exporter": "python",
   "pygments_lexer": "ipython3",
   "version": "3.6.1"
  }
 },
 "nbformat": 4,
 "nbformat_minor": 1
}
