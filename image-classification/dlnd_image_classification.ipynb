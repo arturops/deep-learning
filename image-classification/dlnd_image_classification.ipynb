{
 "cells": [
  {
   "cell_type": "markdown",
   "metadata": {
    "collapsed": true
   },
   "source": [
    "# Image Classification\n",
    "In this project, you'll classify images from the [CIFAR-10 dataset](https://www.cs.toronto.edu/~kriz/cifar.html).  The dataset consists of airplanes, dogs, cats, and other objects. You'll preprocess the images, then train a convolutional neural network on all the samples. The images need to be normalized and the labels need to be one-hot encoded.  You'll get to apply what you learned and build a convolutional, max pooling, dropout, and fully connected layers.  At the end, you'll get to see your neural network's predictions on the sample images.\n",
    "## Get the Data\n",
    "Run the following cell to download the [CIFAR-10 dataset for python](https://www.cs.toronto.edu/~kriz/cifar-10-python.tar.gz)."
   ]
  },
  {
   "cell_type": "code",
   "execution_count": 1,
   "metadata": {},
   "outputs": [
    {
     "name": "stdout",
     "output_type": "stream",
     "text": [
      "All files found!\n"
     ]
    }
   ],
   "source": [
    "\"\"\"\n",
    "DON'T MODIFY ANYTHING IN THIS CELL THAT IS BELOW THIS LINE\n",
    "\"\"\"\n",
    "from urllib.request import urlretrieve\n",
    "from os.path import isfile, isdir\n",
    "from tqdm import tqdm\n",
    "import problem_unittests as tests\n",
    "import tarfile\n",
    "\n",
    "cifar10_dataset_folder_path = 'cifar-10-batches-py'\n",
    "\n",
    "# Use Floyd's cifar-10 dataset if present\n",
    "floyd_cifar10_location = '/input/cifar-10/python.tar.gz'\n",
    "if isfile(floyd_cifar10_location):\n",
    "    tar_gz_path = floyd_cifar10_location\n",
    "else:\n",
    "    tar_gz_path = 'cifar-10-python.tar.gz'\n",
    "\n",
    "class DLProgress(tqdm):\n",
    "    last_block = 0\n",
    "\n",
    "    def hook(self, block_num=1, block_size=1, total_size=None):\n",
    "        self.total = total_size\n",
    "        self.update((block_num - self.last_block) * block_size)\n",
    "        self.last_block = block_num\n",
    "\n",
    "if not isfile(tar_gz_path):\n",
    "    with DLProgress(unit='B', unit_scale=True, miniters=1, desc='CIFAR-10 Dataset') as pbar:\n",
    "        urlretrieve(\n",
    "            'https://www.cs.toronto.edu/~kriz/cifar-10-python.tar.gz',\n",
    "            tar_gz_path,\n",
    "            pbar.hook)\n",
    "\n",
    "if not isdir(cifar10_dataset_folder_path):\n",
    "    with tarfile.open(tar_gz_path) as tar:\n",
    "        tar.extractall()\n",
    "        tar.close()\n",
    "\n",
    "\n",
    "tests.test_folder_path(cifar10_dataset_folder_path)"
   ]
  },
  {
   "cell_type": "markdown",
   "metadata": {},
   "source": [
    "## Explore the Data\n",
    "The dataset is broken into batches to prevent your machine from running out of memory.  The CIFAR-10 dataset consists of 5 batches, named `data_batch_1`, `data_batch_2`, etc.. Each batch contains the labels and images that are one of the following:\n",
    "* airplane\n",
    "* automobile\n",
    "* bird\n",
    "* cat\n",
    "* deer\n",
    "* dog\n",
    "* frog\n",
    "* horse\n",
    "* ship\n",
    "* truck\n",
    "\n",
    "Understanding a dataset is part of making predictions on the data.  Play around with the code cell below by changing the `batch_id` and `sample_id`. The `batch_id` is the id for a batch (1-5). The `sample_id` is the id for a image and label pair in the batch.\n",
    "\n",
    "Ask yourself \"What are all possible labels?\", \"What is the range of values for the image data?\", \"Are the labels in order or random?\".  Answers to questions like these will help you preprocess the data and end up with better predictions."
   ]
  },
  {
   "cell_type": "code",
   "execution_count": 2,
   "metadata": {},
   "outputs": [
    {
     "name": "stdout",
     "output_type": "stream",
     "text": [
      "\n",
      "Stats of batch 1:\n",
      "Samples: 10000\n",
      "Label Counts: {0: 1005, 1: 974, 2: 1032, 3: 1016, 4: 999, 5: 937, 6: 1030, 7: 1001, 8: 1025, 9: 981}\n",
      "First 20 Labels: [6, 9, 9, 4, 1, 1, 2, 7, 8, 3, 4, 7, 7, 2, 9, 9, 9, 3, 2, 6]\n",
      "\n",
      "Example of Image 17:\n",
      "Image - Min Value: 25 Max Value: 225\n",
      "Image - Shape: (32, 32, 3)\n",
      "Label - Label Id: 3 Name: cat\n"
     ]
    },
    {
     "data": {
      "image/png": "[encoded data removed]",
      "text/plain": [
       "<matplotlib.figure.Figure at 0x11d2ff860>"
      ]
     },
     "metadata": {
      "image/png": {
       "height": 250,
       "width": 253
      }
     },
     "output_type": "display_data"
    }
   ],
   "source": [
    "%matplotlib inline\n",
    "%config InlineBackend.figure_format = 'retina'\n",
    "\n",
    "import helper\n",
    "import numpy as np\n",
    "\n",
    "# Explore the dataset\n",
    "batch_id = 1\n",
    "sample_id = 17\n",
    "helper.display_stats(cifar10_dataset_folder_path, batch_id, sample_id)"
   ]
  },
  {
   "cell_type": "markdown",
   "metadata": {},
   "source": [
    "## Implement Preprocess Functions\n",
    "### Normalize\n",
    "In the cell below, implement the `normalize` function to take in image data, `x`, and return it as a normalized Numpy array. The values should be in the range of 0 to 1, inclusive.  The return object should be the same shape as `x`."
   ]
  },
  {
   "cell_type": "code",
   "execution_count": 3,
   "metadata": {},
   "outputs": [
    {
     "name": "stdout",
     "output_type": "stream",
     "text": [
      "Tests Passed\n"
     ]
    }
   ],
   "source": [
    "def normalize(x):\n",
    "    \"\"\"\n",
    "    Normalize a list of sample image data in the range of 0 to 1\n",
    "    : x: List of image data.  The image shape is (32, 32, 3)\n",
    "    : return: Numpy array of normalize data\n",
    "    \"\"\"\n",
    "    # TODO: Implement Function\n",
    "    np_x = np.array(x)\n",
    "    norm_x = (np_x)/255 # current normalization only divides by max value\n",
    "    # ANOTHER METHOD with range from -1 to 1\n",
    "    # (x - mean)/std = in an image mean=128 (expected) \n",
    "    #and std=128 (expected) since we want to center our distribution in 0. If 255 colors, approx -128..0..128\n",
    "    return norm_x\n",
    "\n",
    "\n",
    "\"\"\"\n",
    "DON'T MODIFY ANYTHING IN THIS CELL THAT IS BELOW THIS LINE\n",
    "\"\"\"\n",
    "tests.test_normalize(normalize)"
   ]
  },
  {
   "cell_type": "markdown",
   "metadata": {},
   "source": [
    "### One-hot encode\n",
    "Just like the previous code cell, you'll be implementing a function for preprocessing.  This time, you'll implement the `one_hot_encode` function. The input, `x`, are a list of labels.  Implement the function to return the list of labels as One-Hot encoded Numpy array.  The possible values for labels are 0 to 9. The one-hot encoding function should return the same encoding for each value between each call to `one_hot_encode`.  Make sure to save the map of encodings outside the function.\n",
    "\n",
    "Hint: Don't reinvent the wheel."
   ]
  },
  {
   "cell_type": "code",
   "execution_count": 4,
   "metadata": {},
   "outputs": [
    {
     "name": "stdout",
     "output_type": "stream",
     "text": [
      "Tests Passed\n"
     ]
    }
   ],
   "source": [
    "from sklearn import preprocessing \n",
    "\n",
    "def one_hot_encode(x):\n",
    "    \"\"\"\n",
    "    One hot encode a list of sample labels. Return a one-hot encoded vector for each label.\n",
    "    : x: List of sample Labels\n",
    "    : return: Numpy array of one-hot encoded labels\n",
    "    \"\"\"\n",
    "    # TODO: Implement Function\n",
    "    encode = preprocessing.LabelBinarizer()\n",
    "    encode.fit([0,1,2,3,4,5,6,7,8,9]) #possible values of labels to be encoded in vectors of 0's and 1's\n",
    "    \n",
    "    #show the encoding that corresponds to each label\n",
    "    #print (encode.classes_) \n",
    "    #print (encode.transform([9,8,7,6,5,4,3,2,1,0]))\n",
    "    \n",
    "    labels_one_hot_encode = encode.transform(x) # encodes the labels with 0,1 values based on labelID [0,9]\n",
    "    \n",
    "    return labels_one_hot_encode\n",
    "\n",
    "\n",
    "\"\"\"\n",
    "DON'T MODIFY ANYTHING IN THIS CELL THAT IS BELOW THIS LINE\n",
    "\"\"\"\n",
    "tests.test_one_hot_encode(one_hot_encode)"
   ]
  },
  {
   "cell_type": "markdown",
   "metadata": {},
   "source": [
    "### Randomize Data\n",
    "As you saw from exploring the data above, the order of the samples are randomized.  It doesn't hurt to randomize it again, but you don't need to for this dataset."
   ]
  },
  {
   "cell_type": "markdown",
   "metadata": {},
   "source": [
    "## Preprocess all the data and save it\n",
    "Running the code cell below will preprocess all the CIFAR-10 data and save it to file. The code below also uses 10% of the training data for validation."
   ]
  },
  {
   "cell_type": "code",
   "execution_count": 5,
   "metadata": {
    "collapsed": true
   },
   "outputs": [],
   "source": [
    "\"\"\"\n",
    "DON'T MODIFY ANYTHING IN THIS CELL\n",
    "\"\"\"\n",
    "# Preprocess Training, Validation, and Testing Data\n",
    "helper.preprocess_and_save_data(cifar10_dataset_folder_path, normalize, one_hot_encode)"
   ]
  },
  {
   "cell_type": "markdown",
   "metadata": {},
   "source": [
    "# Check Point\n",
    "This is your first checkpoint.  If you ever decide to come back to this notebook or have to restart the notebook, you can start from here.  The preprocessed data has been saved to disk."
   ]
  },
  {
   "cell_type": "code",
   "execution_count": 3,
   "metadata": {
    "collapsed": true
   },
   "outputs": [],
   "source": [
    "\"\"\"\n",
    "DON'T MODIFY ANYTHING IN THIS CELL\n",
    "\"\"\"\n",
    "import pickle\n",
    "import problem_unittests as tests\n",
    "import helper\n",
    "import numpy as np\n",
    "\n",
    "# Load the Preprocessed Validation data\n",
    "valid_features, valid_labels = pickle.load(open('preprocess_validation.p', mode='rb'))"
   ]
  },
  {
   "cell_type": "markdown",
   "metadata": {},
   "source": [
    "## Build the network\n",
    "For the neural network, you'll build each layer into a function.  Most of the code you've seen has been outside of functions. To test your code more thoroughly, we require that you put each layer in a function.  This allows us to give you better feedback and test for simple mistakes using our unittests before you submit your project.\n",
    "\n",
    ">**Note:** If you're finding it hard to dedicate enough time for this course each week, we've provided a small shortcut to this part of the project. In the next couple of problems, you'll have the option to use classes from the [TensorFlow Layers](https://www.tensorflow.org/api_docs/python/tf/layers) or [TensorFlow Layers (contrib)](https://www.tensorflow.org/api_guides/python/contrib.layers) packages to build each layer, except the layers you build in the \"Convolutional and Max Pooling Layer\" section.  TF Layers is similar to Keras's and TFLearn's abstraction to layers, so it's easy to pickup.\n",
    "\n",
    ">However, if you would like to get the most out of this course, try to solve all the problems _without_ using anything from the TF Layers packages. You **can** still use classes from other packages that happen to have the same name as ones you find in TF Layers! For example, instead of using the TF Layers version of the `conv2d` class, [tf.layers.conv2d](https://www.tensorflow.org/api_docs/python/tf/layers/conv2d), you would want to use the TF Neural Network version of `conv2d`, [tf.nn.conv2d](https://www.tensorflow.org/api_docs/python/tf/nn/conv2d). \n",
    "\n",
    "Let's begin!\n",
    "\n",
    "### Input\n",
    "The neural network needs to read the image data, one-hot encoded labels, and dropout keep probability. Implement the following functions\n",
    "* Implement `neural_net_image_input`\n",
    " * Return a [TF Placeholder](https://www.tensorflow.org/api_docs/python/tf/placeholder)\n",
    " * Set the shape using `image_shape` with batch size set to `None`.\n",
    " * Name the TensorFlow placeholder \"x\" using the TensorFlow `name` parameter in the [TF Placeholder](https://www.tensorflow.org/api_docs/python/tf/placeholder).\n",
    "* Implement `neural_net_label_input`\n",
    " * Return a [TF Placeholder](https://www.tensorflow.org/api_docs/python/tf/placeholder)\n",
    " * Set the shape using `n_classes` with batch size set to `None`.\n",
    " * Name the TensorFlow placeholder \"y\" using the TensorFlow `name` parameter in the [TF Placeholder](https://www.tensorflow.org/api_docs/python/tf/placeholder).\n",
    "* Implement `neural_net_keep_prob_input`\n",
    " * Return a [TF Placeholder](https://www.tensorflow.org/api_docs/python/tf/placeholder) for dropout keep probability.\n",
    " * Name the TensorFlow placeholder \"keep_prob\" using the TensorFlow `name` parameter in the [TF Placeholder](https://www.tensorflow.org/api_docs/python/tf/placeholder).\n",
    "\n",
    "These names will be used at the end of the project to load your saved model.\n",
    "\n",
    "Note: `None` for shapes in TensorFlow allow for a dynamic size."
   ]
  },
  {
   "cell_type": "code",
   "execution_count": 17,
   "metadata": {},
   "outputs": [
    {
     "name": "stdout",
     "output_type": "stream",
     "text": [
      "Image Input Tests Passed.\n",
      "Label Input Tests Passed.\n",
      "Keep Prob Tests Passed.\n"
     ]
    }
   ],
   "source": [
    "import tensorflow as tf\n",
    "\n",
    "def neural_net_image_input(image_shape):\n",
    "    \"\"\"\n",
    "    Return a Tensor for a batch of image input\n",
    "    : image_shape: Shape of the images\n",
    "    : return: Tensor for image input.\n",
    "    \"\"\"\n",
    "    # TODO: Implement Function\n",
    "    batch_size = None\n",
    "    return tf.placeholder(tf.float32, shape=([batch_size, image_shape[0], image_shape[1], image_shape[2]]), name=\"x\")\n",
    "\n",
    "\n",
    "def neural_net_label_input(n_classes):\n",
    "    \"\"\"\n",
    "    Return a Tensor for a batch of label input\n",
    "    : n_classes: Number of classes\n",
    "    : return: Tensor for label input.\n",
    "    \"\"\"\n",
    "    # TODO: Implement Function\n",
    "    batch_size = None\n",
    "    return tf.placeholder(tf.float32, shape=([batch_size, n_classes]), name=\"y\")\n",
    "\n",
    "\n",
    "def neural_net_keep_prob_input():\n",
    "    \"\"\"\n",
    "    Return a Tensor for keep probability\n",
    "    : return: Tensor for keep probability.\n",
    "    \"\"\"\n",
    "    # TODO: Implement Function\n",
    "    return tf.placeholder(tf.float32, shape=None, name=\"keep_prob\")\n",
    "\n",
    "\n",
    "\"\"\"\n",
    "DON'T MODIFY ANYTHING IN THIS CELL THAT IS BELOW THIS LINE\n",
    "\"\"\"\n",
    "tf.reset_default_graph()\n",
    "tests.test_nn_image_inputs(neural_net_image_input)\n",
    "tests.test_nn_label_inputs(neural_net_label_input)\n",
    "tests.test_nn_keep_prob_inputs(neural_net_keep_prob_input)"
   ]
  },
  {
   "cell_type": "markdown",
   "metadata": {},
   "source": [
    "### Convolution and Max Pooling Layer\n",
    "Convolution layers have a lot of success with images. For this code cell, you should implement the function `conv2d_maxpool` to apply convolution then max pooling:\n",
    "* Create the weight and bias using `conv_ksize`, `conv_num_outputs` and the shape of `x_tensor`.\n",
    "* Apply a convolution to `x_tensor` using weight and `conv_strides`.\n",
    " * We recommend you use same padding, but you're welcome to use any padding.\n",
    "* Add bias\n",
    "* Add a nonlinear activation to the convolution.\n",
    "* Apply Max Pooling using `pool_ksize` and `pool_strides`.\n",
    " * We recommend you use same padding, but you're welcome to use any padding.\n",
    "\n",
    "**Note:** You **can't** use [TensorFlow Layers](https://www.tensorflow.org/api_docs/python/tf/layers) or [TensorFlow Layers (contrib)](https://www.tensorflow.org/api_guides/python/contrib.layers) for **this** layer, but you can still use TensorFlow's [Neural Network](https://www.tensorflow.org/api_docs/python/tf/nn) package. You may still use the shortcut option for all the **other** layers."
   ]
  },
  {
   "cell_type": "code",
   "execution_count": 18,
   "metadata": {},
   "outputs": [
    {
     "name": "stdout",
     "output_type": "stream",
     "text": [
      "Tests Passed\n"
     ]
    }
   ],
   "source": [
    "def conv2d_maxpool(x_tensor, conv_num_outputs, conv_ksize, conv_strides, pool_ksize, pool_strides):\n",
    "    \"\"\"\n",
    "    Apply convolution then max pooling to x_tensor\n",
    "    :param x_tensor: TensorFlow Tensor\n",
    "    :param conv_num_outputs: Number of outputs for the convolutional layer\n",
    "    :param conv_ksize: kernal size 2-D Tuple for the convolutional layer\n",
    "    :param conv_strides: Stride 2-D Tuple for convolution\n",
    "    :param pool_ksize: kernal size 2-D Tuple for pool\n",
    "    :param pool_strides: Stride 2-D Tuple for pool\n",
    "    : return: A tensor that represents convolution and max pooling of x_tensor\n",
    "    \"\"\"\n",
    "    # TODO: Implement Function\n",
    "    \n",
    "    #weights\n",
    "    filter_height  = conv_ksize[0]\n",
    "    filter_width   = conv_ksize[1]\n",
    "    color_channels = x_tensor.get_shape().as_list()[-1] # to read last value of list that contains the number of color channels \n",
    "    # truncated normal std dev initialization of weights\n",
    "    weights = tf.Variable(tf.truncated_normal([filter_height,filter_width,color_channels,conv_num_outputs], mean=0.0, stddev=0.1))\n",
    "\n",
    "    # Xavier Initialization - needs different names for vars\n",
    "    #weights = tf.get_variable(\"w_conv\",shape=[filter_height,filter_width,color_channels,conv_num_outputs],initializer=tf.contrib.layers.xavier_initializer())\n",
    "    \n",
    "    #bias\n",
    "    bias = tf.Variable(tf.zeros(conv_num_outputs))\n",
    "    \n",
    "    #Convolution\n",
    "    #batch and channel are commonly set to 1\n",
    "    conv_batch_size = 1\n",
    "    conv_channel_size = 1\n",
    "    conv_strides4D = [conv_batch_size, conv_strides[0], conv_strides[1], conv_channel_size]\n",
    "    conv_layer = tf.nn.conv2d(x_tensor, weights, conv_strides4D, padding='SAME')\n",
    "    \n",
    "    #Add Bias\n",
    "    conv_layer = tf.nn.bias_add(conv_layer, bias)\n",
    "    \n",
    "    #Non-linear activation \n",
    "    conv_layer = tf.nn.relu(conv_layer)\n",
    "    \n",
    "    #Max pooling\n",
    "    # batch and channel are commonly set to 1\n",
    "    pool_batch_size = 1\n",
    "    pool_channel_size = 1\n",
    "    pool_ksize4D = [pool_batch_size, pool_ksize[0], pool_ksize[1], pool_channel_size]\n",
    "    pool_strides4D = [1, pool_strides[0], pool_strides[1], 1]\n",
    "    conv_layer = tf.nn.max_pool(conv_layer, pool_ksize4D, pool_strides4D, padding='SAME')\n",
    "    \n",
    "    return conv_layer\n",
    "\n",
    "\n",
    "\"\"\"\n",
    "DON'T MODIFY ANYTHING IN THIS CELL THAT IS BELOW THIS LINE\n",
    "\"\"\"\n",
    "tests.test_con_pool(conv2d_maxpool)"
   ]
  },
  {
   "cell_type": "markdown",
   "metadata": {},
   "source": [
    "### Flatten Layer\n",
    "Implement the `flatten` function to change the dimension of `x_tensor` from a 4-D tensor to a 2-D tensor.  The output should be the shape (*Batch Size*, *Flattened Image Size*). Shortcut option: you can use classes from the [TensorFlow Layers](https://www.tensorflow.org/api_docs/python/tf/layers) or [TensorFlow Layers (contrib)](https://www.tensorflow.org/api_guides/python/contrib.layers) packages for this layer. For more of a challenge, only use other TensorFlow packages."
   ]
  },
  {
   "cell_type": "code",
   "execution_count": 19,
   "metadata": {
    "scrolled": true
   },
   "outputs": [
    {
     "name": "stdout",
     "output_type": "stream",
     "text": [
      "Tests Passed\n"
     ]
    }
   ],
   "source": [
    "def flatten(x_tensor):\n",
    "    \"\"\"\n",
    "    Flatten x_tensor to (Batch Size, Flattened Image Size)\n",
    "    : x_tensor: A tensor of size (Batch Size, ...), where ... are the image dimensions.\n",
    "    : return: A tensor of size (Batch Size, Flattened Image Size).\n",
    "    \"\"\"\n",
    "    # TODO: Implement Function\n",
    "    \n",
    "    # First way to do this\n",
    "    # Need to convert the get_shape() result to int() since at this point is a class Dimension object\n",
    "    flat_image = np.prod(x_tensor.get_shape()[1:])\n",
    "    x_tensor_flatten = tf.reshape(x_tensor,[-1, int(flat_image)])\n",
    "        \n",
    "    # Second way to do it\n",
    "    # No Need to convert the get_shape().as_list() result since it is already an int\n",
    "    #flat_image2 = np.prod(x_tensor.get_shape().as_list()[1:])\n",
    "    #x_tensor_flatten2 = tf.reshape(x_tensor,[-1, flat_image])\n",
    "    \n",
    "    return x_tensor_flatten\n",
    "\n",
    "\n",
    "\"\"\"\n",
    "DON'T MODIFY ANYTHING IN THIS CELL THAT IS BELOW THIS LINE\n",
    "\"\"\"\n",
    "tests.test_flatten(flatten)"
   ]
  },
  {
   "cell_type": "markdown",
   "metadata": {},
   "source": [
    "### Fully-Connected Layer\n",
    "Implement the `fully_conn` function to apply a fully connected layer to `x_tensor` with the shape (*Batch Size*, *num_outputs*). Shortcut option: you can use classes from the [TensorFlow Layers](https://www.tensorflow.org/api_docs/python/tf/layers) or [TensorFlow Layers (contrib)](https://www.tensorflow.org/api_guides/python/contrib.layers) packages for this layer. For more of a challenge, only use other TensorFlow packages."
   ]
  },
  {
   "cell_type": "code",
   "execution_count": 20,
   "metadata": {},
   "outputs": [
    {
     "name": "stdout",
     "output_type": "stream",
     "text": [
      "Tests Passed\n"
     ]
    }
   ],
   "source": [
    "def fully_conn(x_tensor, num_outputs):\n",
    "    \"\"\"\n",
    "    Apply a fully connected layer to x_tensor using weight and bias\n",
    "    : x_tensor: A 2-D tensor where the first dimension is batch size.\n",
    "    : num_outputs: The number of output that the new tensor should be.\n",
    "    : return: A 2-D tensor where the second dimension is num_outputs.\n",
    "    \"\"\"\n",
    "    # TODO: Implement Function\n",
    "\n",
    "    #dropout\n",
    "    #keep_prob = tf.constant(0.5)\n",
    "    batch_size, num_inputs = x_tensor.get_shape().as_list()\n",
    "    # truncated normal std dev initialization of weights\n",
    "    weights = tf.Variable(tf.truncated_normal([num_inputs, num_outputs], mean=0.0, stddev=0.1))\n",
    "    # Xavier Initialization\n",
    "    #weights = tf.get_variable(\"w_fc\", shape=[filter_height,filter_width,color_channels,conv_num_outputs],initializer=tf.contrib.layers.xavier_initializer())\n",
    "    bias = tf.Variable(tf.zeros(num_outputs))\n",
    "    \n",
    "    #Normal FC - no BN\n",
    "    #fc = tf.matmul(x_tensor, weights) + bias\n",
    "    #fc = tf.nn.relu(fc)\n",
    "    \n",
    "    #Batch normalization      \n",
    "    epsilon = 1e-3 # epsilon for Batch Normalization - avoids div with 0\n",
    "    z_BN = tf.matmul(x_tensor,weights)\n",
    "    batch_mean, batch_var = tf.nn.moments(z_BN,[0])\n",
    "    scale = tf.Variable(tf.ones(num_outputs))\n",
    "    beta = tf.Variable(tf.zeros(num_outputs))\n",
    "    fc_BN = tf.nn.batch_normalization(z_BN, batch_mean, batch_var, beta, scale, epsilon)\n",
    "    fc = tf.nn.relu(fc_BN)\n",
    "   \n",
    "    \n",
    "    # dropout added in train function\n",
    "    #fc = tf.nn.dropout(fc,keep_prob)\n",
    "    \n",
    "    return fc\n",
    "\n",
    "\n",
    "\"\"\"\n",
    "DON'T MODIFY ANYTHING IN THIS CELL THAT IS BELOW THIS LINE\n",
    "\"\"\"\n",
    "tests.test_fully_conn(fully_conn)"
   ]
  },
  {
   "cell_type": "markdown",
   "metadata": {},
   "source": [
    "### Output Layer\n",
    "Implement the `output` function to apply a fully connected layer to `x_tensor` with the shape (*Batch Size*, *num_outputs*). Shortcut option: you can use classes from the [TensorFlow Layers](https://www.tensorflow.org/api_docs/python/tf/layers) or [TensorFlow Layers (contrib)](https://www.tensorflow.org/api_guides/python/contrib.layers) packages for this layer. For more of a challenge, only use other TensorFlow packages.\n",
    "\n",
    "**Note:** Activation, softmax, or cross entropy should **not** be applied to this."
   ]
  },
  {
   "cell_type": "code",
   "execution_count": 21,
   "metadata": {},
   "outputs": [
    {
     "name": "stdout",
     "output_type": "stream",
     "text": [
      "Tests Passed\n"
     ]
    }
   ],
   "source": [
    "def output(x_tensor, num_outputs):\n",
    "    \"\"\"\n",
    "    Apply a output layer to x_tensor using weight and bias\n",
    "    : x_tensor: A 2-D tensor where the first dimension is batch size.\n",
    "    : num_outputs: The number of output that the new tensor should be.\n",
    "    : return: A 2-D tensor where the second dimension is num_outputs.\n",
    "    \"\"\"\n",
    "    # TODO: Implement Function\n",
    "\n",
    "    batch_size, num_inputs = x_tensor.get_shape().as_list()\n",
    "    # truncated normal std dev initialization of weights\n",
    "    weights = tf.Variable(tf.truncated_normal([num_inputs, num_outputs], mean=0.0, stddev=0.1))\n",
    "    # Xavier Initialization\n",
    "    #weights = tf.get_variable(\"w_out\", shape=[filter_height,filter_width,color_channels,conv_num_outputs],initializer=tf.contrib.layers.xavier_initializer())\n",
    "    bias = tf.Variable(tf.zeros(num_outputs))\n",
    "    \n",
    "    # Normal Linear prediction - no BN\n",
    "    #linear_prediction = tf.matmul(x_tensor, weights) + bias #linear activation\n",
    "    \n",
    "    #Batch normalization\n",
    "    epsilon = 1e-3 # epsilon for Batch Normalization - avoids div with 0\n",
    "    z_BN = tf.matmul(x_tensor,weights)\n",
    "    batch_mean, batch_var = tf.nn.moments(z_BN,[0])\n",
    "    scale = tf.Variable(tf.ones(num_outputs))\n",
    "    beta = tf.Variable(tf.zeros(num_outputs))\n",
    "    linear_prediction = tf.nn.batch_normalization(z_BN, batch_mean, batch_var, beta, scale, epsilon)\n",
    "    \n",
    "    return linear_prediction\n",
    "\n",
    "\n",
    "\"\"\"\n",
    "DON'T MODIFY ANYTHING IN THIS CELL THAT IS BELOW THIS LINE\n",
    "\"\"\"\n",
    "tests.test_output(output)"
   ]
  },
  {
   "cell_type": "markdown",
   "metadata": {},
   "source": [
    "### Create Convolutional Model\n",
    "Implement the function `conv_net` to create a convolutional neural network model. The function takes in a batch of images, `x`, and outputs logits.  Use the layers you created above to create this model:\n",
    "\n",
    "* Apply 1, 2, or 3 Convolution and Max Pool layers\n",
    "* Apply a Flatten Layer\n",
    "* Apply 1, 2, or 3 Fully Connected Layers\n",
    "* Apply an Output Layer\n",
    "* Return the output\n",
    "* Apply [TensorFlow's Dropout](https://www.tensorflow.org/api_docs/python/tf/nn/dropout) to one or more layers in the model using `keep_prob`. "
   ]
  },
  {
   "cell_type": "code",
   "execution_count": 29,
   "metadata": {
    "scrolled": true
   },
   "outputs": [
    {
     "name": "stdout",
     "output_type": "stream",
     "text": [
      "Neural Network Built!\n"
     ]
    }
   ],
   "source": [
    "def conv_net(x, keep_prob):\n",
    "    \"\"\"\n",
    "    Create a convolutional neural network model\n",
    "    : x: Placeholder tensor that holds image data.\n",
    "    : keep_prob: Placeholder tensor that hold dropout keep probability.\n",
    "    : return: Tensor that represents logits\n",
    "    \"\"\"\n",
    "    # TODO: Apply 1, 2, or 3 Convolution and Max Pool layers\n",
    "    #    Play around with different number of outputs, kernel size and stride\n",
    "    # Function Definition from Above:\n",
    "    #    conv2d_maxpool(x_tensor, conv_num_outputs, conv_ksize, conv_strides, pool_ksize, pool_strides)\n",
    "    # (x_tensor, conv_num_outputs, conv_ksize, conv_strides, pool_ksize, pool_strides)\n",
    "    \n",
    "    conv_num_outputs =  [16,40,60] #[36,70,100]\n",
    "    conv_ksize = [[5,5],[5,5],[5,5]] #[[3,3],[3,3],[1,1]]\n",
    "    conv_strides = [1,1]\n",
    "    pool_ksize = [[2,2],[2,2],[2,2]]\n",
    "    pool_strides = [2,2]\n",
    "    \n",
    "    x_conv = conv2d_maxpool(x, conv_num_outputs[0], conv_ksize[0], conv_strides, pool_ksize[0], pool_strides)\n",
    "    x_conv = conv2d_maxpool(x_conv, conv_num_outputs[1], conv_ksize[1], conv_strides, pool_ksize[1], pool_strides)\n",
    "    x_conv = conv2d_maxpool(x_conv, conv_num_outputs[2], conv_ksize[2], conv_strides, pool_ksize[2], pool_strides)\n",
    "    \n",
    "\n",
    "    # TODO: Apply a Flatten Layer\n",
    "    # Function Definition from Above:\n",
    "    #   flatten(x_tensor)\n",
    "    x_flat = flatten(x_conv)\n",
    "    \n",
    "\n",
    "    # TODO: Apply 1, 2, or 3 Fully Connected Layers\n",
    "    #    Play around with different number of outputs\n",
    "    # Function Definition from Above:\n",
    "    #   fully_conn(x_tensor, num_outputs)\n",
    "    x_fc = tf.nn.dropout(fully_conn(x_flat, 1320), keep_prob) #320,#120\n",
    "    x_fc = tf.nn.dropout(fully_conn(x_fc, 685), keep_prob) #185,#85\n",
    "    x_fc = tf.nn.dropout(fully_conn(x_fc, 255), keep_prob) #55,#25\n",
    "    \n",
    "    # TODO: Apply an Output Layer\n",
    "    #    Set this to the number of classes\n",
    "    # Function Definition from Above:\n",
    "    #   output(x_tensor, num_outputs)\n",
    "    num_outputs_pred = 10\n",
    "    x_predict =tf.nn.dropout(output(x_fc, num_outputs_pred), keep_prob)\n",
    "    \n",
    "    # TODO: return output\n",
    "    return x_predict\n",
    "\n",
    "\n",
    "\"\"\"\n",
    "DON'T MODIFY ANYTHING IN THIS CELL THAT IS BELOW THIS LINE\n",
    "\"\"\"\n",
    "\n",
    "##############################\n",
    "## Build the Neural Network ##\n",
    "##############################\n",
    "\n",
    "# Remove previous weights, bias, inputs, etc..\n",
    "tf.reset_default_graph()\n",
    "\n",
    "# Inputs\n",
    "x = neural_net_image_input((32, 32, 3))\n",
    "y = neural_net_label_input(10)\n",
    "keep_prob = neural_net_keep_prob_input()\n",
    "\n",
    "# Model\n",
    "logits = conv_net(x, keep_prob)\n",
    "\n",
    "# Name logits Tensor, so that is can be loaded from disk after training\n",
    "logits = tf.identity(logits, name='logits')\n",
    "\n",
    "# Loss and Optimizer\n",
    "cost = tf.reduce_mean(tf.nn.softmax_cross_entropy_with_logits(logits=logits, labels=y))\n",
    "optimizer = tf.train.AdamOptimizer().minimize(cost)\n",
    "\n",
    "# Accuracy\n",
    "correct_pred = tf.equal(tf.argmax(logits, 1), tf.argmax(y, 1))\n",
    "accuracy = tf.reduce_mean(tf.cast(correct_pred, tf.float32), name='accuracy')\n",
    "\n",
    "tests.test_conv_net(conv_net)"
   ]
  },
  {
   "cell_type": "markdown",
   "metadata": {},
   "source": [
    "## Train the Neural Network\n",
    "### Single Optimization\n",
    "Implement the function `train_neural_network` to do a single optimization.  The optimization should use `optimizer` to optimize in `session` with a `feed_dict` of the following:\n",
    "* `x` for image input\n",
    "* `y` for labels\n",
    "* `keep_prob` for keep probability for dropout\n",
    "\n",
    "This function will be called for each batch, so `tf.global_variables_initializer()` has already been called.\n",
    "\n",
    "Note: Nothing needs to be returned. This function is only optimizing the neural network."
   ]
  },
  {
   "cell_type": "code",
   "execution_count": 23,
   "metadata": {},
   "outputs": [
    {
     "name": "stdout",
     "output_type": "stream",
     "text": [
      "Tests Passed\n"
     ]
    }
   ],
   "source": [
    "def train_neural_network(session, optimizer, keep_probability, feature_batch, label_batch):\n",
    "    \"\"\"\n",
    "    Optimize the session on a batch of images and labels\n",
    "    : session: Current TensorFlow session\n",
    "    : optimizer: TensorFlow optimizer function\n",
    "    : keep_probability: keep probability\n",
    "    : feature_batch: Batch of Numpy image data\n",
    "    : label_batch: Batch of Numpy label data\n",
    "    \"\"\"\n",
    "    # TODO: Implement Function\n",
    "    train_feed_dict ={x: feature_batch, y: label_batch, keep_prob: keep_probability}\n",
    "    session.run(optimizer, feed_dict=train_feed_dict)\n",
    "    \n",
    "    #pass\n",
    "\n",
    "\n",
    "\"\"\"\n",
    "DON'T MODIFY ANYTHING IN THIS CELL THAT IS BELOW THIS LINE\n",
    "\"\"\"\n",
    "tests.test_train_nn(train_neural_network)"
   ]
  },
  {
   "cell_type": "markdown",
   "metadata": {},
   "source": [
    "### Show Stats\n",
    "Implement the function `print_stats` to print loss and validation accuracy.  Use the global variables `valid_features` and `valid_labels` to calculate validation accuracy.  Use a keep probability of `1.0` to calculate the loss and validation accuracy."
   ]
  },
  {
   "cell_type": "code",
   "execution_count": 24,
   "metadata": {
    "collapsed": true
   },
   "outputs": [],
   "source": [
    "def print_stats(session, feature_batch, label_batch, cost, accuracy):\n",
    "    \"\"\"\n",
    "    Print information about loss and validation accuracy\n",
    "    : session: Current TensorFlow session\n",
    "    : feature_batch: Batch of Numpy image data\n",
    "    : label_batch: Batch of Numpy label data\n",
    "    : cost: TensorFlow cost function\n",
    "    : accuracy: TensorFlow accuracy function\n",
    "    \"\"\"\n",
    "    # TODO: Implement Function\n",
    "    #pass\n",
    "    #train_feed_dict = {x: feature_batch, y: label_batch, keep_prob: 1.0}\n",
    "    val_feed_dict = {x: valid_features, y: valid_labels, keep_prob: 1.0}\n",
    "    validation_cost = session.run(cost, feed_dict=val_feed_dict)\n",
    "    validation_accuracy = session.run(accuracy, feed_dict=val_feed_dict)\n",
    "    print('Validation accuracy at {} --- Validation cost at {} '.format(validation_accuracy, validation_cost))"
   ]
  },
  {
   "cell_type": "markdown",
   "metadata": {},
   "source": [
    "### Hyperparameters\n",
    "Tune the following parameters:\n",
    "* Set `epochs` to the number of iterations until the network stops learning or start overfitting\n",
    "* Set `batch_size` to the highest number that your machine has memory for.  Most people set them to common sizes of memory:\n",
    " * 64\n",
    " * 128\n",
    " * 256\n",
    " * ...\n",
    "* Set `keep_probability` to the probability of keeping a node using dropout"
   ]
  },
  {
   "cell_type": "code",
   "execution_count": 35,
   "metadata": {
    "collapsed": true
   },
   "outputs": [],
   "source": [
    "# TODO: Tune Parameters\n",
    "epochs = 30\n",
    "batch_size = 64\n",
    "keep_probability = 0.5 #test with 0.75 seemed better"
   ]
  },
  {
   "cell_type": "markdown",
   "metadata": {},
   "source": [
    "### Train on a Single CIFAR-10 Batch\n",
    "Instead of training the neural network on all the CIFAR-10 batches of data, let's use a single batch. This should save time while you iterate on the model to get a better accuracy.  Once the final validation accuracy is 50% or greater, run the model on all the data in the next section."
   ]
  },
  {
   "cell_type": "code",
   "execution_count": 36,
   "metadata": {
    "scrolled": true
   },
   "outputs": [
    {
     "name": "stdout",
     "output_type": "stream",
     "text": [
      "Checking the Training on a Single Batch...\n",
      "Epoch  1, CIFAR-10 Batch 1:  Validation accuracy at 0.2939999997615814 --- Validation cost at 1.971663475036621 \n",
      "Epoch  2, CIFAR-10 Batch 1:  Validation accuracy at 0.3758000135421753 --- Validation cost at 1.8758125305175781 \n",
      "Epoch  3, CIFAR-10 Batch 1:  Validation accuracy at 0.4027999937534332 --- Validation cost at 1.7874661684036255 \n",
      "Epoch  4, CIFAR-10 Batch 1:  Validation accuracy at 0.4359999895095825 --- Validation cost at 1.7118470668792725 \n",
      "Epoch  5, CIFAR-10 Batch 1:  Validation accuracy at 0.4519999921321869 --- Validation cost at 1.6689844131469727 \n",
      "Epoch  6, CIFAR-10 Batch 1:  Validation accuracy at 0.48579999804496765 --- Validation cost at 1.6012284755706787 \n",
      "Epoch  7, CIFAR-10 Batch 1:  Validation accuracy at 0.5 --- Validation cost at 1.5685697793960571 \n",
      "Epoch  8, CIFAR-10 Batch 1:  Validation accuracy at 0.5144000053405762 --- Validation cost at 1.5304533243179321 \n",
      "Epoch  9, CIFAR-10 Batch 1:  Validation accuracy at 0.5311999917030334 --- Validation cost at 1.4884424209594727 \n",
      "Epoch 10, CIFAR-10 Batch 1:  Validation accuracy at 0.5388000011444092 --- Validation cost at 1.45612633228302 \n",
      "Epoch 11, CIFAR-10 Batch 1:  Validation accuracy at 0.5440000295639038 --- Validation cost at 1.4472191333770752 \n",
      "Epoch 12, CIFAR-10 Batch 1:  Validation accuracy at 0.5702000260353088 --- Validation cost at 1.3951523303985596 \n",
      "Epoch 13, CIFAR-10 Batch 1:  Validation accuracy at 0.5684000253677368 --- Validation cost at 1.378930687904358 \n",
      "Epoch 14, CIFAR-10 Batch 1:  Validation accuracy at 0.5691999793052673 --- Validation cost at 1.3559237718582153 \n",
      "Epoch 15, CIFAR-10 Batch 1:  Validation accuracy at 0.5726000070571899 --- Validation cost at 1.3456947803497314 \n",
      "Epoch 16, CIFAR-10 Batch 1:  Validation accuracy at 0.5770000219345093 --- Validation cost at 1.3285017013549805 \n",
      "Epoch 17, CIFAR-10 Batch 1:  Validation accuracy at 0.5821999907493591 --- Validation cost at 1.3077101707458496 \n",
      "Epoch 18, CIFAR-10 Batch 1:  Validation accuracy at 0.5938000082969666 --- Validation cost at 1.2852234840393066 \n",
      "Epoch 19, CIFAR-10 Batch 1:  Validation accuracy at 0.5989999771118164 --- Validation cost at 1.2709920406341553 \n",
      "Epoch 20, CIFAR-10 Batch 1:  Validation accuracy at 0.6021999716758728 --- Validation cost at 1.249575138092041 \n",
      "Epoch 21, CIFAR-10 Batch 1:  Validation accuracy at 0.597599983215332 --- Validation cost at 1.2550392150878906 \n",
      "Epoch 22, CIFAR-10 Batch 1:  Validation accuracy at 0.6021999716758728 --- Validation cost at 1.2460322380065918 \n",
      "Epoch 23, CIFAR-10 Batch 1:  Validation accuracy at 0.5956000089645386 --- Validation cost at 1.2587612867355347 \n",
      "Epoch 24, CIFAR-10 Batch 1:  Validation accuracy at 0.5971999764442444 --- Validation cost at 1.243613839149475 \n",
      "Epoch 25, CIFAR-10 Batch 1:  Validation accuracy at 0.5812000036239624 --- Validation cost at 1.2642090320587158 \n",
      "Epoch 26, CIFAR-10 Batch 1:  Validation accuracy at 0.593999981880188 --- Validation cost at 1.2369111776351929 \n",
      "Epoch 27, CIFAR-10 Batch 1:  Validation accuracy at 0.6019999980926514 --- Validation cost at 1.2450531721115112 \n",
      "Epoch 28, CIFAR-10 Batch 1:  Validation accuracy at 0.5943999886512756 --- Validation cost at 1.263490080833435 \n",
      "Epoch 29, CIFAR-10 Batch 1:  Validation accuracy at 0.600600004196167 --- Validation cost at 1.249159812927246 \n",
      "Epoch 30, CIFAR-10 Batch 1:  Validation accuracy at 0.5925999879837036 --- Validation cost at 1.2890255451202393 \n"
     ]
    }
   ],
   "source": [
    "\"\"\"\n",
    "DON'T MODIFY ANYTHING IN THIS CELL\n",
    "\"\"\"\n",
    "print('Checking the Training on a Single Batch...')\n",
    "with tf.Session() as sess:\n",
    "    # Initializing the variables\n",
    "    sess.run(tf.global_variables_initializer())\n",
    "    \n",
    "    # Training cycle\n",
    "    for epoch in range(epochs):\n",
    "        batch_i = 1\n",
    "        for batch_features, batch_labels in helper.load_preprocess_training_batch(batch_i, batch_size):\n",
    "            train_neural_network(sess, optimizer, keep_probability, batch_features, batch_labels)\n",
    "        print('Epoch {:>2}, CIFAR-10 Batch {}:  '.format(epoch + 1, batch_i), end='')\n",
    "        print_stats(sess, batch_features, batch_labels, cost, accuracy)"
   ]
  },
  {
   "cell_type": "markdown",
   "metadata": {},
   "source": [
    "### Fully Train the Model\n",
    "Now that you got a good accuracy with a single CIFAR-10 batch, try it with all five batches."
   ]
  },
  {
   "cell_type": "code",
   "execution_count": 37,
   "metadata": {},
   "outputs": [
    {
     "name": "stdout",
     "output_type": "stream",
     "text": [
      "Training...\n",
      "Epoch  1, CIFAR-10 Batch 1:  Validation accuracy at 0.33880001306533813 --- Validation cost at 1.9053634405136108 \n",
      "Epoch  1, CIFAR-10 Batch 2:  Validation accuracy at 0.376800000667572 --- Validation cost at 1.8451515436172485 \n",
      "Epoch  1, CIFAR-10 Batch 3:  Validation accuracy at 0.42320001125335693 --- Validation cost at 1.7449640035629272 \n",
      "Epoch  1, CIFAR-10 Batch 4:  Validation accuracy at 0.44940000772476196 --- Validation cost at 1.6726244688034058 \n",
      "Epoch  1, CIFAR-10 Batch 5:  Validation accuracy at 0.48240000009536743 --- Validation cost at 1.6221030950546265 \n",
      "Epoch  2, CIFAR-10 Batch 1:  Validation accuracy at 0.4986000061035156 --- Validation cost at 1.5967681407928467 \n",
      "Epoch  2, CIFAR-10 Batch 2:  Validation accuracy at 0.5135999917984009 --- Validation cost at 1.5556585788726807 \n",
      "Epoch  2, CIFAR-10 Batch 3:  Validation accuracy at 0.5365999937057495 --- Validation cost at 1.5009338855743408 \n",
      "Epoch  2, CIFAR-10 Batch 4:  Validation accuracy at 0.5386000275611877 --- Validation cost at 1.4821994304656982 \n",
      "Epoch  2, CIFAR-10 Batch 5:  Validation accuracy at 0.5659999847412109 --- Validation cost at 1.426387071609497 \n",
      "Epoch  3, CIFAR-10 Batch 1:  Validation accuracy at 0.574400007724762 --- Validation cost at 1.4177738428115845 \n",
      "Epoch  3, CIFAR-10 Batch 2:  Validation accuracy at 0.5784000158309937 --- Validation cost at 1.4025709629058838 \n",
      "Epoch  3, CIFAR-10 Batch 3:  Validation accuracy at 0.5842000246047974 --- Validation cost at 1.3644801378250122 \n",
      "Epoch  3, CIFAR-10 Batch 4:  Validation accuracy at 0.5946000218391418 --- Validation cost at 1.3563024997711182 \n",
      "Epoch  3, CIFAR-10 Batch 5:  Validation accuracy at 0.5979999899864197 --- Validation cost at 1.335111141204834 \n",
      "Epoch  4, CIFAR-10 Batch 1:  Validation accuracy at 0.6186000108718872 --- Validation cost at 1.2962201833724976 \n",
      "Epoch  4, CIFAR-10 Batch 2:  Validation accuracy at 0.6150000095367432 --- Validation cost at 1.3024234771728516 \n",
      "Epoch  4, CIFAR-10 Batch 3:  Validation accuracy at 0.635200023651123 --- Validation cost at 1.2609314918518066 \n",
      "Epoch  4, CIFAR-10 Batch 4:  Validation accuracy at 0.6394000053405762 --- Validation cost at 1.241485357284546 \n",
      "Epoch  4, CIFAR-10 Batch 5:  Validation accuracy at 0.6398000121116638 --- Validation cost at 1.224783182144165 \n",
      "Epoch  5, CIFAR-10 Batch 1:  Validation accuracy at 0.6442000269889832 --- Validation cost at 1.2076629400253296 \n",
      "Epoch  5, CIFAR-10 Batch 2:  Validation accuracy at 0.6359999775886536 --- Validation cost at 1.2309706211090088 \n",
      "Epoch  5, CIFAR-10 Batch 3:  Validation accuracy at 0.6496000289916992 --- Validation cost at 1.1879894733428955 \n",
      "Epoch  5, CIFAR-10 Batch 4:  Validation accuracy at 0.6672000288963318 --- Validation cost at 1.1597150564193726 \n",
      "Epoch  5, CIFAR-10 Batch 5:  Validation accuracy at 0.6625999808311462 --- Validation cost at 1.150465488433838 \n",
      "Epoch  6, CIFAR-10 Batch 1:  Validation accuracy at 0.6678000092506409 --- Validation cost at 1.1400094032287598 \n",
      "Epoch  6, CIFAR-10 Batch 2:  Validation accuracy at 0.675000011920929 --- Validation cost at 1.1214511394500732 \n",
      "Epoch  6, CIFAR-10 Batch 3:  Validation accuracy at 0.6779999732971191 --- Validation cost at 1.1038216352462769 \n",
      "Epoch  6, CIFAR-10 Batch 4:  Validation accuracy at 0.675599992275238 --- Validation cost at 1.1116572618484497 \n",
      "Epoch  6, CIFAR-10 Batch 5:  Validation accuracy at 0.6729999780654907 --- Validation cost at 1.0973742008209229 \n",
      "Epoch  7, CIFAR-10 Batch 1:  Validation accuracy at 0.6959999799728394 --- Validation cost at 1.0755741596221924 \n",
      "Epoch  7, CIFAR-10 Batch 2:  Validation accuracy at 0.6772000193595886 --- Validation cost at 1.0930852890014648 \n",
      "Epoch  7, CIFAR-10 Batch 3:  Validation accuracy at 0.7016000151634216 --- Validation cost at 1.0425996780395508 \n",
      "Epoch  7, CIFAR-10 Batch 4:  Validation accuracy at 0.6840000152587891 --- Validation cost at 1.0600178241729736 \n",
      "Epoch  7, CIFAR-10 Batch 5:  Validation accuracy at 0.7016000151634216 --- Validation cost at 1.0340569019317627 \n",
      "Epoch  8, CIFAR-10 Batch 1:  Validation accuracy at 0.7113999724388123 --- Validation cost at 1.0085638761520386 \n",
      "Epoch  8, CIFAR-10 Batch 2:  Validation accuracy at 0.7067999839782715 --- Validation cost at 1.0175681114196777 \n",
      "Epoch  8, CIFAR-10 Batch 3:  Validation accuracy at 0.7111999988555908 --- Validation cost at 0.9991773366928101 \n",
      "Epoch  8, CIFAR-10 Batch 4:  Validation accuracy at 0.7102000117301941 --- Validation cost at 0.9946234226226807 \n",
      "Epoch  8, CIFAR-10 Batch 5:  Validation accuracy at 0.6985999941825867 --- Validation cost at 1.0119187831878662 \n",
      "Epoch  9, CIFAR-10 Batch 1:  Validation accuracy at 0.7084000110626221 --- Validation cost at 1.0037652254104614 \n",
      "Epoch  9, CIFAR-10 Batch 2:  Validation accuracy at 0.7062000036239624 --- Validation cost at 0.9942039251327515 \n",
      "Epoch  9, CIFAR-10 Batch 3:  Validation accuracy at 0.7278000116348267 --- Validation cost at 0.9520038366317749 \n",
      "Epoch  9, CIFAR-10 Batch 4:  Validation accuracy at 0.7174000144004822 --- Validation cost at 0.9602918028831482 \n",
      "Epoch  9, CIFAR-10 Batch 5:  Validation accuracy at 0.723800003528595 --- Validation cost at 0.9413432478904724 \n",
      "Epoch 10, CIFAR-10 Batch 1:  Validation accuracy at 0.7182000279426575 --- Validation cost at 0.9530648589134216 \n",
      "Epoch 10, CIFAR-10 Batch 2:  Validation accuracy at 0.7107999920845032 --- Validation cost at 0.9660245180130005 \n",
      "Epoch 10, CIFAR-10 Batch 3:  Validation accuracy at 0.734000027179718 --- Validation cost at 0.9179851412773132 \n",
      "Epoch 10, CIFAR-10 Batch 4:  Validation accuracy at 0.727400004863739 --- Validation cost at 0.9231171607971191 \n",
      "Epoch 10, CIFAR-10 Batch 5:  Validation accuracy at 0.72079998254776 --- Validation cost at 0.9306930899620056 \n",
      "Epoch 11, CIFAR-10 Batch 1:  Validation accuracy at 0.7328000068664551 --- Validation cost at 0.9148963689804077 \n",
      "Epoch 11, CIFAR-10 Batch 2:  Validation accuracy at 0.7275999784469604 --- Validation cost at 0.9259519577026367 \n",
      "Epoch 11, CIFAR-10 Batch 3:  Validation accuracy at 0.7319999933242798 --- Validation cost at 0.8950523734092712 \n",
      "Epoch 11, CIFAR-10 Batch 4:  Validation accuracy at 0.7253999710083008 --- Validation cost at 0.9034613370895386 \n",
      "Epoch 11, CIFAR-10 Batch 5:  Validation accuracy at 0.7265999913215637 --- Validation cost at 0.9014689326286316 \n",
      "Epoch 12, CIFAR-10 Batch 1:  Validation accuracy at 0.7369999885559082 --- Validation cost at 0.8846025466918945 \n",
      "Epoch 12, CIFAR-10 Batch 2:  Validation accuracy at 0.7364000082015991 --- Validation cost at 0.8892136812210083 \n",
      "Epoch 12, CIFAR-10 Batch 3:  Validation accuracy at 0.7454000115394592 --- Validation cost at 0.8647699952125549 \n",
      "Epoch 12, CIFAR-10 Batch 4:  Validation accuracy at 0.7458000183105469 --- Validation cost at 0.8696231245994568 \n",
      "Epoch 12, CIFAR-10 Batch 5:  Validation accuracy at 0.7462000250816345 --- Validation cost at 0.8612265586853027 \n",
      "Epoch 13, CIFAR-10 Batch 1:  Validation accuracy at 0.7319999933242798 --- Validation cost at 0.8892609477043152 \n",
      "Epoch 13, CIFAR-10 Batch 2:  Validation accuracy at 0.7360000014305115 --- Validation cost at 0.8633006811141968 \n",
      "Epoch 13, CIFAR-10 Batch 3:  Validation accuracy at 0.7458000183105469 --- Validation cost at 0.8348916172981262 \n",
      "Epoch 13, CIFAR-10 Batch 4:  Validation accuracy at 0.7422000169754028 --- Validation cost at 0.8506850600242615 \n",
      "Epoch 13, CIFAR-10 Batch 5:  Validation accuracy at 0.7257999777793884 --- Validation cost at 0.8927859663963318 \n",
      "Epoch 14, CIFAR-10 Batch 1:  Validation accuracy at 0.7364000082015991 --- Validation cost at 0.8647488355636597 \n",
      "Epoch 14, CIFAR-10 Batch 2:  Validation accuracy at 0.7458000183105469 --- Validation cost at 0.8421466946601868 \n",
      "Epoch 14, CIFAR-10 Batch 3:  Validation accuracy at 0.7419999837875366 --- Validation cost at 0.8395160436630249 \n",
      "Epoch 14, CIFAR-10 Batch 4:  Validation accuracy at 0.7445999979972839 --- Validation cost at 0.844027042388916 \n",
      "Epoch 14, CIFAR-10 Batch 5:  Validation accuracy at 0.7325999736785889 --- Validation cost at 0.8554804921150208 \n",
      "Epoch 15, CIFAR-10 Batch 1:  Validation accuracy at 0.72079998254776 --- Validation cost at 0.8796693086624146 \n",
      "Epoch 15, CIFAR-10 Batch 2:  Validation accuracy at 0.7501999735832214 --- Validation cost at 0.8351026177406311 \n"
     ]
    },
    {
     "name": "stdout",
     "output_type": "stream",
     "text": [
      "Epoch 15, CIFAR-10 Batch 3:  Validation accuracy at 0.7437999844551086 --- Validation cost at 0.8303476572036743 \n",
      "Epoch 15, CIFAR-10 Batch 4:  Validation accuracy at 0.7523999810218811 --- Validation cost at 0.8081970810890198 \n",
      "Epoch 15, CIFAR-10 Batch 5:  Validation accuracy at 0.7279999852180481 --- Validation cost at 0.8664923906326294 \n",
      "Epoch 16, CIFAR-10 Batch 1:  Validation accuracy at 0.7368000149726868 --- Validation cost at 0.8376997113227844 \n",
      "Epoch 16, CIFAR-10 Batch 2:  Validation accuracy at 0.7324000000953674 --- Validation cost at 0.8412150144577026 \n",
      "Epoch 16, CIFAR-10 Batch 3:  Validation accuracy at 0.745199978351593 --- Validation cost at 0.8103030323982239 \n",
      "Epoch 16, CIFAR-10 Batch 4:  Validation accuracy at 0.7418000102043152 --- Validation cost at 0.817192554473877 \n",
      "Epoch 16, CIFAR-10 Batch 5:  Validation accuracy at 0.7404000163078308 --- Validation cost at 0.8250390887260437 \n",
      "Epoch 17, CIFAR-10 Batch 1:  Validation accuracy at 0.7376000285148621 --- Validation cost at 0.8326587677001953 \n",
      "Epoch 17, CIFAR-10 Batch 2:  Validation accuracy at 0.748199999332428 --- Validation cost at 0.8061215281486511 \n",
      "Epoch 17, CIFAR-10 Batch 3:  Validation accuracy at 0.7441999912261963 --- Validation cost at 0.8156347870826721 \n",
      "Epoch 17, CIFAR-10 Batch 4:  Validation accuracy at 0.7437999844551086 --- Validation cost at 0.8121559619903564 \n",
      "Epoch 17, CIFAR-10 Batch 5:  Validation accuracy at 0.7483999729156494 --- Validation cost at 0.8019908666610718 \n",
      "Epoch 18, CIFAR-10 Batch 1:  Validation accuracy at 0.7368000149726868 --- Validation cost at 0.8267884850502014 \n",
      "Epoch 18, CIFAR-10 Batch 2:  Validation accuracy at 0.7455999851226807 --- Validation cost at 0.8116999268531799 \n",
      "Epoch 18, CIFAR-10 Batch 3:  Validation accuracy at 0.7504000067710876 --- Validation cost at 0.7979390025138855 \n",
      "Epoch 18, CIFAR-10 Batch 4:  Validation accuracy at 0.7483999729156494 --- Validation cost at 0.7993448376655579 \n",
      "Epoch 18, CIFAR-10 Batch 5:  Validation accuracy at 0.7411999702453613 --- Validation cost at 0.8175972700119019 \n",
      "Epoch 19, CIFAR-10 Batch 1:  Validation accuracy at 0.7332000136375427 --- Validation cost at 0.8335466980934143 \n",
      "Epoch 19, CIFAR-10 Batch 2:  Validation accuracy at 0.7476000189781189 --- Validation cost at 0.8019492626190186 \n",
      "Epoch 19, CIFAR-10 Batch 3:  Validation accuracy at 0.7562000155448914 --- Validation cost at 0.7750215530395508 \n",
      "Epoch 19, CIFAR-10 Batch 4:  Validation accuracy at 0.7436000108718872 --- Validation cost at 0.8095645308494568 \n",
      "Epoch 19, CIFAR-10 Batch 5:  Validation accuracy at 0.7440000176429749 --- Validation cost at 0.7975360155105591 \n",
      "Epoch 20, CIFAR-10 Batch 1:  Validation accuracy at 0.7472000122070312 --- Validation cost at 0.8020920157432556 \n",
      "Epoch 20, CIFAR-10 Batch 2:  Validation accuracy at 0.7562000155448914 --- Validation cost at 0.791168212890625 \n",
      "Epoch 20, CIFAR-10 Batch 3:  Validation accuracy at 0.7504000067710876 --- Validation cost at 0.792493999004364 \n",
      "Epoch 20, CIFAR-10 Batch 4:  Validation accuracy at 0.7491999864578247 --- Validation cost at 0.7966959476470947 \n",
      "Epoch 20, CIFAR-10 Batch 5:  Validation accuracy at 0.7444000244140625 --- Validation cost at 0.8014907240867615 \n",
      "Epoch 21, CIFAR-10 Batch 1:  Validation accuracy at 0.723800003528595 --- Validation cost at 0.8591634035110474 \n",
      "Epoch 21, CIFAR-10 Batch 2:  Validation accuracy at 0.7465999722480774 --- Validation cost at 0.8031463623046875 \n",
      "Epoch 21, CIFAR-10 Batch 3:  Validation accuracy at 0.7441999912261963 --- Validation cost at 0.7913020253181458 \n",
      "Epoch 21, CIFAR-10 Batch 4:  Validation accuracy at 0.7450000047683716 --- Validation cost at 0.7914648652076721 \n",
      "Epoch 21, CIFAR-10 Batch 5:  Validation accuracy at 0.7494000196456909 --- Validation cost at 0.7931702733039856 \n",
      "Epoch 22, CIFAR-10 Batch 1:  Validation accuracy at 0.7332000136375427 --- Validation cost at 0.8372759819030762 \n",
      "Epoch 22, CIFAR-10 Batch 2:  Validation accuracy at 0.7480000257492065 --- Validation cost at 0.7872921824455261 \n",
      "Epoch 22, CIFAR-10 Batch 3:  Validation accuracy at 0.7440000176429749 --- Validation cost at 0.8114009499549866 \n",
      "Epoch 22, CIFAR-10 Batch 4:  Validation accuracy at 0.7534000277519226 --- Validation cost at 0.7850664854049683 \n",
      "Epoch 22, CIFAR-10 Batch 5:  Validation accuracy at 0.7409999966621399 --- Validation cost at 0.8051111698150635 \n",
      "Epoch 23, CIFAR-10 Batch 1:  Validation accuracy at 0.7324000000953674 --- Validation cost at 0.8247194290161133 \n",
      "Epoch 23, CIFAR-10 Batch 2:  Validation accuracy at 0.7405999898910522 --- Validation cost at 0.7941445112228394 \n",
      "Epoch 23, CIFAR-10 Batch 3:  Validation accuracy at 0.7526000142097473 --- Validation cost at 0.7824904918670654 \n",
      "Epoch 23, CIFAR-10 Batch 4:  Validation accuracy at 0.7487999796867371 --- Validation cost at 0.7809959650039673 \n",
      "Epoch 23, CIFAR-10 Batch 5:  Validation accuracy at 0.743399977684021 --- Validation cost at 0.8028412461280823 \n",
      "Epoch 24, CIFAR-10 Batch 1:  Validation accuracy at 0.729200005531311 --- Validation cost at 0.842237114906311 \n",
      "Epoch 24, CIFAR-10 Batch 2:  Validation accuracy at 0.7423999905586243 --- Validation cost at 0.8042212128639221 \n",
      "Epoch 24, CIFAR-10 Batch 3:  Validation accuracy at 0.7519999742507935 --- Validation cost at 0.7860054969787598 \n",
      "Epoch 24, CIFAR-10 Batch 4:  Validation accuracy at 0.7509999871253967 --- Validation cost at 0.7953611612319946 \n",
      "Epoch 24, CIFAR-10 Batch 5:  Validation accuracy at 0.7476000189781189 --- Validation cost at 0.8033832907676697 \n",
      "Epoch 25, CIFAR-10 Batch 1:  Validation accuracy at 0.7337999939918518 --- Validation cost at 0.8534318208694458 \n",
      "Epoch 25, CIFAR-10 Batch 2:  Validation accuracy at 0.741599977016449 --- Validation cost at 0.8176996111869812 \n",
      "Epoch 25, CIFAR-10 Batch 3:  Validation accuracy at 0.7544000148773193 --- Validation cost at 0.7863991260528564 \n",
      "Epoch 25, CIFAR-10 Batch 4:  Validation accuracy at 0.7487999796867371 --- Validation cost at 0.8030364513397217 \n",
      "Epoch 25, CIFAR-10 Batch 5:  Validation accuracy at 0.7441999912261963 --- Validation cost at 0.7944453358650208 \n",
      "Epoch 26, CIFAR-10 Batch 1:  Validation accuracy at 0.7458000183105469 --- Validation cost at 0.8152557015419006 \n",
      "Epoch 26, CIFAR-10 Batch 2:  Validation accuracy at 0.7436000108718872 --- Validation cost at 0.8079923987388611 \n",
      "Epoch 26, CIFAR-10 Batch 3:  Validation accuracy at 0.758400022983551 --- Validation cost at 0.7804034948348999 \n",
      "Epoch 26, CIFAR-10 Batch 4:  Validation accuracy at 0.7450000047683716 --- Validation cost at 0.8142197132110596 \n",
      "Epoch 26, CIFAR-10 Batch 5:  Validation accuracy at 0.7509999871253967 --- Validation cost at 0.8001739978790283 \n",
      "Epoch 27, CIFAR-10 Batch 1:  Validation accuracy at 0.7378000020980835 --- Validation cost at 0.8317522406578064 \n",
      "Epoch 27, CIFAR-10 Batch 2:  Validation accuracy at 0.7423999905586243 --- Validation cost at 0.8140610456466675 \n",
      "Epoch 27, CIFAR-10 Batch 3:  Validation accuracy at 0.7504000067710876 --- Validation cost at 0.8093878626823425 \n",
      "Epoch 27, CIFAR-10 Batch 4:  Validation accuracy at 0.7458000183105469 --- Validation cost at 0.817538321018219 \n",
      "Epoch 27, CIFAR-10 Batch 5:  Validation accuracy at 0.7440000176429749 --- Validation cost at 0.8126449584960938 \n",
      "Epoch 28, CIFAR-10 Batch 1:  Validation accuracy at 0.7437999844551086 --- Validation cost at 0.8227362036705017 \n",
      "Epoch 28, CIFAR-10 Batch 2:  Validation accuracy at 0.7477999925613403 --- Validation cost at 0.8096352815628052 \n",
      "Epoch 28, CIFAR-10 Batch 3:  Validation accuracy at 0.7450000047683716 --- Validation cost at 0.8103742003440857 \n",
      "Epoch 28, CIFAR-10 Batch 4:  Validation accuracy at 0.7422000169754028 --- Validation cost at 0.8231263756752014 \n",
      "Epoch 28, CIFAR-10 Batch 5:  Validation accuracy at 0.7432000041007996 --- Validation cost at 0.8149669170379639 \n",
      "Epoch 29, CIFAR-10 Batch 1:  Validation accuracy at 0.7333999872207642 --- Validation cost at 0.8480484485626221 \n",
      "Epoch 29, CIFAR-10 Batch 2:  Validation accuracy at 0.7365999817848206 --- Validation cost at 0.8336169719696045 \n",
      "Epoch 29, CIFAR-10 Batch 3:  Validation accuracy at 0.7576000094413757 --- Validation cost at 0.7929065227508545 \n",
      "Epoch 29, CIFAR-10 Batch 4:  Validation accuracy at 0.7585999965667725 --- Validation cost at 0.7888824939727783 \n"
     ]
    },
    {
     "name": "stdout",
     "output_type": "stream",
     "text": [
      "Epoch 29, CIFAR-10 Batch 5:  Validation accuracy at 0.7480000257492065 --- Validation cost at 0.8130558133125305 \n",
      "Epoch 30, CIFAR-10 Batch 1:  Validation accuracy at 0.7354000210762024 --- Validation cost at 0.8502753973007202 \n",
      "Epoch 30, CIFAR-10 Batch 2:  Validation accuracy at 0.7473999857902527 --- Validation cost at 0.8350813388824463 \n",
      "Epoch 30, CIFAR-10 Batch 3:  Validation accuracy at 0.7585999965667725 --- Validation cost at 0.7959285974502563 \n",
      "Epoch 30, CIFAR-10 Batch 4:  Validation accuracy at 0.7476000189781189 --- Validation cost at 0.8235371112823486 \n",
      "Epoch 30, CIFAR-10 Batch 5:  Validation accuracy at 0.7508000135421753 --- Validation cost at 0.8132133483886719 \n"
     ]
    }
   ],
   "source": [
    "\"\"\"\n",
    "DON'T MODIFY ANYTHING IN THIS CELL\n",
    "\"\"\"\n",
    "save_model_path = './image_classification'\n",
    "\n",
    "print('Training...')\n",
    "with tf.Session() as sess:\n",
    "    # Initializing the variables\n",
    "    sess.run(tf.global_variables_initializer())\n",
    "    \n",
    "    # Training cycle\n",
    "    for epoch in range(epochs):\n",
    "        # Loop over all batches\n",
    "        n_batches = 5\n",
    "        for batch_i in range(1, n_batches + 1):\n",
    "            for batch_features, batch_labels in helper.load_preprocess_training_batch(batch_i, batch_size):\n",
    "                train_neural_network(sess, optimizer, keep_probability, batch_features, batch_labels)\n",
    "            print('Epoch {:>2}, CIFAR-10 Batch {}:  '.format(epoch + 1, batch_i), end='')\n",
    "            print_stats(sess, batch_features, batch_labels, cost, accuracy)\n",
    "            \n",
    "    # Save Model\n",
    "    saver = tf.train.Saver()\n",
    "    save_path = saver.save(sess, save_model_path)"
   ]
  },
  {
   "cell_type": "markdown",
   "metadata": {},
   "source": [
    "# Checkpoint\n",
    "The model has been saved to disk.\n",
    "## Test Model\n",
    "Test your model against the test dataset.  This will be your final accuracy. You should have an accuracy greater than 50%. If you don't, keep tweaking the model architecture and parameters."
   ]
  },
  {
   "cell_type": "code",
   "execution_count": 38,
   "metadata": {
    "scrolled": true
   },
   "outputs": [
    {
     "name": "stdout",
     "output_type": "stream",
     "text": [
      "INFO:tensorflow:Restoring parameters from ./image_classification\n",
      "Testing Accuracy: 0.7200437898089171\n",
      "\n"
     ]
    },
    {
     "data": {
      "image/png": "[encoded data removed]",
      "text/plain": [
       "<matplotlib.figure.Figure at 0x11d2964a8>"
      ]
     },
     "metadata": {
      "image/png": {
       "height": 319,
       "width": 355
      }
     },
     "output_type": "display_data"
    }
   ],
   "source": [
    "\"\"\"\n",
    "DON'T MODIFY ANYTHING IN THIS CELL\n",
    "\"\"\"\n",
    "%matplotlib inline\n",
    "%config InlineBackend.figure_format = 'retina'\n",
    "\n",
    "import tensorflow as tf\n",
    "import pickle\n",
    "import helper\n",
    "import random\n",
    "\n",
    "# Set batch size if not already set\n",
    "try:\n",
    "    if batch_size:\n",
    "        pass\n",
    "except NameError:\n",
    "    batch_size = 64\n",
    "\n",
    "save_model_path = './image_classification'\n",
    "n_samples = 4\n",
    "top_n_predictions = 3\n",
    "\n",
    "def test_model():\n",
    "    \"\"\"\n",
    "    Test the saved model against the test dataset\n",
    "    \"\"\"\n",
    "\n",
    "    test_features, test_labels = pickle.load(open('preprocess_test.p', mode='rb'))\n",
    "    loaded_graph = tf.Graph()\n",
    "\n",
    "    with tf.Session(graph=loaded_graph) as sess:\n",
    "        # Load model\n",
    "        loader = tf.train.import_meta_graph(save_model_path + '.meta')\n",
    "        loader.restore(sess, save_model_path)\n",
    "\n",
    "        # Get Tensors from loaded model\n",
    "        loaded_x = loaded_graph.get_tensor_by_name('x:0')\n",
    "        loaded_y = loaded_graph.get_tensor_by_name('y:0')\n",
    "        loaded_keep_prob = loaded_graph.get_tensor_by_name('keep_prob:0')\n",
    "        loaded_logits = loaded_graph.get_tensor_by_name('logits:0')\n",
    "        loaded_acc = loaded_graph.get_tensor_by_name('accuracy:0')\n",
    "        \n",
    "        # Get accuracy in batches for memory limitations\n",
    "        test_batch_acc_total = 0\n",
    "        test_batch_count = 0\n",
    "        \n",
    "        for test_feature_batch, test_label_batch in helper.batch_features_labels(test_features, test_labels, batch_size):\n",
    "            test_batch_acc_total += sess.run(\n",
    "                loaded_acc,\n",
    "                feed_dict={loaded_x: test_feature_batch, loaded_y: test_label_batch, loaded_keep_prob: 1.0})\n",
    "            test_batch_count += 1\n",
    "\n",
    "        print('Testing Accuracy: {}\\n'.format(test_batch_acc_total/test_batch_count))\n",
    "\n",
    "        # Print Random Samples\n",
    "        random_test_features, random_test_labels = tuple(zip(*random.sample(list(zip(test_features, test_labels)), n_samples)))\n",
    "        random_test_predictions = sess.run(\n",
    "            tf.nn.top_k(tf.nn.softmax(loaded_logits), top_n_predictions),\n",
    "            feed_dict={loaded_x: random_test_features, loaded_y: random_test_labels, loaded_keep_prob: 1.0})\n",
    "        helper.display_image_predictions(random_test_features, random_test_labels, random_test_predictions)\n",
    "\n",
    "\n",
    "test_model()"
   ]
  },
  {
   "cell_type": "markdown",
   "metadata": {},
   "source": [
    "## Why 50-80% Accuracy?\n",
    "You might be wondering why you can't get an accuracy any higher. First things first, 50% isn't bad for a simple CNN.  Pure guessing would get you 10% accuracy. However, you might notice people are getting scores [well above 80%](http://rodrigob.github.io/are_we_there_yet/build/classification_datasets_results.html#43494641522d3130).  That's because we haven't taught you all there is to know about neural networks. We still need to cover a few more techniques.\n",
    "## Submitting This Project\n",
    "When submitting this project, make sure to run all the cells before saving the notebook.  Save the notebook file as \"dlnd_image_classification.ipynb\" and save it as a HTML file under \"File\" -> \"Download as\".  Include the \"helper.py\" and \"problem_unittests.py\" files in your submission."
   ]
  }
 ],
 "metadata": {
  "kernelspec": {
   "display_name": "Python 3",
   "language": "python",
   "name": "python3"
  },
  "language_info": {
   "codemirror_mode": {
    "name": "ipython",
    "version": 3
   },
   "file_extension": ".py",
   "mimetype": "text/x-python",
   "name": "python",
   "nbconvert_exporter": "python",
   "pygments_lexer": "ipython3",
   "version": "3.6.1"
  }
 },
 "nbformat": 4,
 "nbformat_minor": 1
}
